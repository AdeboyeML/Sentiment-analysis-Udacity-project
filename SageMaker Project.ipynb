{
 "cells": [
  {
   "cell_type": "markdown",
   "metadata": {},
   "source": [
    "# Creating a Sentiment Analysis Web App\n",
    "## Using PyTorch and SageMaker\n",
    "\n",
    "_Deep Learning Nanodegree Program | Deployment_\n",
    "\n",
    "---\n",
    "\n",
    "Now that we have a basic understanding of how SageMaker works we will try to use it to construct a complete project from end to end. Our goal will be to have a simple web page which a user can use to enter a movie review. The web page will then send the review off to our deployed model which will predict the sentiment of the entered review.\n",
    "\n",
    "## Instructions\n",
    "\n",
    "Some template code has already been provided for you, and you will need to implement additional functionality to successfully complete this notebook. You will not need to modify the included code beyond what is requested. Sections that begin with '**TODO**' in the header indicate that you need to complete or implement some portion within them. Instructions will be provided for each section and the specifics of the implementation are marked in the code block with a `# TODO: ...` comment. Please be sure to read the instructions carefully!\n",
    "\n",
    "In addition to implementing code, there will be questions for you to answer which relate to the task and your implementation. Each section where you will answer a question is preceded by a '**Question:**' header. Carefully read each question and provide your answer below the '**Answer:**' header by editing the Markdown cell.\n",
    "\n",
    "> **Note**: Code and Markdown cells can be executed using the **Shift+Enter** keyboard shortcut. In addition, a cell can be edited by typically clicking it (double-click for Markdown cells) or by pressing **Enter** while it is highlighted.\n",
    "\n",
    "## General Outline\n",
    "\n",
    "Recall the general outline for SageMaker projects using a notebook instance.\n",
    "\n",
    "1. Download or otherwise retrieve the data.\n",
    "2. Process / Prepare the data.\n",
    "3. Upload the processed data to S3.\n",
    "4. Train a chosen model.\n",
    "5. Test the trained model (typically using a batch transform job).\n",
    "6. Deploy the trained model.\n",
    "7. Use the deployed model.\n",
    "\n",
    "For this project, you will be following the steps in the general outline with some modifications. \n",
    "\n",
    "First, you will not be testing the model in its own step. You will still be testing the model, however, you will do it by deploying your model and then using the deployed model by sending the test data to it. One of the reasons for doing this is so that you can make sure that your deployed model is working correctly before moving forward.\n",
    "\n",
    "In addition, you will deploy and use your trained model a second time. In the second iteration you will customize the way that your trained model is deployed by including some of your own code. In addition, your newly deployed model will be used in the sentiment analysis web app."
   ]
  },
  {
   "cell_type": "markdown",
   "metadata": {},
   "source": [
    "## Step 1: Downloading the data\n",
    "\n",
    "As in the XGBoost in SageMaker notebook, we will be using the [IMDb dataset](http://ai.stanford.edu/~amaas/data/sentiment/)\n",
    "\n",
    "> Maas, Andrew L., et al. [Learning Word Vectors for Sentiment Analysis](http://ai.stanford.edu/~amaas/data/sentiment/). In _Proceedings of the 49th Annual Meeting of the Association for Computational Linguistics: Human Language Technologies_. Association for Computational Linguistics, 2011."
   ]
  },
  {
   "cell_type": "code",
   "execution_count": 1,
   "metadata": {},
   "outputs": [
    {
     "name": "stdout",
     "output_type": "stream",
     "text": [
      "--2019-11-09 10:53:51--  http://ai.stanford.edu/~amaas/data/sentiment/aclImdb_v1.tar.gz\n",
      "Resolving ai.stanford.edu (ai.stanford.edu)... 171.64.68.10\n",
      "Connecting to ai.stanford.edu (ai.stanford.edu)|171.64.68.10|:80... connected.\n",
      "HTTP request sent, awaiting response... 200 OK\n",
      "Length: 84125825 (80M) [application/x-gzip]\n",
      "Saving to: ‘../data/aclImdb_v1.tar.gz’\n",
      "\n",
      "../data/aclImdb_v1. 100%[===================>]  80.23M  23.6MB/s    in 3.7s    \n",
      "\n",
      "2019-11-09 10:53:55 (21.5 MB/s) - ‘../data/aclImdb_v1.tar.gz’ saved [84125825/84125825]\n",
      "\n"
     ]
    }
   ],
   "source": [
    "%mkdir ../data\n",
    "!wget -O ../data/aclImdb_v1.tar.gz http://ai.stanford.edu/~amaas/data/sentiment/aclImdb_v1.tar.gz\n",
    "!tar -zxf ../data/aclImdb_v1.tar.gz -C ../data"
   ]
  },
  {
   "cell_type": "markdown",
   "metadata": {},
   "source": [
    "## Step 2: Preparing and Processing the data\n",
    "\n",
    "Also, as in the XGBoost notebook, we will be doing some initial data processing. The first few steps are the same as in the XGBoost example. To begin with, we will read in each of the reviews and combine them into a single input structure. Then, we will split the dataset into a training set and a testing set."
   ]
  },
  {
   "cell_type": "code",
   "execution_count": 2,
   "metadata": {},
   "outputs": [],
   "source": [
    "import os\n",
    "import glob\n",
    "\n",
    "def read_imdb_data(data_dir='../data/aclImdb'):\n",
    "    data = {}\n",
    "    labels = {}\n",
    "    \n",
    "    for data_type in ['train', 'test']:\n",
    "        data[data_type] = {}\n",
    "        labels[data_type] = {}\n",
    "        \n",
    "        for sentiment in ['pos', 'neg']:\n",
    "            data[data_type][sentiment] = []\n",
    "            labels[data_type][sentiment] = []\n",
    "            \n",
    "            path = os.path.join(data_dir, data_type, sentiment, '*.txt')\n",
    "            files = glob.glob(path)\n",
    "            \n",
    "            for f in files:\n",
    "                with open(f) as review:\n",
    "                    data[data_type][sentiment].append(review.read())\n",
    "                    # Here we represent a positive review by '1' and a negative review by '0'\n",
    "                    labels[data_type][sentiment].append(1 if sentiment == 'pos' else 0)\n",
    "                    \n",
    "            assert len(data[data_type][sentiment]) == len(labels[data_type][sentiment]), \\\n",
    "                    \"{}/{} data size does not match labels size\".format(data_type, sentiment)\n",
    "                \n",
    "    return data, labels"
   ]
  },
  {
   "cell_type": "code",
   "execution_count": 3,
   "metadata": {},
   "outputs": [
    {
     "name": "stdout",
     "output_type": "stream",
     "text": [
      "IMDB reviews: train = 12500 pos / 12500 neg, test = 12500 pos / 12500 neg\n"
     ]
    }
   ],
   "source": [
    "data, labels = read_imdb_data()\n",
    "print(\"IMDB reviews: train = {} pos / {} neg, test = {} pos / {} neg\".format(\n",
    "            len(data['train']['pos']), len(data['train']['neg']),\n",
    "            len(data['test']['pos']), len(data['test']['neg'])))"
   ]
  },
  {
   "cell_type": "markdown",
   "metadata": {},
   "source": [
    "Now that we've read the raw training and testing data from the downloaded dataset, we will combine the positive and negative reviews and shuffle the resulting records."
   ]
  },
  {
   "cell_type": "code",
   "execution_count": 4,
   "metadata": {},
   "outputs": [],
   "source": [
    "from sklearn.utils import shuffle\n",
    "\n",
    "def prepare_imdb_data(data, labels):\n",
    "    \"\"\"Prepare training and test sets from IMDb movie reviews.\"\"\"\n",
    "    \n",
    "    #Combine positive and negative reviews and labels\n",
    "    data_train = data['train']['pos'] + data['train']['neg']\n",
    "    data_test = data['test']['pos'] + data['test']['neg']\n",
    "    labels_train = labels['train']['pos'] + labels['train']['neg']\n",
    "    labels_test = labels['test']['pos'] + labels['test']['neg']\n",
    "    \n",
    "    #Shuffle reviews and corresponding labels within training and test sets\n",
    "    data_train, labels_train = shuffle(data_train, labels_train)\n",
    "    data_test, labels_test = shuffle(data_test, labels_test)\n",
    "    \n",
    "    # Return a unified training data, test data, training labels, test labets\n",
    "    return data_train, data_test, labels_train, labels_test"
   ]
  },
  {
   "cell_type": "code",
   "execution_count": 5,
   "metadata": {},
   "outputs": [
    {
     "name": "stdout",
     "output_type": "stream",
     "text": [
      "IMDb reviews (combined): train = 25000, test = 25000\n"
     ]
    }
   ],
   "source": [
    "train_X, test_X, train_y, test_y = prepare_imdb_data(data, labels)\n",
    "print(\"IMDb reviews (combined): train = {}, test = {}\".format(len(train_X), len(test_X)))"
   ]
  },
  {
   "cell_type": "markdown",
   "metadata": {},
   "source": [
    "Now that we have our training and testing sets unified and prepared, we should do a quick check and see an example of the data our model will be trained on. This is generally a good idea as it allows you to see how each of the further processing steps affects the reviews and it also ensures that the data has been loaded correctly."
   ]
  },
  {
   "cell_type": "code",
   "execution_count": 6,
   "metadata": {},
   "outputs": [
    {
     "name": "stdout",
     "output_type": "stream",
     "text": [
      "I have watched this movie well over 100-200 times, and I love it each and every time I watched it. Yes, it can be very corny but it is also very funny and enjoyable. The camp shown in the movie is a real camp that I actually attended for 7 years and is portrayed as camp really is, a great place to spend the summer. Everyone who has ever gone to camp, wanted to go to camp, or has sent a child to camp should see this movie because it'll bring back wonderful memories for you and for your kids.\n",
      "1\n"
     ]
    }
   ],
   "source": [
    "print(train_X[100])\n",
    "print(train_y[100])"
   ]
  },
  {
   "cell_type": "markdown",
   "metadata": {},
   "source": [
    "The first step in processing the reviews is to make sure that any html tags that appear should be removed. In addition we wish to tokenize our input, that way words such as *entertained* and *entertaining* are considered the same with regard to sentiment analysis."
   ]
  },
  {
   "cell_type": "code",
   "execution_count": 7,
   "metadata": {},
   "outputs": [],
   "source": [
    "import nltk\n",
    "from nltk.corpus import stopwords\n",
    "from nltk.stem.porter import *\n",
    "\n",
    "import re\n",
    "from bs4 import BeautifulSoup\n",
    "\n",
    "def review_to_words(review):\n",
    "    nltk.download(\"stopwords\", quiet=True)\n",
    "    stemmer = PorterStemmer()\n",
    "    \n",
    "    text = BeautifulSoup(review, \"html.parser\").get_text() # Remove HTML tags\n",
    "    text = re.sub(r\"[^a-zA-Z0-9]\", \" \", text.lower()) # Convert to lower case\n",
    "    words = text.split() # Split string into words\n",
    "    words = [w for w in words if w not in stopwords.words(\"english\")] # Remove stopwords\n",
    "    words = [PorterStemmer().stem(w) for w in words] # stem\n",
    "    \n",
    "    return words"
   ]
  },
  {
   "cell_type": "markdown",
   "metadata": {},
   "source": [
    "The `review_to_words` method defined above uses `BeautifulSoup` to remove any html tags that appear and uses the `nltk` package to tokenize the reviews. As a check to ensure we know how everything is working, try applying `review_to_words` to one of the reviews in the training set."
   ]
  },
  {
   "cell_type": "code",
   "execution_count": 8,
   "metadata": {},
   "outputs": [
    {
     "data": {
      "text/plain": [
       "['watch',\n",
       " 'movi',\n",
       " 'well',\n",
       " '100',\n",
       " '200',\n",
       " 'time',\n",
       " 'love',\n",
       " 'everi',\n",
       " 'time',\n",
       " 'watch',\n",
       " 'ye',\n",
       " 'corni',\n",
       " 'also',\n",
       " 'funni',\n",
       " 'enjoy',\n",
       " 'camp',\n",
       " 'shown',\n",
       " 'movi',\n",
       " 'real',\n",
       " 'camp',\n",
       " 'actual',\n",
       " 'attend',\n",
       " '7',\n",
       " 'year',\n",
       " 'portray',\n",
       " 'camp',\n",
       " 'realli',\n",
       " 'great',\n",
       " 'place',\n",
       " 'spend',\n",
       " 'summer',\n",
       " 'everyon',\n",
       " 'ever',\n",
       " 'gone',\n",
       " 'camp',\n",
       " 'want',\n",
       " 'go',\n",
       " 'camp',\n",
       " 'sent',\n",
       " 'child',\n",
       " 'camp',\n",
       " 'see',\n",
       " 'movi',\n",
       " 'bring',\n",
       " 'back',\n",
       " 'wonder',\n",
       " 'memori',\n",
       " 'kid']"
      ]
     },
     "execution_count": 8,
     "metadata": {},
     "output_type": "execute_result"
    }
   ],
   "source": [
    "# TODO: Apply review_to_words to a review (train_X[100] or any other review)\n",
    "review_to_words(train_X[100])"
   ]
  },
  {
   "cell_type": "markdown",
   "metadata": {},
   "source": [
    "**Question:** Above we mentioned that `review_to_words` method removes html formatting and allows us to tokenize the words found in a review, for example, converting *entertained* and *entertaining* into *entertain* so that they are treated as though they are the same word. What else, if anything, does this method do to the input?"
   ]
  },
  {
   "cell_type": "markdown",
   "metadata": {},
   "source": [
    "**Answer:** The review_to_words method further performs the following preprocessing techniques which includes ***Lowercasing, Stemming, Stopwords and Noise Removal,*** on the data set provided.  Each of this techniques helps significantly in the consistency of having expected output (i.e. lowercasing), useful for dealing with sparsity issues as well as standardizing vocabulary (i.e. Stemming), removal of a set of commonly used words in english in order to focus on the important words instead (i.e. Stopwords removal) and further removing characters digits and pieces of text that can interfere with our text analysis (i.e. Noise Removal)."
   ]
  },
  {
   "cell_type": "markdown",
   "metadata": {},
   "source": [
    "The method below applies the `review_to_words` method to each of the reviews in the training and testing datasets. In addition it caches the results. This is because performing this processing step can take a long time. This way if you are unable to complete the notebook in the current session, you can come back without needing to process the data a second time."
   ]
  },
  {
   "cell_type": "code",
   "execution_count": 9,
   "metadata": {},
   "outputs": [],
   "source": [
    "import pickle\n",
    "\n",
    "cache_dir = os.path.join(\"../cache\", \"sentiment_analysis\")  # where to store cache files\n",
    "os.makedirs(cache_dir, exist_ok=True)  # ensure cache directory exists\n",
    "\n",
    "def preprocess_data(data_train, data_test, labels_train, labels_test,\n",
    "                    cache_dir=cache_dir, cache_file=\"preprocessed_data.pkl\"):\n",
    "    \"\"\"Convert each review to words; read from cache if available.\"\"\"\n",
    "\n",
    "    # If cache_file is not None, try to read from it first\n",
    "    cache_data = None\n",
    "    if cache_file is not None:\n",
    "        try:\n",
    "            with open(os.path.join(cache_dir, cache_file), \"rb\") as f:\n",
    "                cache_data = pickle.load(f)\n",
    "            print(\"Read preprocessed data from cache file:\", cache_file)\n",
    "        except:\n",
    "            pass  # unable to read from cache, but that's okay\n",
    "    \n",
    "    # If cache is missing, then do the heavy lifting\n",
    "    if cache_data is None:\n",
    "        # Preprocess training and test data to obtain words for each review\n",
    "        #words_train = list(map(review_to_words, data_train))\n",
    "        #words_test = list(map(review_to_words, data_test))\n",
    "        words_train = [review_to_words(review) for review in data_train]\n",
    "        words_test = [review_to_words(review) for review in data_test]\n",
    "        \n",
    "        # Write to cache file for future runs\n",
    "        if cache_file is not None:\n",
    "            cache_data = dict(words_train=words_train, words_test=words_test,\n",
    "                              labels_train=labels_train, labels_test=labels_test)\n",
    "            with open(os.path.join(cache_dir, cache_file), \"wb\") as f:\n",
    "                pickle.dump(cache_data, f)\n",
    "            print(\"Wrote preprocessed data to cache file:\", cache_file)\n",
    "    else:\n",
    "        # Unpack data loaded from cache file\n",
    "        words_train, words_test, labels_train, labels_test = (cache_data['words_train'],\n",
    "                cache_data['words_test'], cache_data['labels_train'], cache_data['labels_test'])\n",
    "    \n",
    "    return words_train, words_test, labels_train, labels_test"
   ]
  },
  {
   "cell_type": "code",
   "execution_count": 11,
   "metadata": {},
   "outputs": [
    {
     "name": "stdout",
     "output_type": "stream",
     "text": [
      "Read preprocessed data from cache file: preprocessed_data.pkl\n"
     ]
    }
   ],
   "source": [
    "# Preprocess data\n",
    "train_X, test_X, train_y, test_y = preprocess_data(train_X, test_X, train_y, test_y)"
   ]
  },
  {
   "cell_type": "markdown",
   "metadata": {},
   "source": [
    "## Transform the data\n",
    "\n",
    "In the XGBoost notebook we transformed the data from its word representation to a bag-of-words feature representation. For the model we are going to construct in this notebook we will construct a feature representation which is very similar. To start, we will represent each word as an integer. Of course, some of the words that appear in the reviews occur very infrequently and so likely don't contain much information for the purposes of sentiment analysis. The way we will deal with this problem is that we will fix the size of our working vocabulary and we will only include the words that appear most frequently. We will then combine all of the infrequent words into a single category and, in our case, we will label it as `1`.\n",
    "\n",
    "Since we will be using a recurrent neural network, it will be convenient if the length of each review is the same. To do this, we will fix a size for our reviews and then pad short reviews with the category 'no word' (which we will label `0`) and truncate long reviews."
   ]
  },
  {
   "cell_type": "markdown",
   "metadata": {},
   "source": [
    "### (TODO) Create a word dictionary\n",
    "\n",
    "To begin with, we need to construct a way to map words that appear in the reviews to integers. Here we fix the size of our vocabulary (including the 'no word' and 'infrequent' categories) to be `5000` but you may wish to change this to see how it affects the model.\n",
    "\n",
    "> **TODO:** Complete the implementation for the `build_dict()` method below. Note that even though the vocab_size is set to `5000`, we only want to construct a mapping for the most frequently appearing `4998` words. This is because we want to reserve the special labels `0` for 'no word' and `1` for 'infrequent word'."
   ]
  },
  {
   "cell_type": "code",
   "execution_count": 12,
   "metadata": {},
   "outputs": [],
   "source": [
    "import numpy as np\n",
    "\n",
    "def build_dict(data, vocab_size = 5000):\n",
    "    \"\"\"Construct and return a dictionary mapping each of the most frequently appearing words to a unique integer.\"\"\"\n",
    "    \n",
    "    # TODO: Determine how often each word appears in `data`. Note that `data` is a list of sentences and that a\n",
    "    #       sentence is a list of words.\n",
    "    \n",
    "    word_count = {} # A dict storing the words that appear in the reviews along with how often they occur\n",
    "    for sentences in data:\n",
    "        for words in sentences:\n",
    "            if words in word_count:\n",
    "                word_count[words] += 1\n",
    "            else:\n",
    "                word_count[words] = 1\n",
    "    \n",
    "    # TODO: Sort the words found in `data` so that sorted_words[0] is the most frequently appearing word and\n",
    "    #       sorted_words[-1] is the least frequently appearing word.\n",
    "    \n",
    "    sorted_words = None\n",
    "    sorted_words = sorted(word_count, key = word_count.get, reverse = True)\n",
    "    \n",
    "    word_dict = {} # This is what we are building, a dictionary that translates words into integers\n",
    "    for idx, word in enumerate(sorted_words[:vocab_size - 2]): # The -2 is so that we save room for the 'no word'\n",
    "        word_dict[word] = idx + 2                              # 'infrequent' labels\n",
    "        \n",
    "    return word_dict"
   ]
  },
  {
   "cell_type": "code",
   "execution_count": 13,
   "metadata": {},
   "outputs": [],
   "source": [
    "word_dict = build_dict(train_X)"
   ]
  },
  {
   "cell_type": "code",
   "execution_count": 14,
   "metadata": {},
   "outputs": [
    {
     "name": "stdout",
     "output_type": "stream",
     "text": [
      "{'movi': 2, 'film': 3, 'one': 4, 'like': 5, 'time': 6, 'good': 7, 'make': 8, 'charact': 9, 'get': 10, 'see': 11, 'watch': 12, 'stori': 13, 'even': 14, 'would': 15, 'realli': 16, 'well': 17, 'scene': 18, 'look': 19, 'show': 20, 'much': 21, 'end': 22, 'peopl': 23, 'bad': 24, 'go': 25, 'great': 26, 'also': 27, 'first': 28, 'love': 29, 'think': 30, 'way': 31, 'act': 32, 'play': 33, 'made': 34, 'thing': 35, 'could': 36, 'know': 37, 'say': 38, 'seem': 39, 'work': 40, 'plot': 41, 'two': 42, 'actor': 43, 'year': 44, 'come': 45, 'mani': 46, 'seen': 47, 'take': 48, 'want': 49, 'life': 50, 'never': 51, 'littl': 52, 'best': 53, 'tri': 54, 'man': 55, 'ever': 56, 'give': 57, 'better': 58, 'still': 59, 'perform': 60, 'find': 61, 'feel': 62, 'part': 63, 'back': 64, 'use': 65, 'someth': 66, 'director': 67, 'actual': 68, 'interest': 69, 'lot': 70, 'real': 71, 'old': 72, 'cast': 73, 'though': 74, 'live': 75, 'star': 76, 'enjoy': 77, 'guy': 78, 'anoth': 79, 'new': 80, 'role': 81, 'noth': 82, '10': 83, 'funni': 84, 'music': 85, 'point': 86, 'start': 87, 'set': 88, 'girl': 89, 'origin': 90, 'day': 91, 'world': 92, 'everi': 93, 'believ': 94, 'turn': 95, 'quit': 96, 'direct': 97, 'us': 98, 'thought': 99, 'fact': 100, 'minut': 101, 'horror': 102, 'kill': 103, 'action': 104, 'comedi': 105, 'pretti': 106, 'young': 107, 'wonder': 108, 'happen': 109, 'around': 110, 'got': 111, 'effect': 112, 'right': 113, 'long': 114, 'howev': 115, 'big': 116, 'line': 117, 'famili': 118, 'enough': 119, 'seri': 120, 'may': 121, 'need': 122, 'fan': 123, 'bit': 124, 'script': 125, 'beauti': 126, 'person': 127, 'becom': 128, 'without': 129, 'must': 130, 'alway': 131, 'friend': 132, 'tell': 133, 'reason': 134, 'saw': 135, 'last': 136, 'final': 137, 'kid': 138, 'almost': 139, 'put': 140, 'least': 141, 'sure': 142, 'done': 143, 'whole': 144, 'place': 145, 'complet': 146, 'kind': 147, 'differ': 148, 'expect': 149, 'shot': 150, 'far': 151, 'mean': 152, 'anyth': 153, 'book': 154, 'laugh': 155, 'might': 156, 'name': 157, 'sinc': 158, 'begin': 159, '2': 160, 'probabl': 161, 'woman': 162, 'help': 163, 'entertain': 164, 'let': 165, 'screen': 166, 'call': 167, 'tv': 168, 'moment': 169, 'away': 170, 'read': 171, 'yet': 172, 'rather': 173, 'worst': 174, 'run': 175, 'fun': 176, 'lead': 177, 'hard': 178, 'audienc': 179, 'idea': 180, 'anyon': 181, 'episod': 182, 'american': 183, 'found': 184, 'appear': 185, 'bore': 186, 'especi': 187, 'although': 188, 'hope': 189, 'keep': 190, 'cours': 191, 'anim': 192, 'job': 193, 'goe': 194, 'move': 195, 'sens': 196, 'version': 197, 'dvd': 198, 'war': 199, 'money': 200, 'someon': 201, 'mind': 202, 'mayb': 203, 'problem': 204, 'true': 205, 'hous': 206, 'everyth': 207, 'nice': 208, 'second': 209, 'rate': 210, 'three': 211, 'night': 212, 'face': 213, 'follow': 214, 'recommend': 215, 'product': 216, 'main': 217, 'worth': 218, 'leav': 219, 'human': 220, 'special': 221, 'excel': 222, 'togeth': 223, 'wast': 224, 'sound': 225, 'everyon': 226, 'john': 227, 'hand': 228, '1': 229, 'father': 230, 'later': 231, 'eye': 232, 'said': 233, 'view': 234, 'instead': 235, 'review': 236, 'boy': 237, 'high': 238, 'hour': 239, 'miss': 240, 'talk': 241, 'classic': 242, 'wife': 243, 'understand': 244, 'left': 245, 'care': 246, 'black': 247, 'death': 248, 'open': 249, 'murder': 250, 'write': 251, 'half': 252, 'head': 253, 'rememb': 254, 'chang': 255, 'viewer': 256, 'fight': 257, 'gener': 258, 'surpris': 259, 'short': 260, 'includ': 261, 'die': 262, 'fall': 263, 'less': 264, 'els': 265, 'entir': 266, 'piec': 267, 'involv': 268, 'pictur': 269, 'simpli': 270, 'power': 271, 'top': 272, 'home': 273, 'total': 274, 'usual': 275, 'budget': 276, 'attempt': 277, 'suppos': 278, 'releas': 279, 'hollywood': 280, 'terribl': 281, 'song': 282, 'men': 283, 'possibl': 284, 'featur': 285, 'portray': 286, 'disappoint': 287, 'poor': 288, '3': 289, 'coupl': 290, 'camera': 291, 'stupid': 292, 'dead': 293, 'wrong': 294, 'produc': 295, 'low': 296, 'either': 297, 'video': 298, 'aw': 299, 'definit': 300, 'except': 301, 'rest': 302, 'given': 303, 'absolut': 304, 'women': 305, 'lack': 306, 'word': 307, 'writer': 308, 'titl': 309, 'talent': 310, 'decid': 311, 'full': 312, 'perfect': 313, 'along': 314, 'style': 315, 'close': 316, 'truli': 317, 'school': 318, 'emot': 319, 'save': 320, 'age': 321, 'sex': 322, 'next': 323, 'bring': 324, 'mr': 325, 'case': 326, 'killer': 327, 'heart': 328, 'comment': 329, 'sort': 330, 'creat': 331, 'perhap': 332, 'came': 333, 'brother': 334, 'sever': 335, 'joke': 336, 'art': 337, 'dialogu': 338, 'game': 339, 'small': 340, 'base': 341, 'flick': 342, 'written': 343, 'sequenc': 344, 'meet': 345, 'earli': 346, 'often': 347, 'other': 348, 'mother': 349, 'develop': 350, 'humor': 351, 'actress': 352, 'consid': 353, 'dark': 354, 'guess': 355, 'amaz': 356, 'unfortun': 357, 'lost': 358, 'light': 359, 'exampl': 360, 'cinema': 361, 'drama': 362, 'white': 363, 'ye': 364, 'experi': 365, 'imagin': 366, 'mention': 367, 'stop': 368, 'natur': 369, 'forc': 370, 'manag': 371, 'felt': 372, 'present': 373, 'cut': 374, 'children': 375, 'fail': 376, 'son': 377, 'support': 378, 'qualiti': 379, 'car': 380, 'ask': 381, 'hit': 382, 'side': 383, 'voic': 384, 'extrem': 385, 'impress': 386, 'evil': 387, 'wors': 388, 'went': 389, 'stand': 390, 'certainli': 391, 'basic': 392, 'oh': 393, 'overal': 394, 'favorit': 395, 'horribl': 396, 'mysteri': 397, 'number': 398, 'type': 399, 'danc': 400, 'wait': 401, 'hero': 402, 'alreadi': 403, '5': 404, 'learn': 405, 'matter': 406, '4': 407, 'michael': 408, 'genr': 409, 'fine': 410, 'despit': 411, 'throughout': 412, 'walk': 413, 'success': 414, 'histori': 415, 'question': 416, 'zombi': 417, 'town': 418, 'realiz': 419, 'relationship': 420, 'child': 421, 'past': 422, 'daughter': 423, 'late': 424, 'b': 425, 'wish': 426, 'hate': 427, 'credit': 428, 'event': 429, 'theme': 430, 'touch': 431, 'citi': 432, 'today': 433, 'sometim': 434, 'behind': 435, 'god': 436, 'twist': 437, 'sit': 438, 'stay': 439, 'deal': 440, 'annoy': 441, 'abl': 442, 'rent': 443, 'pleas': 444, 'edit': 445, 'blood': 446, 'deserv': 447, 'comic': 448, 'anyway': 449, 'appar': 450, 'soon': 451, 'gave': 452, 'etc': 453, 'level': 454, 'slow': 455, 'chanc': 456, 'score': 457, 'bodi': 458, 'brilliant': 459, 'incred': 460, 'figur': 461, 'situat': 462, 'self': 463, 'major': 464, 'stuff': 465, 'decent': 466, 'element': 467, 'dream': 468, 'return': 469, 'obvious': 470, 'order': 471, 'continu': 472, 'pace': 473, 'ridicul': 474, 'happi': 475, 'highli': 476, 'group': 477, 'add': 478, 'thank': 479, 'ladi': 480, 'novel': 481, 'speak': 482, 'pain': 483, 'career': 484, 'shoot': 485, 'strang': 486, 'heard': 487, 'sad': 488, 'husband': 489, 'polic': 490, 'import': 491, 'break': 492, 'took': 493, 'strong': 494, 'cannot': 495, 'robert': 496, 'predict': 497, 'violenc': 498, 'hilari': 499, 'recent': 500, 'countri': 501, 'known': 502, 'particularli': 503, 'pick': 504, 'documentari': 505, 'season': 506, 'critic': 507, 'jame': 508, 'compar': 509, 'alon': 510, 'obviou': 511, 'told': 512, 'state': 513, 'visual': 514, 'rock': 515, 'exist': 516, 'offer': 517, 'theater': 518, 'opinion': 519, 'gore': 520, 'crap': 521, 'hold': 522, 'result': 523, 'hear': 524, 'room': 525, 'realiti': 526, 'clich': 527, 'effort': 528, 'thriller': 529, 'caus': 530, 'serious': 531, 'explain': 532, 'sequel': 533, 'king': 534, 'local': 535, 'ago': 536, 'hell': 537, 'none': 538, 'note': 539, 'allow': 540, 'david': 541, 'sister': 542, 'simpl': 543, 'femal': 544, 'deliv': 545, 'ok': 546, 'convinc': 547, 'class': 548, 'check': 549, 'suspens': 550, 'win': 551, 'oscar': 552, 'buy': 553, 'huge': 554, 'valu': 555, 'sexual': 556, 'scari': 557, 'cool': 558, 'similar': 559, 'excit': 560, 'exactli': 561, 'provid': 562, 'apart': 563, 'shown': 564, 'avoid': 565, 'seriou': 566, 'english': 567, 'taken': 568, 'whose': 569, 'cinematographi': 570, 'shock': 571, 'polit': 572, 'spoiler': 573, 'offic': 574, 'across': 575, 'middl': 576, 'street': 577, 'pass': 578, 'messag': 579, 'charm': 580, 'somewhat': 581, 'silli': 582, 'modern': 583, 'filmmak': 584, 'confus': 585, 'form': 586, 'tale': 587, 'singl': 588, 'jack': 589, 'mostli': 590, 'carri': 591, 'attent': 592, 'william': 593, 'sing': 594, 'subject': 595, 'five': 596, 'prove': 597, 'richard': 598, 'team': 599, 'stage': 600, 'cop': 601, 'unlik': 602, 'georg': 603, 'monster': 604, 'televis': 605, 'earth': 606, 'villain': 607, 'cover': 608, 'pay': 609, 'marri': 610, 'toward': 611, 'build': 612, 'pull': 613, 'parent': 614, 'due': 615, 'fill': 616, 'respect': 617, 'four': 618, 'dialog': 619, 'remind': 620, 'futur': 621, 'typic': 622, 'weak': 623, '7': 624, 'cheap': 625, 'intellig': 626, 'atmospher': 627, 'british': 628, '80': 629, 'clearli': 630, 'dog': 631, 'non': 632, 'paul': 633, 'knew': 634, '8': 635, 'artist': 636, 'fast': 637, 'crime': 638, 'easili': 639, 'escap': 640, 'adult': 641, 'doubt': 642, 'detail': 643, 'date': 644, 'romant': 645, 'fire': 646, 'member': 647, 'drive': 648, 'gun': 649, 'straight': 650, 'fit': 651, 'beyond': 652, 'attack': 653, 'imag': 654, 'upon': 655, 'posit': 656, 'whether': 657, 'peter': 658, 'fantast': 659, 'captur': 660, 'aspect': 661, 'appreci': 662, 'ten': 663, 'plan': 664, 'discov': 665, 'remain': 666, 'near': 667, 'period': 668, 'realist': 669, 'air': 670, 'mark': 671, 'red': 672, 'dull': 673, 'adapt': 674, 'within': 675, 'spend': 676, 'lose': 677, 'materi': 678, 'color': 679, 'chase': 680, 'mari': 681, 'storylin': 682, 'forget': 683, 'bunch': 684, 'clear': 685, 'lee': 686, 'victim': 687, 'nearli': 688, 'box': 689, 'york': 690, 'match': 691, 'inspir': 692, 'finish': 693, 'mess': 694, 'standard': 695, 'easi': 696, 'truth': 697, 'suffer': 698, 'busi': 699, 'dramat': 700, 'bill': 701, 'space': 702, 'western': 703, 'e': 704, 'list': 705, 'battl': 706, 'notic': 707, 'de': 708, 'french': 709, 'ad': 710, '9': 711, 'tom': 712, 'larg': 713, 'among': 714, 'eventu': 715, 'accept': 716, 'train': 717, 'agre': 718, 'spirit': 719, 'soundtrack': 720, 'third': 721, 'teenag': 722, 'adventur': 723, 'soldier': 724, 'sorri': 725, 'suggest': 726, 'drug': 727, 'famou': 728, 'cri': 729, 'normal': 730, 'babi': 731, 'ultim': 732, 'troubl': 733, 'contain': 734, 'certain': 735, 'cultur': 736, 'romanc': 737, 'rare': 738, 'lame': 739, 'somehow': 740, 'mix': 741, 'disney': 742, 'gone': 743, 'cartoon': 744, 'student': 745, 'fear': 746, 'reveal': 747, 'suck': 748, 'kept': 749, 'attract': 750, 'appeal': 751, 'premis': 752, 'secret': 753, 'greatest': 754, 'design': 755, 'shame': 756, 'throw': 757, 'copi': 758, 'scare': 759, 'wit': 760, 'america': 761, 'admit': 762, 'particular': 763, 'brought': 764, 'relat': 765, 'screenplay': 766, 'whatev': 767, 'pure': 768, '70': 769, 'averag': 770, 'harri': 771, 'master': 772, 'describ': 773, 'treat': 774, 'male': 775, '20': 776, 'fantasi': 777, 'issu': 778, 'warn': 779, 'inde': 780, 'background': 781, 'forward': 782, 'project': 783, 'free': 784, 'japanes': 785, 'memor': 786, 'poorli': 787, 'award': 788, 'locat': 789, 'potenti': 790, 'amus': 791, 'struggl': 792, 'magic': 793, 'weird': 794, 'societi': 795, 'okay': 796, 'imdb': 797, 'doctor': 798, 'accent': 799, 'hot': 800, 'water': 801, '30': 802, 'express': 803, 'dr': 804, 'alien': 805, 'odd': 806, 'choic': 807, 'crazi': 808, 'studio': 809, 'fiction': 810, 'control': 811, 'becam': 812, 'masterpiec': 813, 'difficult': 814, 'fli': 815, 'joe': 816, 'scream': 817, 'costum': 818, 'lover': 819, 'refer': 820, 'uniqu': 821, 'remak': 822, 'vampir': 823, 'girlfriend': 824, 'prison': 825, 'execut': 826, 'wear': 827, 'jump': 828, 'unless': 829, 'wood': 830, 'creepi': 831, 'cheesi': 832, 'superb': 833, 'otherwis': 834, 'parti': 835, 'ghost': 836, 'roll': 837, 'mad': 838, 'public': 839, 'depict': 840, 'moral': 841, 'week': 842, 'earlier': 843, 'badli': 844, 'jane': 845, 'fi': 846, 'dumb': 847, 'flaw': 848, 'grow': 849, 'sci': 850, 'deep': 851, 'cat': 852, 'maker': 853, 'connect': 854, 'footag': 855, 'older': 856, 'plenti': 857, 'bother': 858, 'outsid': 859, 'stick': 860, 'gay': 861, 'catch': 862, 'plu': 863, 'co': 864, 'popular': 865, 'equal': 866, 'social': 867, 'quickli': 868, 'disturb': 869, 'perfectli': 870, 'dress': 871, 'era': 872, '90': 873, 'mistak': 874, 'lie': 875, 'previou': 876, 'ride': 877, 'combin': 878, 'concept': 879, 'band': 880, 'rich': 881, 'answer': 882, 'surviv': 883, 'front': 884, 'sweet': 885, 'christma': 886, 'insid': 887, 'bare': 888, 'eat': 889, 'concern': 890, 'ben': 891, 'listen': 892, 'beat': 893, 'c': 894, 'term': 895, 'serv': 896, 'meant': 897, 'la': 898, 'german': 899, 'stereotyp': 900, 'hardli': 901, 'innoc': 902, 'law': 903, 'desper': 904, 'promis': 905, 'memori': 906, 'cute': 907, 'intent': 908, 'steal': 909, 'inform': 910, 'variou': 911, 'brain': 912, 'post': 913, 'tone': 914, 'island': 915, 'amount': 916, 'track': 917, 'compani': 918, 'nuditi': 919, 'claim': 920, 'store': 921, '50': 922, 'hair': 923, 'flat': 924, 'land': 925, 'univers': 926, 'kick': 927, 'fairli': 928, 'danger': 929, 'scott': 930, 'player': 931, 'step': 932, 'plain': 933, 'crew': 934, 'toni': 935, 'share': 936, 'centuri': 937, 'tast': 938, 'engag': 939, 'achiev': 940, 'cold': 941, 'travel': 942, 'suit': 943, 'record': 944, 'rip': 945, 'sadli': 946, 'manner': 947, 'spot': 948, 'tension': 949, 'wrote': 950, 'fascin': 951, 'intens': 952, 'familiar': 953, 'depth': 954, 'remark': 955, 'burn': 956, 'histor': 957, 'destroy': 958, 'sleep': 959, 'purpos': 960, 'languag': 961, 'ruin': 962, 'ignor': 963, 'delight': 964, 'italian': 965, 'unbeliev': 966, 'soul': 967, 'collect': 968, 'abil': 969, 'clever': 970, 'detect': 971, 'violent': 972, 'rape': 973, 'reach': 974, 'door': 975, 'scienc': 976, 'trash': 977, 'liter': 978, 'caught': 979, 'commun': 980, 'reveng': 981, 'creatur': 982, 'trip': 983, 'approach': 984, 'fashion': 985, 'intrigu': 986, 'paint': 987, 'skill': 988, 'introduc': 989, 'complex': 990, 'channel': 991, 'camp': 992, 'christian': 993, 'hole': 994, 'extra': 995, 'immedi': 996, 'ann': 997, 'mental': 998, 'limit': 999, 'comput': 1000, 'mere': 1001, 'million': 1002, '6': 1003, 'slightli': 1004, 'slasher': 1005, 'conclus': 1006, 'suddenli': 1007, 'imposs': 1008, 'teen': 1009, 'neither': 1010, 'crimin': 1011, 'physic': 1012, 'spent': 1013, 'nation': 1014, 'respons': 1015, 'planet': 1016, 'receiv': 1017, 'fake': 1018, 'sick': 1019, 'blue': 1020, 'bizarr': 1021, 'embarrass': 1022, 'indian': 1023, 'ring': 1024, '15': 1025, 'pop': 1026, 'drop': 1027, 'drag': 1028, 'haunt': 1029, 'suspect': 1030, 'pointless': 1031, 'edg': 1032, 'search': 1033, 'handl': 1034, 'common': 1035, 'biggest': 1036, 'faith': 1037, 'arriv': 1038, 'hurt': 1039, 'technic': 1040, 'angel': 1041, 'dad': 1042, 'genuin': 1043, 'awesom': 1044, 'solid': 1045, 'f': 1046, 'focu': 1047, 'van': 1048, 'former': 1049, 'colleg': 1050, 'count': 1051, 'heavi': 1052, 'tear': 1053, 'rais': 1054, 'wall': 1055, 'laughabl': 1056, 'visit': 1057, 'younger': 1058, 'sign': 1059, 'excus': 1060, 'fair': 1061, 'cult': 1062, 'tough': 1063, 'motion': 1064, 'key': 1065, 'super': 1066, 'desir': 1067, 'stun': 1068, 'addit': 1069, 'cloth': 1070, 'exploit': 1071, 'tortur': 1072, 'smith': 1073, 'davi': 1074, 'race': 1075, 'cross': 1076, 'author': 1077, 'jim': 1078, 'consist': 1079, 'compel': 1080, 'minor': 1081, 'focus': 1082, 'commit': 1083, 'pathet': 1084, 'chemistri': 1085, 'park': 1086, 'obsess': 1087, 'frank': 1088, 'tradit': 1089, 'grade': 1090, '60': 1091, 'asid': 1092, 'brutal': 1093, 'steve': 1094, 'somewher': 1095, 'opportun': 1096, 'depress': 1097, 'u': 1098, 'explor': 1099, 'grant': 1100, 'rule': 1101, 'besid': 1102, 'honest': 1103, 'anti': 1104, 'dub': 1105, 'intend': 1106, 'trailer': 1107, 'bar': 1108, 'regard': 1109, 'longer': 1110, 'west': 1111, 'scientist': 1112, 'judg': 1113, 'decad': 1114, 'silent': 1115, 'armi': 1116, 'creativ': 1117, 'wild': 1118, 'south': 1119, 'g': 1120, 'stewart': 1121, 'draw': 1122, 'road': 1123, 'govern': 1124, 'ex': 1125, 'boss': 1126, 'practic': 1127, 'motiv': 1128, 'club': 1129, 'festiv': 1130, 'surprisingli': 1131, 'gang': 1132, 'green': 1133, 'london': 1134, 'redeem': 1135, 'page': 1136, 'display': 1137, 'machin': 1138, 'militari': 1139, 'aliv': 1140, 'idiot': 1141, 'repeat': 1142, 'thrill': 1143, '100': 1144, 'yeah': 1145, 'nobodi': 1146, 'folk': 1147, '40': 1148, 'garbag': 1149, 'journey': 1150, 'tire': 1151, 'ground': 1152, 'smile': 1153, 'mood': 1154, 'bought': 1155, 'stone': 1156, 'cost': 1157, 'sam': 1158, 'mouth': 1159, 'noir': 1160, 'terrif': 1161, 'agent': 1162, 'requir': 1163, 'utterli': 1164, 'honestli': 1165, 'sexi': 1166, 'area': 1167, 'geniu': 1168, 'report': 1169, 'glad': 1170, 'humour': 1171, 'investig': 1172, 'enter': 1173, 'serial': 1174, 'occasion': 1175, 'narr': 1176, 'passion': 1177, 'climax': 1178, 'marriag': 1179, 'studi': 1180, 'industri': 1181, 'center': 1182, 'charli': 1183, 'ship': 1184, 'nowher': 1185, 'demon': 1186, 'loos': 1187, 'hors': 1188, 'bear': 1189, 'hang': 1190, 'wow': 1191, 'graphic': 1192, 'admir': 1193, 'giant': 1194, 'send': 1195, 'loud': 1196, 'damn': 1197, 'subtl': 1198, 'rel': 1199, 'profession': 1200, 'nake': 1201, 'blow': 1202, 'bottom': 1203, 'insult': 1204, 'batman': 1205, 'boyfriend': 1206, 'doubl': 1207, 'r': 1208, 'kelli': 1209, 'initi': 1210, 'frame': 1211, 'gem': 1212, 'opera': 1213, 'challeng': 1214, 'church': 1215, 'affect': 1216, 'cinemat': 1217, 'drawn': 1218, 'l': 1219, 'seek': 1220, 'nightmar': 1221, 'evid': 1222, 'j': 1223, 'fulli': 1224, 'essenti': 1225, 'conflict': 1226, 'arm': 1227, 'christoph': 1228, 'wind': 1229, 'grace': 1230, 'henri': 1231, 'witch': 1232, 'narrat': 1233, 'assum': 1234, 'hunt': 1235, 'push': 1236, 'wise': 1237, 'chri': 1238, 'repres': 1239, 'month': 1240, 'nomin': 1241, 'hide': 1242, 'avail': 1243, 'sceneri': 1244, 'affair': 1245, 'smart': 1246, 'bond': 1247, 'justic': 1248, 'thu': 1249, 'outstand': 1250, 'flashback': 1251, 'interview': 1252, 'satisfi': 1253, 'presenc': 1254, 'constantli': 1255, 'bed': 1256, 'central': 1257, 'content': 1258, 'sell': 1259, 'iron': 1260, 'gag': 1261, 'everybodi': 1262, 'slowli': 1263, 'hotel': 1264, 'hire': 1265, 'system': 1266, 'hey': 1267, 'individu': 1268, 'adam': 1269, 'thrown': 1270, 'charl': 1271, 'jone': 1272, 'mediocr': 1273, 'allen': 1274, 'ray': 1275, 'lesson': 1276, 'billi': 1277, 'photographi': 1278, 'cameo': 1279, 'fellow': 1280, 'pari': 1281, 'strike': 1282, 'independ': 1283, 'rise': 1284, 'brief': 1285, 'absurd': 1286, 'neg': 1287, 'phone': 1288, 'impact': 1289, 'ill': 1290, 'born': 1291, 'model': 1292, 'fresh': 1293, 'spoil': 1294, 'angl': 1295, 'likabl': 1296, 'abus': 1297, 'hill': 1298, 'discuss': 1299, 'ahead': 1300, 'sight': 1301, 'photograph': 1302, 'sent': 1303, 'shine': 1304, 'occur': 1305, 'logic': 1306, 'blame': 1307, 'mainli': 1308, 'bruce': 1309, 'skip': 1310, 'commerci': 1311, 'forev': 1312, 'held': 1313, 'segment': 1314, 'teacher': 1315, 'surround': 1316, 'blond': 1317, 'zero': 1318, 'resembl': 1319, 'trap': 1320, 'summer': 1321, 'satir': 1322, 'queen': 1323, 'six': 1324, 'ball': 1325, 'fool': 1326, 'sub': 1327, 'twice': 1328, 'tragedi': 1329, 'pack': 1330, 'reaction': 1331, 'bomb': 1332, 'protagonist': 1333, 'will': 1334, 'hospit': 1335, 'sport': 1336, 'mile': 1337, 'trust': 1338, 'jerri': 1339, 'vote': 1340, 'mom': 1341, 'drink': 1342, 'encount': 1343, 'plane': 1344, 'current': 1345, 'program': 1346, 'station': 1347, 'al': 1348, 'martin': 1349, 'choos': 1350, 'celebr': 1351, 'join': 1352, 'field': 1353, 'round': 1354, 'tragic': 1355, 'lord': 1356, 'favourit': 1357, 'jean': 1358, 'robot': 1359, 'vision': 1360, 'tie': 1361, 'arthur': 1362, 'random': 1363, 'roger': 1364, 'fortun': 1365, 'dread': 1366, 'psycholog': 1367, 'intern': 1368, 'prefer': 1369, 'improv': 1370, 'nonsens': 1371, 'epic': 1372, 'pleasur': 1373, 'formula': 1374, 'highlight': 1375, 'legend': 1376, 'dollar': 1377, 'tape': 1378, '11': 1379, 'wide': 1380, 'gorgeou': 1381, 'thin': 1382, 'fox': 1383, 'object': 1384, 'porn': 1385, 'influenc': 1386, 'buddi': 1387, 'ugli': 1388, 'ii': 1389, 'prepar': 1390, 'nasti': 1391, 'reflect': 1392, 'warm': 1393, 'supposedli': 1394, 'progress': 1395, 'worthi': 1396, 'youth': 1397, 'unusu': 1398, 'latter': 1399, 'length': 1400, 'crash': 1401, 'seven': 1402, 'childhood': 1403, 'superior': 1404, 'shop': 1405, 'remot': 1406, 'theatr': 1407, 'pilot': 1408, 'funniest': 1409, 'paid': 1410, 'disgust': 1411, 'trick': 1412, 'convers': 1413, 'castl': 1414, 'fell': 1415, 'disast': 1416, 'establish': 1417, 'rob': 1418, 'gangster': 1419, 'heaven': 1420, 'suicid': 1421, 'ident': 1422, 'mine': 1423, 'disappear': 1424, 'heroin': 1425, 'forgotten': 1426, 'mask': 1427, 'tend': 1428, 'decis': 1429, 'singer': 1430, 'partner': 1431, 'brian': 1432, 'desert': 1433, 'recogn': 1434, 'alan': 1435, 'sky': 1436, 'p': 1437, 'thoroughli': 1438, 'ms': 1439, 'stuck': 1440, 'replac': 1441, 'accur': 1442, 'market': 1443, 'eddi': 1444, 'clue': 1445, 'uncl': 1446, 'andi': 1447, 'seemingli': 1448, 'danni': 1449, 'commentari': 1450, 'devil': 1451, 'jackson': 1452, 'refus': 1453, 'therefor': 1454, 'that': 1455, 'pair': 1456, 'fate': 1457, 'river': 1458, 'unit': 1459, 'ed': 1460, 'fault': 1461, 'accid': 1462, 'afraid': 1463, 'tune': 1464, 'clean': 1465, 'russian': 1466, 'hidden': 1467, 'stephen': 1468, 'instanc': 1469, 'captain': 1470, 'test': 1471, 'convey': 1472, 'irrit': 1473, 'readi': 1474, 'quick': 1475, 'european': 1476, 'frustrat': 1477, 'daniel': 1478, 'insan': 1479, '1950': 1480, 'food': 1481, 'wed': 1482, 'rescu': 1483, 'chines': 1484, 'lock': 1485, 'dirti': 1486, 'angri': 1487, 'joy': 1488, 'steven': 1489, 'price': 1490, 'cage': 1491, 'bland': 1492, 'rang': 1493, 'anymor': 1494, 'wooden': 1495, 'n': 1496, 'rush': 1497, 'news': 1498, 'jason': 1499, '12': 1500, 'led': 1501, 'worri': 1502, 'twenti': 1503, 'board': 1504, 'martial': 1505, 'symbol': 1506, 'transform': 1507, 'cgi': 1508, 'hunter': 1509, 'invent': 1510, 'sentiment': 1511, 'piti': 1512, 'johnni': 1513, 'onto': 1514, 'x': 1515, 'explan': 1516, 'attitud': 1517, 'process': 1518, 'awar': 1519, 'owner': 1520, 'aim': 1521, 'necessari': 1522, 'favor': 1523, 'floor': 1524, 'energi': 1525, 'target': 1526, 'opposit': 1527, 'religi': 1528, 'insight': 1529, 'window': 1530, 'blind': 1531, 'chick': 1532, 'movement': 1533, 'research': 1534, 'deepli': 1535, 'comparison': 1536, 'mountain': 1537, 'possess': 1538, 'whatsoev': 1539, 'comed': 1540, 'rain': 1541, 'grand': 1542, 'mid': 1543, 'shadow': 1544, 'began': 1545, 'bank': 1546, 'parodi': 1547, 'princ': 1548, 'credibl': 1549, 'taylor': 1550, 'pre': 1551, 'friendship': 1552, 'weapon': 1553, 'teach': 1554, 'flesh': 1555, 'dougla': 1556, 'terror': 1557, 'protect': 1558, 'hint': 1559, 'bloodi': 1560, 'marvel': 1561, 'accord': 1562, 'superman': 1563, 'watchabl': 1564, 'leader': 1565, 'anybodi': 1566, 'drunk': 1567, 'load': 1568, 'brown': 1569, 'freddi': 1570, 'appropri': 1571, 'seat': 1572, 'tim': 1573, 'jeff': 1574, 'hitler': 1575, 'villag': 1576, 'knock': 1577, 'charg': 1578, 'unknown': 1579, 'keaton': 1580, 'england': 1581, 'empti': 1582, 'media': 1583, 'unnecessari': 1584, 'enemi': 1585, 'dare': 1586, 'strength': 1587, 'craft': 1588, 'wave': 1589, 'buck': 1590, 'perspect': 1591, 'utter': 1592, 'contrast': 1593, 'correct': 1594, 'nativ': 1595, 'ford': 1596, 'kiss': 1597, 'anywher': 1598, 'magnific': 1599, 'chill': 1600, 'nazi': 1601, 'knowledg': 1602, 'soap': 1603, 'distract': 1604, 'speed': 1605, 'breath': 1606, 'fred': 1607, 'mission': 1608, 'ice': 1609, '1980': 1610, 'jr': 1611, 'crowd': 1612, 'moon': 1613, 'joan': 1614, 'soft': 1615, '000': 1616, 'kate': 1617, 'frighten': 1618, 'dick': 1619, 'nick': 1620, 'hundr': 1621, 'dan': 1622, 'dozen': 1623, 'radio': 1624, 'simon': 1625, 'somebodi': 1626, 'loss': 1627, 'academi': 1628, 'shakespear': 1629, 'thousand': 1630, 'andrew': 1631, 'vehicl': 1632, 'root': 1633, 'quot': 1634, 'sum': 1635, 'account': 1636, '1970': 1637, 'convent': 1638, 'leg': 1639, 'behavior': 1640, 'gold': 1641, 'regular': 1642, 'compet': 1643, 'worker': 1644, 'demand': 1645, 'pretenti': 1646, 'notabl': 1647, 'interpret': 1648, 'japan': 1649, 'explos': 1650, 'privat': 1651, 'lynch': 1652, 'stretch': 1653, 'candi': 1654, 'debut': 1655, 'constant': 1656, 'tarzan': 1657, 'spi': 1658, 'sea': 1659, 'translat': 1660, 'prais': 1661, 'revolv': 1662, 'threaten': 1663, 'technolog': 1664, 'quiet': 1665, 'failur': 1666, 'sat': 1667, 'jesu': 1668, 'franc': 1669, 'ass': 1670, 'met': 1671, 'higher': 1672, 'kevin': 1673, 'toy': 1674, 'aid': 1675, 'punch': 1676, 'vh': 1677, 'abandon': 1678, 'interact': 1679, 'mike': 1680, 'bet': 1681, 'separ': 1682, 'confront': 1683, 'command': 1684, 'servic': 1685, 'stunt': 1686, 'recal': 1687, 'gotten': 1688, 'belong': 1689, 'site': 1690, 'techniqu': 1691, 'foot': 1692, 'cabl': 1693, 'freak': 1694, 'bug': 1695, 'african': 1696, 'jimmi': 1697, 'capabl': 1698, 'fu': 1699, 'bright': 1700, 'boat': 1701, 'fat': 1702, 'presid': 1703, 'stock': 1704, 'clark': 1705, 'succeed': 1706, 'structur': 1707, 'spanish': 1708, 'gene': 1709, 'paper': 1710, 'kidnap': 1711, 'belief': 1712, 'factor': 1713, 'whilst': 1714, 'realism': 1715, 'witti': 1716, 'tree': 1717, 'attend': 1718, 'realis': 1719, 'educ': 1720, 'bob': 1721, 'complic': 1722, 'santa': 1723, 'finest': 1724, 'broken': 1725, 'assist': 1726, 'observ': 1727, 'up': 1728, 'determin': 1729, 'smoke': 1730, 'depart': 1731, 'v': 1732, 'domin': 1733, 'oper': 1734, 'fame': 1735, 'routin': 1736, 'hat': 1737, 'rubbish': 1738, 'lewi': 1739, 'kinda': 1740, 'foreign': 1741, 'lone': 1742, 'hook': 1743, 'safe': 1744, 'advanc': 1745, 'morgan': 1746, 'numer': 1747, 'rank': 1748, 'civil': 1749, 'vs': 1750, 'shallow': 1751, 'shape': 1752, 'rose': 1753, 'werewolf': 1754, 'washington': 1755, 'gari': 1756, 'morn': 1757, 'ordinari': 1758, 'winner': 1759, 'accomplish': 1760, 'kong': 1761, 'whenev': 1762, 'peac': 1763, 'virtual': 1764, 'grab': 1765, 'offens': 1766, 'h': 1767, 'luck': 1768, 'activ': 1769, 'complain': 1770, 'welcom': 1771, 'unfunni': 1772, 'bigger': 1773, 'patient': 1774, 'contriv': 1775, 'pretend': 1776, 'trek': 1777, 'con': 1778, 'dimension': 1779, 'cain': 1780, 'wake': 1781, 'eric': 1782, 'lesbian': 1783, 'dri': 1784, 'code': 1785, 'flash': 1786, 'corrupt': 1787, 'statu': 1788, 'manipul': 1789, 'dancer': 1790, 'guard': 1791, 'albert': 1792, 'awkward': 1793, 'signific': 1794, 'speech': 1795, 'gain': 1796, 'context': 1797, 'sourc': 1798, 'psycho': 1799, 'corni': 1800, '13': 1801, 'anthoni': 1802, 'sean': 1803, 'clip': 1804, 'w': 1805, 'priest': 1806, 'curiou': 1807, 'religion': 1808, 'reli': 1809, 'advic': 1810, 'theatric': 1811, 'flow': 1812, 'addict': 1813, 'jennif': 1814, 'skin': 1815, 'secur': 1816, 'howard': 1817, 'asian': 1818, 'specif': 1819, 'golden': 1820, 'luke': 1821, 'promot': 1822, 'core': 1823, 'organ': 1824, 'comfort': 1825, 'cheat': 1826, 'lucki': 1827, 'cash': 1828, 'dislik': 1829, 'associ': 1830, 'lower': 1831, 'degre': 1832, 'contribut': 1833, 'devic': 1834, 'frequent': 1835, 'regret': 1836, 'balanc': 1837, 'spell': 1838, 'wing': 1839, 'frankli': 1840, 'print': 1841, 'lake': 1842, 'sake': 1843, 'forgiv': 1844, 'thoma': 1845, 'mass': 1846, 'betti': 1847, 'unexpect': 1848, 'gordon': 1849, 'crack': 1850, 'construct': 1851, 'unfold': 1852, 'categori': 1853, 'invit': 1854, 'depend': 1855, 'grown': 1856, 'amateur': 1857, 'intellectu': 1858, 'grew': 1859, 'anna': 1860, 'condit': 1861, 'honor': 1862, 'matur': 1863, 'walter': 1864, 'sudden': 1865, 'spectacular': 1866, 'veteran': 1867, 'sole': 1868, 'mirror': 1869, 'robin': 1870, 'liner': 1871, 'card': 1872, 'meanwhil': 1873, 'demonstr': 1874, 'gift': 1875, 'overli': 1876, 'freedom': 1877, 'grip': 1878, 'experienc': 1879, 'crappi': 1880, 'brilliantli': 1881, 'section': 1882, 'subtitl': 1883, 'theori': 1884, 'sheriff': 1885, 'oliv': 1886, 'circumst': 1887, 'unabl': 1888, 'drew': 1889, 'colour': 1890, 'pile': 1891, 'path': 1892, 'matt': 1893, 'altern': 1894, 'sheer': 1895, 'cook': 1896, 'parker': 1897, 'laughter': 1898, 'hall': 1899, 'treatment': 1900, 'defin': 1901, 'accident': 1902, 'relief': 1903, 'lawyer': 1904, 'wander': 1905, 'sinatra': 1906, 'captiv': 1907, 'dragon': 1908, 'hank': 1909, 'gratuit': 1910, 'halloween': 1911, 'moor': 1912, 'jacki': 1913, 'k': 1914, 'wound': 1915, 'cowboy': 1916, 'broadway': 1917, 'kung': 1918, 'barbara': 1919, 'wayn': 1920, 'unintent': 1921, 'spoof': 1922, 'statement': 1923, 'canadian': 1924, 'surreal': 1925, 'winter': 1926, 'fish': 1927, 'treasur': 1928, 'gonna': 1929, 'compos': 1930, 'fare': 1931, 'cheer': 1932, 'sensit': 1933, 'victor': 1934, 'unrealist': 1935, 'woodi': 1936, 'emerg': 1937, 'sympathet': 1938, 'ran': 1939, 'neighbor': 1940, 'driven': 1941, 'topic': 1942, 'overlook': 1943, 'expos': 1944, 'glass': 1945, 'authent': 1946, 'menac': 1947, 'chief': 1948, 'gross': 1949, 'michel': 1950, 'handsom': 1951, 'ancient': 1952, 'nevertheless': 1953, 'stranger': 1954, 'network': 1955, 'contemporari': 1956, 'russel': 1957, 'comedian': 1958, 'built': 1959, 'pleasant': 1960, 'feet': 1961, 'cinderella': 1962, 'underr': 1963, 'blockbust': 1964, 'consider': 1965, 'earn': 1966, 'letter': 1967, 'gori': 1968, 'endless': 1969, 'miser': 1970, 'switch': 1971, 'solv': 1972, 'brook': 1973, 'edward': 1974, 'bullet': 1975, 'joseph': 1976, 'virgin': 1977, 'convict': 1978, 'victoria': 1979, '0': 1980, 'scale': 1981, 'cynic': 1982, 'scenario': 1983, 'chosen': 1984, 'alex': 1985, 'curs': 1986, 'com': 1987, 'sword': 1988, 'gut': 1989, 'outrag': 1990, 'driver': 1991, 'wrap': 1992, 'substanc': 1993, 'proper': 1994, 'screenwrit': 1995, 'juli': 1996, 'uk': 1997, 'monkey': 1998, 'indic': 1999, 'remov': 2000, 'bird': 2001, 'court': 2002, 'par': 2003, 'roy': 2004, 'loser': 2005, 'rental': 2006, 'inevit': 2007, 'grave': 2008, 'consequ': 2009, 'naiv': 2010, 'advertis': 2011, 'nanci': 2012, 'fatal': 2013, 'bridg': 2014, 'invis': 2015, 'slap': 2016, 'le': 2017, 'germani': 2018, 'brave': 2019, 'loui': 2020, 'ador': 2021, 'footbal': 2022, 'provok': 2023, 'anger': 2024, 'alcohol': 2025, 'anderson': 2026, 'chan': 2027, 'stumbl': 2028, 'willi': 2029, 'professor': 2030, 'ryan': 2031, '1930': 2032, 'australian': 2033, 'sharp': 2034, 'assassin': 2035, 'bat': 2036, 'patrick': 2037, 'ape': 2038, 'strongli': 2039, 'refresh': 2040, 'liber': 2041, 'deni': 2042, 'lousi': 2043, 'cell': 2044, 'heck': 2045, 'amateurish': 2046, 'saturday': 2047, 'eight': 2048, 'trilog': 2049, 'sin': 2050, 'san': 2051, 'vagu': 2052, 'resid': 2053, 'justifi': 2054, 'defeat': 2055, 'indi': 2056, 'creator': 2057, 'sympathi': 2058, 'terrifi': 2059, 'mini': 2060, 'reput': 2061, 'expert': 2062, 'prevent': 2063, 'tediou': 2064, 'tabl': 2065, 'task': 2066, 'endur': 2067, 'employ': 2068, 'rival': 2069, 'imit': 2070, 'basebal': 2071, 'trial': 2072, 'offend': 2073, 'che': 2074, 'fairi': 2075, 'complaint': 2076, 'dig': 2077, 'beach': 2078, 'weekend': 2079, 'max': 2080, 'europ': 2081, 'pitch': 2082, 'murphi': 2083, 'purchas': 2084, 'risk': 2085, 'format': 2086, 'bite': 2087, 'glimps': 2088, 'harsh': 2089, 'tini': 2090, 'reminisc': 2091, 'titan': 2092, 'nois': 2093, 'hype': 2094, 'powel': 2095, 'north': 2096, 'till': 2097, 'fals': 2098, 'prime': 2099, '14': 2100, 'strip': 2101, 'asleep': 2102, 'descript': 2103, 'destruct': 2104, 'texa': 2105, 'africa': 2106, 'revel': 2107, 'semi': 2108, 'surfac': 2109, 'uninterest': 2110, 'excess': 2111, 'sitcom': 2112, 'spin': 2113, 'arrest': 2114, 'inner': 2115, 'hitchcock': 2116, 'massiv': 2117, 'controversi': 2118, 'twin': 2119, 'maintain': 2120, 'argu': 2121, 'dinosaur': 2122, 'makeup': 2123, 'melodrama': 2124, 'expens': 2125, 'ideal': 2126, 'ludicr': 2127, 'kim': 2128, 'stare': 2129, 'insist': 2130, 'reject': 2131, 'ala': 2132, 'ga': 2133, 'press': 2134, 'nail': 2135, 'erot': 2136, 'subplot': 2137, 'supernatur': 2138, 'atroci': 2139, 'columbo': 2140, 'host': 2141, 'forest': 2142, 'notch': 2143, 'identifi': 2144, 'presum': 2145, 'cant': 2146, 'dude': 2147, 'forgett': 2148, 'character': 2149, 'method': 2150, 'closer': 2151, 'crude': 2152, 'plagu': 2153, 'guest': 2154, 'princess': 2155, 'beast': 2156, 'border': 2157, 'foster': 2158, 'landscap': 2159, 'lion': 2160, 'ear': 2161, 'storytel': 2162, 'birth': 2163, 'previous': 2164, 'jungl': 2165, 'accus': 2166, 'aunt': 2167, 'bound': 2168, 'pacino': 2169, 'urban': 2170, 'damag': 2171, 'chose': 2172, 'doll': 2173, 'jess': 2174, 'guid': 2175, 'emma': 2176, 'propaganda': 2177, 'thirti': 2178, 'nude': 2179, 'warrior': 2180, 'pet': 2181, 'mainstream': 2182, 'whoever': 2183, 'mate': 2184, '25': 2185, 'exact': 2186, 'cooper': 2187, 'merit': 2188, 'gritti': 2189, 'friday': 2190, 'size': 2191, 'poster': 2192, 'latest': 2193, 'deadli': 2194, 'upset': 2195, 'contact': 2196, 'corps': 2197, 'popul': 2198, 'citizen': 2199, 'ton': 2200, 'rough': 2201, 'settl': 2202, 'buff': 2203, 'blend': 2204, 'wilson': 2205, 'sun': 2206, 'contest': 2207, '1990': 2208, 'warner': 2209, 'select': 2210, 'overcom': 2211, 'alic': 2212, 'metal': 2213, 'pitt': 2214, 'environ': 2215, 'rat': 2216, 'mgm': 2217, 'widow': 2218, 'bu': 2219, 'guilti': 2220, 'link': 2221, 'revolut': 2222, 'lift': 2223, 'ted': 2224, 'particip': 2225, 'afternoon': 2226, 'corpor': 2227, 'accompani': 2228, 'corner': 2229, 'moron': 2230, 'johnson': 2231, 'exagger': 2232, 'matrix': 2233, '1960': 2234, 'prostitut': 2235, 'doom': 2236, 'sincer': 2237, 'hood': 2238, 'instal': 2239, 'leagu': 2240, 'holm': 2241, 'friendli': 2242, 'clair': 2243, 'multipl': 2244, 'examin': 2245, 'aka': 2246, 'sunday': 2247, 'grim': 2248, 'string': 2249, 'advis': 2250, 'blah': 2251, 'hip': 2252, 'defend': 2253, 'lugosi': 2254, 'campi': 2255, 'junk': 2256, 'irish': 2257, 'shut': 2258, 'varieti': 2259, 'icon': 2260, 'shake': 2261, 'pro': 2262, 'tight': 2263, 'rachel': 2264, 'confid': 2265, 'mexican': 2266, 'medic': 2267, 'directli': 2268, 'denni': 2269, 'attach': 2270, 'jaw': 2271, 'sullivan': 2272, 'goal': 2273, 'truck': 2274, 'courag': 2275, 'dean': 2276, 'duke': 2277, 'legendari': 2278, 'bourn': 2279, 'terrorist': 2280, 'sentenc': 2281, 'breast': 2282, 'sarah': 2283, 'prior': 2284, 'vietnam': 2285, 'nose': 2286, 'proceed': 2287, 'entri': 2288, 'split': 2289, 'yell': 2290, 'behav': 2291, 'donald': 2292, 'hong': 2293, 'un': 2294, 'gather': 2295, 'buri': 2296, 'swim': 2297, 'stolen': 2298, 'jerk': 2299, 'borrow': 2300, 'crush': 2301, 'confess': 2302, 'everywher': 2303, 'unconvinc': 2304, 'lifetim': 2305, 'concentr': 2306, 'forth': 2307, 'spite': 2308, 'deliveri': 2309, 'california': 2310, 'lip': 2311, 'turkey': 2312, 'pan': 2313, 'julia': 2314, 'downright': 2315, 'hoffman': 2316, 'reward': 2317, 'flight': 2318, 'proud': 2319, 'freeman': 2320, 'offici': 2321, 'quest': 2322, 'china': 2323, 'lazi': 2324, 'worthwhil': 2325, 'jail': 2326, 'fabul': 2327, 'jon': 2328, 'inept': 2329, 'notori': 2330, 'sink': 2331, 'fade': 2332, 'sir': 2333, 'encourag': 2334, 'betray': 2335, 'storm': 2336, 'teeth': 2337, 'retard': 2338, 'shower': 2339, 'bag': 2340, 'branagh': 2341, 'bell': 2342, 'lisa': 2343, 'susan': 2344, 'relev': 2345, 'survivor': 2346, 'cousin': 2347, 'imageri': 2348, 'quirki': 2349, 'hugh': 2350, 'toler': 2351, 'alright': 2352, 'finger': 2353, 'stab': 2354, 'tremend': 2355, 'mexico': 2356, 'trade': 2357, 'facial': 2358, 'shark': 2359, 'summari': 2360, 'bride': 2361, 'bitter': 2362, 'ha': 2363, 'blown': 2364, 'von': 2365, 'hyster': 2366, 'pose': 2367, 'afterward': 2368, 'ned': 2369, 'address': 2370, 'bone': 2371, 'ron': 2372, 'scheme': 2373, 'larri': 2374, 'christ': 2375, 'cruel': 2376, 'tour': 2377, 'pursu': 2378, 'thumb': 2379, 'distinct': 2380, 'screw': 2381, 'beg': 2382, 'feed': 2383, 'swear': 2384, 'snake': 2385, 'traci': 2386, 'raw': 2387, 'occas': 2388, 'obscur': 2389, 'chair': 2390, 'mechan': 2391, 'photo': 2392, 'stomach': 2393, 'render': 2394, 'hardi': 2395, 'resist': 2396, 'chain': 2397, 'necessarili': 2398, 'holiday': 2399, 'gruesom': 2400, 'southern': 2401, 'heavili': 2402, 'sidney': 2403, 'argument': 2404, 'cabin': 2405, 'satan': 2406, 'philip': 2407, 'indulg': 2408, 'racist': 2409, 'understood': 2410, 'india': 2411, 'stalk': 2412, 'fourth': 2413, 'forgot': 2414, 'tongu': 2415, 'belov': 2416, 'midnight': 2417, 'lay': 2418, 'obnoxi': 2419, 'pregnant': 2420, 'outfit': 2421, 'integr': 2422, 'garden': 2423, 'magazin': 2424, 'restor': 2425, 'inhabit': 2426, 'carol': 2427, '17': 2428, 'ticket': 2429, 'slapstick': 2430, 'deeper': 2431, 'shoe': 2432, 'incid': 2433, 'lincoln': 2434, 'brad': 2435, 'devot': 2436, 'underground': 2437, 'disbelief': 2438, 'maria': 2439, 'guarante': 2440, 'elizabeth': 2441, 'anticip': 2442, 'lili': 2443, 'benefit': 2444, 'divorc': 2445, 'sandler': 2446, 'slave': 2447, 'explod': 2448, 'creation': 2449, 'cring': 2450, 'capit': 2451, 'princip': 2452, 'amazingli': 2453, 'greater': 2454, 'mildli': 2455, 'bbc': 2456, 'introduct': 2457, 'lesli': 2458, 'halfway': 2459, 'funnier': 2460, 'extraordinari': 2461, 'transfer': 2462, 'wreck': 2463, 'overwhelm': 2464, 'punish': 2465, 'enhanc': 2466, 'advantag': 2467, 'tap': 2468, 'extent': 2469, 'text': 2470, 'plant': 2471, 'preview': 2472, 'error': 2473, 'east': 2474, 'lane': 2475, 'horrif': 2476, 'deliber': 2477, 'lo': 2478, 'dynam': 2479, 'jessica': 2480, 'appli': 2481, 'homosexu': 2482, 'vacat': 2483, 'sophist': 2484, 'ensu': 2485, 'basi': 2486, '2000': 2487, 'vincent': 2488, 'miscast': 2489, 'miller': 2490, 'spoken': 2491, 'via': 2492, 'measur': 2493, 'extend': 2494, 'reed': 2495, 'uncomfort': 2496, 'steel': 2497, 'bollywood': 2498, 'mansion': 2499, 'elev': 2500, 'sleazi': 2501, 'assign': 2502, 'conceiv': 2503, 'daili': 2504, 'breathtak': 2505, 'overact': 2506, 'alter': 2507, 'cathol': 2508, 'dentist': 2509, 'mous': 2510, 'blair': 2511, 'fix': 2512, 'melt': 2513, 'savag': 2514, 'goofi': 2515, 'beer': 2516, 'hippi': 2517, 'stanley': 2518, 'properli': 2519, 'sacrific': 2520, 'everyday': 2521, 'oppos': 2522, 'succe': 2523, 'burt': 2524, 'nowaday': 2525, 'carpent': 2526, 'inspector': 2527, 'subsequ': 2528, 'massacr': 2529, 'neck': 2530, 'laura': 2531, 'circl': 2532, 'block': 2533, 'lesser': 2534, 'access': 2535, 'portrait': 2536, 'fallen': 2537, 'pool': 2538, 'mob': 2539, 'concert': 2540, 'grey': 2541, 'seagal': 2542, 'fay': 2543, 'christi': 2544, 'chees': 2545, 'competit': 2546, 'usa': 2547, 'jewish': 2548, 'sinist': 2549, 'isol': 2550, 'relax': 2551, 'jake': 2552, 'react': 2553, 'spiritu': 2554, 'immens': 2555, 'suitabl': 2556, 'nine': 2557, 'ironi': 2558, 'appal': 2559, 'stink': 2560, 'creep': 2561, 'nonetheless': 2562, 'chop': 2563, '2006': 2564, 'lyric': 2565, 'luci': 2566, 'navi': 2567, 'adopt': 2568, 'rage': 2569, 'reduc': 2570, 'sold': 2571, 'needless': 2572, 'user': 2573, 'franchis': 2574, 'spring': 2575, 'shirt': 2576, 'showcas': 2577, 'retir': 2578, 'nut': 2579, 'bulli': 2580, 'jay': 2581, 'asham': 2582, 'digit': 2583, 'per': 2584, 'bath': 2585, 'nurs': 2586, 'zone': 2587, 'uninspir': 2588, 'stanwyck': 2589, 'illustr': 2590, 'amongst': 2591, 'oddli': 2592, 'laid': 2593, '2001': 2594, 'broadcast': 2595, 'sutherland': 2596, 'upper': 2597, '1940': 2598, 'disguis': 2599, 'throat': 2600, 'fulfil': 2601, 'stylish': 2602, 'baker': 2603, 'aspir': 2604, 'brando': 2605, 'thief': 2606, 'endear': 2607, 'wwii': 2608, 'impli': 2609, 'pound': 2610, 'em': 2611, 'pride': 2612, 'nobl': 2613, 'wanna': 2614, '18': 2615, 'neighborhood': 2616, 'dawn': 2617, 'cinematograph': 2618, 'prop': 2619, '16': 2620, 'dinner': 2621, 'bo': 2622, 'albeit': 2623, 'rochest': 2624, 'distribut': 2625, 'shift': 2626, 'diseas': 2627, 'tens': 2628, 'bett': 2629, 'coher': 2630, 'shoulder': 2631, 'wash': 2632, 'snow': 2633, 'contract': 2634, 'poignant': 2635, 'forti': 2636, 'shout': 2637, 'knife': 2638, 'rebel': 2639, 'function': 2640, 'surf': 2641, 'silenc': 2642, 'matthau': 2643, 'widmark': 2644, 'chuck': 2645, 'horrend': 2646, 'reunion': 2647, 'mindless': 2648, 'cannib': 2649, 'henc': 2650, 'height': 2651, 'cancel': 2652, 'proof': 2653, 'elvira': 2654, 'derek': 2655, 'duti': 2656, 'eeri': 2657, 'heat': 2658, 'instinct': 2659, 'silver': 2660, 'internet': 2661, 'neat': 2662, 'repetit': 2663, 'greatli': 2664, 'mill': 2665, 'musician': 2666, 'absorb': 2667, 'incoher': 2668, 'pie': 2669, 'torn': 2670, 'innov': 2671, 'etern': 2672, 'premier': 2673, 'spielberg': 2674, 'alik': 2675, 'elvi': 2676, 'glori': 2677, 'nelson': 2678, 'burton': 2679, 'blank': 2680, 'wealthi': 2681, 'redempt': 2682, 'homag': 2683, 'bang': 2684, 'trite': 2685, 'itali': 2686, 'racism': 2687, 'announc': 2688, 'crisi': 2689, 'britain': 2690, 'horrifi': 2691, 'infam': 2692, 'fbi': 2693, 'lovabl': 2694, 'precis': 2695, 'diamond': 2696, 'chaplin': 2697, 'flop': 2698, 'happili': 2699, 'resolut': 2700, 'ensembl': 2701, 'helen': 2702, 'parallel': 2703, 'pat': 2704, 'hammer': 2705, 'dedic': 2706, 'wilder': 2707, 'streisand': 2708, 'plastic': 2709, 'disagre': 2710, 'factori': 2711, 'carter': 2712, 'st': 2713, 'mar': 2714, 'oil': 2715, 'broke': 2716, 'cube': 2717, 'triumph': 2718, 'conclud': 2719, 'weight': 2720, 'fighter': 2721, 'chuckl': 2722, 'climb': 2723, 'march': 2724, 'bush': 2725, 'own': 2726, 'vega': 2727, 'rocket': 2728, 'row': 2729, 'boot': 2730, 'meaning': 2731, 'kurt': 2732, 'wherea': 2733, 'dump': 2734, 'mst3k': 2735, 'sensibl': 2736, 'thug': 2737, 'lust': 2738, 'luca': 2739, 'dane': 2740, 'spare': 2741, 'unforgett': 2742, 'enorm': 2743, 'stress': 2744, 'caricatur': 2745, 'engin': 2746, 'butt': 2747, 'adequ': 2748, 'brand': 2749, 'fifti': 2750, 'arnold': 2751, 'bobbi': 2752, 'threat': 2753, 'dear': 2754, 'rap': 2755, 'difficulti': 2756, 'karloff': 2757, 'homeless': 2758, 'hamlet': 2759, 'fest': 2760, 'polish': 2761, 'secretari': 2762, 'journalist': 2763, 'elabor': 2764, 'ego': 2765, 'arrog': 2766, 'swing': 2767, 'flynn': 2768, 'ralph': 2769, 'barri': 2770, 'simpson': 2771, 'arrang': 2772, 'grate': 2773, 'resort': 2774, 'conspiraci': 2775, 'tool': 2776, 'unbear': 2777, 'float': 2778, 'fanci': 2779, 'induc': 2780, 'spike': 2781, 'puppet': 2782, 'cruis': 2783, 'exercis': 2784, 'choreograph': 2785, 'basement': 2786, 'muppet': 2787, 'phillip': 2788, 'boll': 2789, 'guilt': 2790, 'pig': 2791, 'tribut': 2792, 'tower': 2793, 'editor': 2794, 'stan': 2795, 'medium': 2796, 'ham': 2797, 'layer': 2798, 'slip': 2799, 'korean': 2800, 'fianc': 2801, '24': 2802, 'ward': 2803, 'babe': 2804, 'item': 2805, 'file': 2806, 'puzzl': 2807, 'document': 2808, 'scarecrow': 2809, 'toilet': 2810, 'librari': 2811, 'philosoph': 2812, 'minim': 2813, 'persona': 2814, 'doc': 2815, 'superfici': 2816, 'transit': 2817, 'territori': 2818, 'inexplic': 2819, 'larger': 2820, 'portion': 2821, 'catherin': 2822, 'assur': 2823, 'spark': 2824, 'denzel': 2825, 'slaughter': 2826, 'glover': 2827, 'orient': 2828, 'shi': 2829, 'wolf': 2830, 'dorothi': 2831, 'ban': 2832, 'financi': 2833, 'jeremi': 2834, 'pg': 2835, 'boredom': 2836, 'walken': 2837, 'owe': 2838, 'curti': 2839, 'jet': 2840, 'sneak': 2841, 'ambigu': 2842, 'hudson': 2843, 'profound': 2844, 'multi': 2845, 'backdrop': 2846, 'metaphor': 2847, 'cusack': 2848, 'eleph': 2849, 'whale': 2850, 'hack': 2851, 'implaus': 2852, 'viru': 2853, 'rave': 2854, '2005': 2855, 'union': 2856, 'stiff': 2857, 'ultra': 2858, 'birthday': 2859, 'elsewher': 2860, 'gadget': 2861, 'notion': 2862, 'bibl': 2863, 'lloyd': 2864, 'pad': 2865, 'slight': 2866, 'eastwood': 2867, 'urg': 2868, 'canada': 2869, 'squar': 2870, 'superhero': 2871, 'reader': 2872, 'hawk': 2873, 'poison': 2874, '1st': 2875, 'disc': 2876, 'deriv': 2877, 'afford': 2878, 'distanc': 2879, 'eva': 2880, 'newspap': 2881, 'huh': 2882, 'heston': 2883, 'spread': 2884, 'sadist': 2885, 'charisma': 2886, 'cure': 2887, 'montag': 2888, 'drown': 2889, 'button': 2890, 'restaur': 2891, 'essenc': 2892, 'health': 2893, 'skit': 2894, 'lab': 2895, 'muslim': 2896, 'companion': 2897, 'gradual': 2898, 'godfath': 2899, 'fetch': 2900, 'maniac': 2901, 'dealt': 2902, 'estat': 2903, 'scoobi': 2904, 'invest': 2905, 'peak': 2906, 'ritter': 2907, 'alli': 2908, 'kane': 2909, 'cup': 2910, 'tea': 2911, 'servant': 2912, 'countless': 2913, 'subtleti': 2914, 'miik': 2915, 'gothic': 2916, 'heroic': 2917, 'iii': 2918, 'elect': 2919, 'briefli': 2920, 'charismat': 2921, 'electr': 2922, 'salli': 2923, 'tender': 2924, 'reel': 2925, 'ingredi': 2926, 'nuanc': 2927, 'bud': 2928, 'resourc': 2929, 'admittedli': 2930, 'grandmoth': 2931, 'neil': 2932, 'wannab': 2933, 'toss': 2934, 'cole': 2935, 'pit': 2936, 'dawson': 2937, 'punk': 2938, 'stood': 2939, 'carrey': 2940, 'shall': 2941, 'stronger': 2942, 'mild': 2943, 'poverti': 2944, 'label': 2945, 'gate': 2946, 'reev': 2947, 'mafia': 2948, 'kubrick': 2949, 'pauli': 2950, 'smash': 2951, 'cox': 2952, 'ian': 2953, 'outcom': 2954, 'useless': 2955, 'updat': 2956, 'assault': 2957, 'burst': 2958, 'terri': 2959, 'tag': 2960, 'smooth': 2961, 'astair': 2962, 'bakshi': 2963, 'cardboard': 2964, 'easier': 2965, 'fond': 2966, 'fist': 2967, 'qualifi': 2968, 'increasingli': 2969, '2002': 2970, 'samurai': 2971, 'sketch': 2972, 'rex': 2973, 'vulner': 2974, 'vari': 2975, 'resolv': 2976, 'exchang': 2977, 'divers': 2978, 'melodramat': 2979, 'coincid': 2980, 'templ': 2981, 'blast': 2982, 'suspend': 2983, 'luckili': 2984, 'reynold': 2985, 'conveni': 2986, 'scratch': 2987, 'be': 2988, 'brillianc': 2989, 'insert': 2990, 'tame': 2991, 'ambiti': 2992, 'coach': 2993, 'meat': 2994, 'matthew': 2995, 'nuclear': 2996, 'hamilton': 2997, 'seventi': 2998, 'jami': 2999, 'farm': 3000, 'walker': 3001, 'strictli': 3002, 'pin': 3003, 'gotta': 3004, 'soprano': 3005, 'fisher': 3006, 'convolut': 3007, 'instantli': 3008, 'timeless': 3009, 'worthless': 3010, 'closet': 3011, 'eccentr': 3012, 'empir': 3013, 'revers': 3014, 'monk': 3015, 'grasp': 3016, 'brosnan': 3017, 'recreat': 3018, 'joey': 3019, 'butcher': 3020, 'ninja': 3021, 'kudo': 3022, 'clock': 3023, 'struck': 3024, 'discoveri': 3025, 'spooki': 3026, 'cave': 3027, 'eighti': 3028, 'evok': 3029, 'bleak': 3030, 'selfish': 3031, 'seller': 3032, 'partli': 3033, 'cliff': 3034, 'clown': 3035, 'sidekick': 3036, 'communist': 3037, 'gray': 3038, 'sloppi': 3039, 'wipe': 3040, 'mitchel': 3041, 'fifteen': 3042, 'inconsist': 3043, 'importantli': 3044, 'miracl': 3045, 'declar': 3046, 'pal': 3047, 'norman': 3048, 'aforement': 3049, 'cheek': 3050, 'piano': 3051, 'enthusiast': 3052, 'chew': 3053, 'superbl': 3054, 'lifestyl': 3055, 'debat': 3056, 'stoog': 3057, 'destin': 3058, 'australia': 3059, '45': 3060, 'psychiatrist': 3061, 'seed': 3062, 'farc': 3063, 'websit': 3064, 'ho': 3065, 'flawless': 3066, 'pressur': 3067, 'regardless': 3068, 'emili': 3069, 'directori': 3070, 'incompet': 3071, 'abc': 3072, 'bash': 3073, 'anni': 3074, 'soviet': 3075, 'akshay': 3076, 'wick': 3077, 'dire': 3078, 'kitchen': 3079, 'splatter': 3080, 'drivel': 3081, 'dash': 3082, 'wrestl': 3083, 'slice': 3084, 'suppli': 3085, 'duo': 3086, 'increas': 3087, 'pleasantli': 3088, 'distant': 3089, 'prize': 3090, 'beaten': 3091, 'chapter': 3092, 'boil': 3093, 'flower': 3094, 'artifici': 3095, 'mann': 3096, 'curios': 3097, 'jar': 3098, 'cagney': 3099, 'cia': 3100, 'seduc': 3101, 'recov': 3102, 'judi': 3103, 'helicopt': 3104, 'ken': 3105, 'dave': 3106, 'cameron': 3107, 'lou': 3108, 'glow': 3109, 'doo': 3110, 'blob': 3111, 'splendid': 3112, 'turner': 3113, 'glenn': 3114, 'drunken': 3115, 'hop': 3116, 'laurel': 3117, 'francisco': 3118, 'ranger': 3119, 'eleg': 3120, 'craig': 3121, 'ellen': 3122, 'panic': 3123, 'goldberg': 3124, 'craven': 3125, 'perri': 3126, 'web': 3127, 'psychot': 3128, 'favour': 3129, 'combat': 3130, 'philosophi': 3131, 'gentl': 3132, '20th': 3133, 'wizard': 3134, 'min': 3135, 'flip': 3136, 'graduat': 3137, 'greek': 3138, 'rid': 3139, 'shortli': 3140, 'ruth': 3141, 'gandhi': 3142, 'hatr': 3143, 'plausibl': 3144, 'alexand': 3145, 'slightest': 3146, 'fx': 3147, 'falk': 3148, 'modesti': 3149, 'unpleas': 3150, 'dracula': 3151, 'preciou': 3152, 'jealou': 3153, 'fund': 3154, 'legal': 3155, 'knight': 3156, 'holi': 3157, 'we': 3158, 'tall': 3159, 'harm': 3160, 'manhattan': 3161, 'ocean': 3162, 'lend': 3163, 'felix': 3164, 'futurist': 3165, 'thread': 3166, 'childish': 3167, 'forbidden': 3168, 'reviv': 3169, 'digniti': 3170, 'giallo': 3171, 'mock': 3172, 'bless': 3173, 'ami': 3174, 'nod': 3175, 'overdon': 3176, 'explicit': 3177, 'scientif': 3178, 'tank': 3179, 'unwatch': 3180, 'eve': 3181, 'elderli': 3182, 'awaken': 3183, '99': 3184, 'broad': 3185, 'pirat': 3186, 'nerv': 3187, 'verhoeven': 3188, 'yesterday': 3189, 'mel': 3190, 'torment': 3191, 'fever': 3192, '2004': 3193, 'margaret': 3194, 'repeatedli': 3195, 'thick': 3196, 'awe': 3197, 'rivet': 3198, 'ambit': 3199, 'acclaim': 3200, 'ah': 3201, 'griffith': 3202, 'absenc': 3203, 'romero': 3204, 'roman': 3205, 'eas': 3206, 'uniform': 3207, 'stiller': 3208, 'politician': 3209, 'kay': 3210, 'timothi': 3211, 'automat': 3212, 'bin': 3213, 'royal': 3214, 'launch': 3215, 'publish': 3216, 'lean': 3217, 'custom': 3218, 'stinker': 3219, 'bathroom': 3220, 'transport': 3221, 'wallac': 3222, 'tomato': 3223, 'warren': 3224, 'antic': 3225, 'pierc': 3226, 'crook': 3227, 'darker': 3228, 'termin': 3229, 'pulp': 3230, 'purpl': 3231, 'foul': 3232, 'homicid': 3233, 'phrase': 3234, 'sunshin': 3235, 'gabriel': 3236, 'revolutionari': 3237, 'album': 3238, 'evolv': 3239, 'packag': 3240, 'juvenil': 3241, 'coloni': 3242, 'sixti': 3243, 'contrari': 3244, 'viciou': 3245, 'hollow': 3246, 'horrid': 3247, 'marin': 3248, 'li': 3249, 'kenneth': 3250, 'awak': 3251, '2003': 3252, 'ought': 3253, 'donna': 3254, 'saint': 3255, 'brazil': 3256, 'karen': 3257, 'eyr': 3258, 'pray': 3259, 'choreographi': 3260, 'rambo': 3261, 'prom': 3262, 'q': 3263, 'beatti': 3264, 'dose': 3265, 'candid': 3266, 'ramon': 3267, 'option': 3268, 'mummi': 3269, 'defi': 3270, 'nerd': 3271, 'kapoor': 3272, 'blade': 3273, 'twelv': 3274, 'stole': 3275, 'conserv': 3276, 'ireland': 3277, 'boast': 3278, 'overr': 3279, 'mildr': 3280, 'trio': 3281, 'kirk': 3282, 'confirm': 3283, 'funer': 3284, 'natali': 3285, 'flame': 3286, 'astonish': 3287, 'global': 3288, 'collabor': 3289, 'altman': 3290, 'detract': 3291, 'protest': 3292, 'jazz': 3293, 'fulci': 3294, 'mystic': 3295, 'leap': 3296, 'nicholson': 3297, 'whip': 3298, 'spit': 3299, 'shade': 3300, 'racial': 3301, 'destini': 3302, 'blake': 3303, 'bull': 3304, 'tommi': 3305, 'audio': 3306, 'delici': 3307, 'bottl': 3308, 'enterpris': 3309, 'yellow': 3310, 'pseudo': 3311, 'merci': 3312, 'popcorn': 3313, 'todd': 3314, 'meaningless': 3315, 'adolesc': 3316, 'altogeth': 3317, 'staff': 3318, 'fonda': 3319, 'inherit': 3320, 'enchant': 3321, 'visibl': 3322, 'threw': 3323, 'harder': 3324, 'reunit': 3325, 'vivid': 3326, 'bedroom': 3327, 'swedish': 3328, 'neo': 3329, 'await': 3330, 'roommat': 3331, 'wire': 3332, 'decor': 3333, 'befriend': 3334, 'voight': 3335, 'bust': 3336, 'kennedi': 3337, 'suspici': 3338, 'exhibit': 3339, 'madonna': 3340, 'tip': 3341, 'crocodil': 3342, 'uneven': 3343, 'edi': 3344, 'lawrenc': 3345, 'moodi': 3346, 'atlanti': 3347, 'fanat': 3348, 'ruthless': 3349, 'respond': 3350, 'lemmon': 3351, 'leonard': 3352, 'jew': 3353, 'reserv': 3354, 'synopsi': 3355, 'bold': 3356, 'rural': 3357, 'dimens': 3358, 'incident': 3359, 'clint': 3360, 'carl': 3361, 'holli': 3362, 'chao': 3363, 'garner': 3364, 'audit': 3365, 'ventur': 3366, 'bradi': 3367, 'bargain': 3368, '2007': 3369, 'palma': 3370, 'unsettl': 3371, 'abysm': 3372, 'clumsi': 3373, 'centr': 3374, 'voyag': 3375, 'lit': 3376, 'echo': 3377, 'daddi': 3378, 'hart': 3379, 'troop': 3380, 'poetic': 3381, 'immigr': 3382, 'humili': 3383, 'mall': 3384, 'nearbi': 3385, 'tiger': 3386, 'trail': 3387, 'acknowledg': 3388, 'neglect': 3389, 'characterist': 3390, 'cd': 3391, 'timon': 3392, 'wealth': 3393, 'versu': 3394, '2nd': 3395, 'cuba': 3396, 'cari': 3397, 'elimin': 3398, 'ant': 3399, 'imperson': 3400, 'jeffrey': 3401, 'saga': 3402, 'collaps': 3403, 'prejudic': 3404, 'marshal': 3405, 'solo': 3406, 'homer': 3407, 'infect': 3408, 'mistaken': 3409, 'celluloid': 3410, 'repuls': 3411, 'domest': 3412, 'mickey': 3413, 'pun': 3414, 'paus': 3415, 'interrupt': 3416, 'milk': 3417, 'inappropri': 3418, 'promin': 3419, 'undoubtedli': 3420, 'equip': 3421, 'inan': 3422, 'cake': 3423, 'tribe': 3424, '1996': 3425, 'apolog': 3426, 'coat': 3427, 'assembl': 3428, 'gear': 3429, 'pant': 3430, 'leon': 3431, 'sore': 3432, 'chest': 3433, 'coffe': 3434, 'harvey': 3435, 'ginger': 3436, 'olivi': 3437, 'hbo': 3438, 'brooklyn': 3439, 'devast': 3440, 'pot': 3441, 'florida': 3442, 'trace': 3443, 'polanski': 3444, 'humbl': 3445, 'highest': 3446, 'airplan': 3447, 'solut': 3448, 'aveng': 3449, 'colleagu': 3450, 'pen': 3451, 'primari': 3452, 'exot': 3453, 'consum': 3454, 'vulgar': 3455, 'maggi': 3456, 'instant': 3457, 'retain': 3458, 'jenni': 3459, 'embrac': 3460, 'institut': 3461, 'colonel': 3462, 'furthermor': 3463, 'rick': 3464, 'principl': 3465, 'strain': 3466, '1999': 3467, 'sale': 3468, 'seduct': 3469, 'linda': 3470, 'poke': 3471, 'illog': 3472, 'godzilla': 3473, 'wive': 3474, 'gender': 3475, 'disabl': 3476, 'descend': 3477, 'outer': 3478, 'ya': 3479, 'bowl': 3480, '3rd': 3481, 'smaller': 3482, 'cope': 3483, 'dian': 3484, 'dutch': 3485, 'dud': 3486, 'blatant': 3487, 'gundam': 3488, 'inferior': 3489, 'gloriou': 3490, 'beneath': 3491, 'secondli': 3492, 'bubbl': 3493, 'primarili': 3494, 'hal': 3495, 'lol': 3496, 'devoid': 3497, 'rabbit': 3498, 'glamor': 3499, 'mixtur': 3500, 'vast': 3501, 'dive': 3502, 'predecessor': 3503, 'scope': 3504, 'yard': 3505, 'cue': 3506, 'alfr': 3507, 'casual': 3508, 'simplist': 3509, 'z': 3510, 'grinch': 3511, 'aggress': 3512, 'pearl': 3513, 'alert': 3514, 'arab': 3515, 'shirley': 3516, 'april': 3517, 'senseless': 3518, 'trademark': 3519, 'talki': 3520, 'shelf': 3521, 'myer': 3522, 'hideou': 3523, 'breed': 3524, 'museum': 3525, 'streep': 3526, 'disjoint': 3527, 'countrysid': 3528, 'invas': 3529, 'et': 3530, 'garbo': 3531, 'domino': 3532, 'vanish': 3533, 'loyal': 3534, 'unhappi': 3535, 'stack': 3536, 'experiment': 3537, 'hopeless': 3538, 'slide': 3539, 'acid': 3540, 'obtain': 3541, 'oz': 3542, 'boom': 3543, 'rendit': 3544, 'illeg': 3545, 'sh': 3546, 'defens': 3547, 'disgrac': 3548, 'khan': 3549, 'maci': 3550, 'stellar': 3551, 'stir': 3552, 'mail': 3553, 'hardcor': 3554, 'uwe': 3555, 'robinson': 3556, 'applaud': 3557, 'mayor': 3558, 'robberi': 3559, 'span': 3560, 'fri': 3561, 'tempt': 3562, 'soccer': 3563, 'diana': 3564, 'spider': 3565, 'blew': 3566, 'incomprehens': 3567, 'wont': 3568, 'counter': 3569, 'dicken': 3570, 'grandfath': 3571, 'scroog': 3572, 'berlin': 3573, 'psychic': 3574, 'topless': 3575, 'hartley': 3576, 'craze': 3577, 'emphasi': 3578, 'dismiss': 3579, 'rifl': 3580, 'tenant': 3581, 'recruit': 3582, 'declin': 3583, 'amanda': 3584, 'shed': 3585, 'resurrect': 3586, 'parad': 3587, 'riot': 3588, 'trashi': 3589, 'bitch': 3590, 'sympath': 3591, 'revolt': 3592, 'shaw': 3593, 'ration': 3594, 'porno': 3595, 'woo': 3596, 'goer': 3597, 'intim': 3598, 'justin': 3599, 'wet': 3600, 'sibl': 3601, 'ethnic': 3602, 'lumet': 3603, 'faster': 3604, 'niro': 3605, 'mario': 3606, 'wendi': 3607, 'patriot': 3608, 'eager': 3609, 'honesti': 3610, 'enlighten': 3611, 'weakest': 3612, 'immort': 3613, 'unreal': 3614, 'jonathan': 3615, 'ensur': 3616, 'partial': 3617, '00': 3618, 'region': 3619, 'biographi': 3620, 'rider': 3621, 'hopper': 3622, 'gap': 3623, 'feminist': 3624, 'steam': 3625, 'worm': 3626, 'wheel': 3627, 'choru': 3628, 'ballet': 3629, 'nephew': 3630, 'slick': 3631, 'hesit': 3632, 'dealer': 3633, 'farmer': 3634, 'commend': 3635, 'andr': 3636, 'lena': 3637, 'util': 3638, 'victori': 3639, 'safeti': 3640, 'vice': 3641, 'morri': 3642, 'confin': 3643, 'sappi': 3644, 'hung': 3645, 'leo': 3646, 'similarli': 3647, 'psychopath': 3648, 'wore': 3649, 'nostalg': 3650, 'franco': 3651, 'blunt': 3652, 'kingdom': 3653, 'skull': 3654, 'repress': 3655, 'properti': 3656, 'composit': 3657, 'snap': 3658, 'mutant': 3659, 'charlott': 3660, 'owen': 3661, 'sandra': 3662, 'prequel': 3663, 'macarthur': 3664, 'rope': 3665, 'tad': 3666, 'bow': 3667, 'bonu': 3668, 'repli': 3669, 'pattern': 3670, 'bergman': 3671, 'acquir': 3672, 'rambl': 3673, 'compass': 3674, 'deed': 3675, 'del': 3676, 'bumbl': 3677, 'thru': 3678, 'speci': 3679, 'emperor': 3680, 'valuabl': 3681, 'tail': 3682, 'strand': 3683, 'cg': 3684, 'whoopi': 3685, 'latin': 3686, 'snl': 3687, 'dalton': 3688, 'recycl': 3689, '1972': 3690, 'heartbreak': 3691, 'exit': 3692, 'miseri': 3693, 'nervou': 3694, 'campbel': 3695, 'farrel': 3696, 'hyde': 3697, 'despair': 3698, 'compens': 3699, 'rocki': 3700, 'dust': 3701, 'kyle': 3702, 'drain': 3703, 'montana': 3704, 'drum': 3705, 'martian': 3706, 'olli': 3707, 'rapist': 3708, 'roth': 3709, 'wacki': 3710, 'oppress': 3711, 'downhil': 3712, 'gal': 3713, 'contempl': 3714, 'tonight': 3715, 'mistress': 3716, 'carradin': 3717, 'percept': 3718, 'radic': 3719, 'airport': 3720, '35': 3721, 'romp': 3722, 'rotten': 3723, 'pour': 3724, 'gimmick': 3725, 'da': 3726, 'chess': 3727, 'slug': 3728, 'orson': 3729, 'bleed': 3730, '1983': 3731, 'banal': 3732, 'tackl': 3733, 'pervert': 3734, 'slash': 3735, 'edgar': 3736, 'attorney': 3737, 'melodi': 3738, 'belt': 3739, 'preach': 3740, 'tooth': 3741, 'mislead': 3742, 'heal': 3743, 'arguabl': 3744, 'shelley': 3745, 'dazzl': 3746, 'taught': 3747, 'pervers': 3748, 'stilt': 3749, 'programm': 3750, 'arc': 3751, 'pursuit': 3752, 'unpredict': 3753, 'champion': 3754, 'paltrow': 3755, 'duval': 3756, 'sensat': 3757, 'plight': 3758, 'vengeanc': 3759, 'closest': 3760, 'mesmer': 3761, 'chicken': 3762, 'tiresom': 3763, 'employe': 3764, 'gambl': 3765, 'uplift': 3766, 'bela': 3767, 'passeng': 3768, 'conneri': 3769, 'graham': 3770, 'vocal': 3771, 'dixon': 3772, 'maid': 3773, 'cleverli': 3774, 'franki': 3775, 'virginia': 3776, 'rubi': 3777, 'raymond': 3778, 'marti': 3779, 'poem': 3780, 'orang': 3781, 'volum': 3782, 'suffic': 3783, 'habit': 3784, 'sirk': 3785, '1968': 3786, 'outing': 3787, 'bay': 3788, 'secretli': 3789, 'calm': 3790, 'extens': 3791, 'climact': 3792, 'numb': 3793, 'giggl': 3794, 'mute': 3795, 'abraham': 3796, 'whine': 3797, 'gerard': 3798, 'engross': 3799, 'amitabh': 3800, 'swallow': 3801, 'convincingli': 3802, 'inject': 3803, 'paranoia': 3804, 'lundgren': 3805, 'tube': 3806, 'monologu': 3807, 'crystal': 3808, 'clone': 3809, 'quarter': 3810, 'iran': 3811, 'scottish': 3812, 'yawn': 3813, 'profan': 3814, 'pokemon': 3815, 'underst': 3816, 'linger': 3817, 'earl': 3818, 'franci': 3819, 'fed': 3820, 'poetri': 3821, 'frankenstein': 3822, 'surpass': 3823, 'junior': 3824, 'nichola': 3825, 'profess': 3826, 'austen': 3827, 'abort': 3828, 'backward': 3829, 'septemb': 3830, 'plod': 3831, 'chicago': 3832, 'dispos': 3833, 'im': 3834, 'meander': 3835, 'grotesqu': 3836, 'bend': 3837, 'ethan': 3838, 'richardson': 3839, 'lowest': 3840, 'taxi': 3841, 'expand': 3842, 'trend': 3843, 'spock': 3844, 'muddl': 3845, 'spoke': 3846, 'mundan': 3847, 'der': 3848, 'household': 3849, 'greedi': 3850, 'rubber': 3851, 'simplic': 3852, 'tourist': 3853, 'cannon': 3854, 'nostalgia': 3855, 'catchi': 3856, 'waitress': 3857, 'hum': 3858, 'dysfunct': 3859, 'myth': 3860, 'literatur': 3861, 'rant': 3862, 'descent': 3863, 'sue': 3864, 'econom': 3865, 'compliment': 3866, 'stallon': 3867, 'lure': 3868, 'instrument': 3869, 'eugen': 3870, 'mortal': 3871, 'hello': 3872, 'bacal': 3873, 'crucial': 3874, 'damon': 3875, 'mankind': 3876, 'irrelev': 3877, 'insur': 3878, 'duck': 3879, 'eaten': 3880, 'map': 3881, 'equival': 3882, 'cent': 3883, 'randi': 3884, 'sissi': 3885, 'stale': 3886, 'firstli': 3887, 'occupi': 3888, 'dictat': 3889, 'dement': 3890, 'recognit': 3891, 'june': 3892, 'alongsid': 3893, 'recognis': 3894, 'flee': 3895, 'phantom': 3896, 'furi': 3897, 'louis': 3898, 'lang': 3899, 'phoni': 3900, 'carel': 3901, 'coast': 3902, 'molli': 3903, 'deaf': 3904, 'omen': 3905, 'onlin': 3906, 'daisi': 3907, 'freez': 3908, 'wisdom': 3909, 'heel': 3910, 'newli': 3911, 'labor': 3912, 'distinguish': 3913, 'drake': 3914, 'blackmail': 3915, 'buffalo': 3916, '1973': 3917, 'cyborg': 3918, 'reign': 3919, 'loyalti': 3920, 'twilight': 3921, 'ashley': 3922, 'bump': 3923, 'lengthi': 3924, 'likewis': 3925, 'bike': 3926, 'rude': 3927, 'grayson': 3928, 'biko': 3929, 'dreari': 3930, 'antwon': 3931, 'damm': 3932, 'rooney': 3933, 'inher': 3934, 'chronicl': 3935, 'startl': 3936, 'provoc': 3937, 'interior': 3938, 'attribut': 3939, 'exposur': 3940, 'ridden': 3941, 'analysi': 3942, 'unorigin': 3943, 'worn': 3944, 'basketbal': 3945, 'boxer': 3946, 'vein': 3947, 'prey': 3948, 'barrymor': 3949, 'keith': 3950, 'sailor': 3951, 'butler': 3952, 'tunnel': 3953, 'emphas': 3954, 'pink': 3955, 'approv': 3956, 'proce': 3957, 'incorpor': 3958, 'baddi': 3959, 'nineti': 3960, 'predat': 3961, 'millionair': 3962, 'walsh': 3963, 'unrel': 3964, 'fleet': 3965, 'undeni': 3966, 'condemn': 3967, 'drift': 3968, 'indiffer': 3969, 'mighti': 3970, 'mormon': 3971, 'bunni': 3972, 'robbin': 3973, 'er': 3974, 'barrel': 3975, 'stalker': 3976, 'othello': 3977, 'improvis': 3978, 'meg': 3979, 'nicol': 3980, 'meyer': 3981, 'belushi': 3982, 'underli': 3983, 'degrad': 3984, 'julian': 3985, 'simmon': 3986, 'hypnot': 3987, 'elm': 3988, 'substitut': 3989, 'carla': 3990, 'dolph': 3991, 'enthusiasm': 3992, 'firm': 3993, 'nyc': 3994, 'watson': 3995, 'palac': 3996, 'agenda': 3997, 'roof': 3998, 'disord': 3999, 'hay': 4000, 'exquisit': 4001, 'mtv': 4002, 'lampoon': 4003, 'unawar': 4004, 'errol': 4005, 'reid': 4006, 'edgi': 4007, 'alarm': 4008, 'marion': 4009, 'novak': 4010, 'alison': 4011, '3d': 4012, 'vital': 4013, 'warmth': 4014, 'shove': 4015, 'priceless': 4016, 'greed': 4017, 'rukh': 4018, 'testament': 4019, 'simultan': 4020, 'beatl': 4021, 'nun': 4022, 'coup': 4023, 'eastern': 4024, 'iraq': 4025, '13th': 4026, 'thompson': 4027, 'session': 4028, 'angela': 4029, 'showdown': 4030, 'peril': 4031, 'unleash': 4032, 'pamela': 4033, 'distort': 4034, 'glanc': 4035, 'israel': 4036, 'petti': 4037, 'campaign': 4038, 'championship': 4039, 'gestur': 4040, 'ponder': 4041, 'what': 4042, 'cassidi': 4043, 'crown': 4044, 'orlean': 4045, 'preserv': 4046, '1933': 4047, 'randomli': 4048, 'valentin': 4049, 'peck': 4050, 'sergeant': 4051, 'zizek': 4052, 'minimum': 4053, 'profit': 4054, 'drip': 4055, 'spain': 4056, '1984': 4057, 'miyazaki': 4058, 'travesti': 4059, 'wig': 4060, 'buster': 4061, 'valley': 4062, 'perpetu': 4063, 'stroke': 4064, 'crow': 4065, 'restrain': 4066, 'crawl': 4067, 'han': 4068, 'rout': 4069, 'shootout': 4070, 'realm': 4071, 'sabrina': 4072, 'reson': 4073, 'represent': 4074, 'stake': 4075, 'mon': 4076, 'regist': 4077, 'empathi': 4078, 'gentleman': 4079, 'exposit': 4080, 'quinn': 4081, 'contradict': 4082, 'unimagin': 4083, 'jan': 4084, 'cooki': 4085, 'calib': 4086, 'fido': 4087, 'brenda': 4088, 'climat': 4089, 'cream': 4090, 'bro': 4091, 'scotland': 4092, 'kurosawa': 4093, 'din': 4094, 'distress': 4095, '1987': 4096, 'derang': 4097, 'shoddi': 4098, 'wax': 4099, 'tacki': 4100, 'delic': 4101, 'ross': 4102, 'shaki': 4103, 'mclaglen': 4104, 'sucker': 4105, 'pretens': 4106, 'absent': 4107, 'passabl': 4108, 'stargat': 4109, 'femm': 4110, 'greg': 4111, 'spacey': 4112, 'monoton': 4113, 'abomin': 4114, 'perceiv': 4115, 'compromis': 4116, '1997': 4117, 'traumat': 4118, 'pole': 4119, 'ustinov': 4120, 'josh': 4121, 'fuller': 4122, 'censor': 4123, 'soderbergh': 4124, 'dana': 4125, 'geek': 4126, 'cloud': 4127, 'darren': 4128, 'meryl': 4129, 'demis': 4130, 'painter': 4131, 'baldwin': 4132, 'sammi': 4133, 'warrant': 4134, 'unseen': 4135, 'crawford': 4136, 'businessman': 4137, 'unsatisfi': 4138, 'antonioni': 4139, 'deniro': 4140, '1993': 4141, 'tech': 4142, 'deceas': 4143, 'seal': 4144, 'jewel': 4145, 'accuraci': 4146, 'primit': 4147, 'polici': 4148, 'sid': 4149, 'expedit': 4150, 'austin': 4151, 'furiou': 4152, 'valid': 4153, 'click': 4154, 'dee': 4155, 'judgment': 4156, 'uncov': 4157, 'verbal': 4158, 'norm': 4159, 'anchor': 4160, 'clash': 4161, 'correctli': 4162, 'tarantino': 4163, 'unravel': 4164, 'exclus': 4165, 'kumar': 4166, 'reluct': 4167, 'nathan': 4168, 'fog': 4169, 'fenc': 4170, 'wholli': 4171, '2008': 4172, 'malon': 4173, 'trait': 4174, 'murray': 4175, 'clerk': 4176, 'pocket': 4177, '3000': 4178, 'nicola': 4179, 'dreck': 4180, 'fart': 4181, 'alec': 4182, '1995': 4183, 'shanghai': 4184, 'darn': 4185, 'hallucin': 4186, 'roller': 4187, 'sustain': 4188, 'wretch': 4189, 'ritual': 4190, 'sheet': 4191, 'fought': 4192, 'bake': 4193, 'temper': 4194, 'seldom': 4195, 'crippl': 4196, 'slam': 4197, '1971': 4198, 'patienc': 4199, 'joel': 4200, 'wang': 4201, 'sunni': 4202, 'tax': 4203, 'debt': 4204, 'enforc': 4205, 'fabric': 4206, 'conduct': 4207, 'logan': 4208, 'unfair': 4209, 'sand': 4210, 'behold': 4211, 'mode': 4212, 'vanc': 4213, 'rita': 4214, 'exhaust': 4215, 'critiqu': 4216, 'clau': 4217, 'squad': 4218, 'sweep': 4219, 'fundament': 4220, 'isabel': 4221, 'helpless': 4222, 'schedul': 4223, 'runner': 4224, 'bias': 4225, 'scriptwrit': 4226, 'phil': 4227, 'preposter': 4228, 'bridget': 4229, 'conscious': 4230, 'shell': 4231, 'soup': 4232, 'despis': 4233, 'divid': 4234, 'penni': 4235, 'grief': 4236, 'tactic': 4237, 'legaci': 4238, 'stark': 4239, 'pete': 4240, 'guitar': 4241, 'technicolor': 4242, 'canyon': 4243, 'stuart': 4244, 'outlin': 4245, 'preston': 4246, 'robber': 4247, 'connor': 4248, 'consciou': 4249, 'invad': 4250, 'drove': 4251, 'restrict': 4252, 'cigarett': 4253, 'culmin': 4254, 'rehash': 4255, 'lacklust': 4256, 'inabl': 4257, 'bloom': 4258, 'jodi': 4259, 'sniper': 4260, 'liberti': 4261, 'rear': 4262, 'passag': 4263, 'sugar': 4264, 'delv': 4265, 'vomit': 4266, 'kansa': 4267, 'marc': 4268, 'russia': 4269, 'flair': 4270, 'boyl': 4271, 'newman': 4272, 'unexpectedli': 4273, 'gregori': 4274, 'sentinel': 4275, 'palanc': 4276, 'alicia': 4277, 'downey': 4278, 'implic': 4279, 'jacket': 4280, 'alley': 4281, 'agenc': 4282, 'propos': 4283, 'wrench': 4284, 'sharon': 4285, 'horn': 4286, 'improb': 4287, 'tripe': 4288, 'chainsaw': 4289, 'tendenc': 4290, 'asylum': 4291, 'yeti': 4292, 'bacon': 4293, '22': 4294, 'ladder': 4295, 'aesthet': 4296, 'mccoy': 4297, 'behaviour': 4298, 'foxx': 4299, 'rampag': 4300, 'karl': 4301, '1936': 4302, 'arrow': 4303, 'rehears': 4304, 'pale': 4305, 'lush': 4306, 'cap': 4307, 'rod': 4308, 'awhil': 4309, 'feat': 4310, 'delet': 4311, 'vet': 4312, 'kolchak': 4313, 'financ': 4314, '1920': 4315, 'paramount': 4316, 'amazon': 4317, 'hulk': 4318, 'weav': 4319, 'hackney': 4320, 'fright': 4321, 'wagner': 4322, 'suffici': 4323, 'rhythm': 4324, 'visitor': 4325, 'basing': 4326, 'tomorrow': 4327, 'wildli': 4328, 'hungri': 4329, 'underneath': 4330, 'minu': 4331, 'suspicion': 4332, '1988': 4333, 'elit': 4334, 'rumor': 4335, 'newcom': 4336, 'sung': 4337, 'paradis': 4338, 'loneli': 4339, 'el': 4340, 'prank': 4341, 'conscienc': 4342, 'lurk': 4343, 'tasteless': 4344, 'spice': 4345, 'coaster': 4346, 'aristocrat': 4347, 'shortcom': 4348, 'filler': 4349, '1978': 4350, '19th': 4351, 'globe': 4352, 'scoop': 4353, 'stream': 4354, 'thunderbird': 4355, 'beverli': 4356, '1989': 4357, 'straightforward': 4358, 'worship': 4359, 'rub': 4360, 'ram': 4361, 'minist': 4362, 'inmat': 4363, 'choppi': 4364, 'curli': 4365, 'abrupt': 4366, 'dirt': 4367, 'atroc': 4368, 'recogniz': 4369, 'en': 4370, 'couch': 4371, 'posey': 4372, 'teas': 4373, 'brit': 4374, 'entranc': 4375, 'grudg': 4376, 'impos': 4377, 'penn': 4378, 'secondari': 4379, 'standout': 4380, 'chavez': 4381, 'ingeni': 4382, 'hopkin': 4383, 'wwe': 4384, 'iv': 4385, 'cancer': 4386, 'smell': 4387, 'leigh': 4388, 'paxton': 4389, '1939': 4390, 'quietli': 4391, 'tierney': 4392, 'immers': 4393, 'naughti': 4394, 'lectur': 4395, 'springer': 4396, '75': 4397, 'chamberlain': 4398, 'heist': 4399, 'literari': 4400, 'bread': 4401, 'counterpart': 4402, 'heartfelt': 4403, 'entitl': 4404, '1986': 4405, 'yearn': 4406, 'ace': 4407, 'bernard': 4408, 'convert': 4409, 'misguid': 4410, 'missil': 4411, 'quaid': 4412, 'attenborough': 4413, 'skeptic': 4414, 'morbid': 4415, 'net': 4416, 'injuri': 4417, 'watcher': 4418, 'sublim': 4419, 'moreov': 4420, 'variat': 4421, 'clan': 4422, 'lindsay': 4423, 'ratso': 4424, 'transcend': 4425, 'policeman': 4426, 'enthral': 4427, 'sassi': 4428, 'nolan': 4429, 'laurenc': 4430, 'cattl': 4431, 'esther': 4432, 'nemesi': 4433, 'geni': 4434, 'duel': 4435, 'moder': 4436, '1979': 4437, 'tyler': 4438, 'characteris': 4439, 'graini': 4440, 'vader': 4441, 'unexplain': 4442, 'reliabl': 4443, 'setup': 4444, 'youngest': 4445, 'out': 4446, 'egg': 4447, 'bye': 4448, 'mytholog': 4449, 'grin': 4450, 'hopelessli': 4451, 'kidman': 4452, 'steadi': 4453, 'enabl': 4454, 'bean': 4455, 'dont': 4456, 'buzz': 4457, 'poe': 4458, 'hk': 4459, 'obstacl': 4460, 'uncut': 4461, 'brood': 4462, 'kitti': 4463, 'puppi': 4464, 'artsi': 4465, 'facil': 4466, 'cruelti': 4467, 'spiral': 4468, 'carlito': 4469, 'rosemari': 4470, 'diari': 4471, 'clueless': 4472, 'gina': 4473, 'despic': 4474, '1969': 4475, 'baffl': 4476, 'christin': 4477, 'martha': 4478, 'spontan': 4479, 'acquaint': 4480, 'oblig': 4481, 'bewar': 4482, 'effici': 4483, 'bronson': 4484, 'underworld': 4485, 'fuel': 4486, 'disastr': 4487, 'heap': 4488, 'decept': 4489, 'bounc': 4490, 'hammi': 4491, 'gillian': 4492, 'athlet': 4493, 'sweat': 4494, 'kline': 4495, 'preming': 4496, 'niec': 4497, 'weather': 4498, 'patricia': 4499, 'brendan': 4500, 'exterior': 4501, 'narrow': 4502, 'hain': 4503, 'suprem': 4504, 'mayhem': 4505, 'shatter': 4506, 'analyz': 4507, 'loi': 4508, 'mermaid': 4509, 'virtu': 4510, 'viewpoint': 4511, 'harmless': 4512, 'sleepwalk': 4513, 'renaiss': 4514, 'enlist': 4515, 'trigger': 4516, 'angst': 4517, 'astound': 4518, '19': 4519, 'injur': 4520, 'scar': 4521, 'dilemma': 4522, 'taboo': 4523, 'headach': 4524, 'candl': 4525, 'rome': 4526, 'circu': 4527, 'housewif': 4528, 'biker': 4529, 'tick': 4530, 'fontain': 4531, 'goof': 4532, 'preachi': 4533, 'loath': 4534, 'lester': 4535, 'dandi': 4536, 'sooner': 4537, 'outlaw': 4538, '73': 4539, 'insipid': 4540, 'hepburn': 4541, 'uh': 4542, 'scorses': 4543, 'whore': 4544, 'spade': 4545, 'foolish': 4546, 'sox': 4547, 'ariel': 4548, 'zoom': 4549, 'redund': 4550, 'overlong': 4551, 'cassavet': 4552, 'steer': 4553, 'fluff': 4554, 'bent': 4555, 'slimi': 4556, 'filth': 4557, 'claustrophob': 4558, 'intric': 4559, 'stair': 4560, 'contempt': 4561, 'boston': 4562, 'glorifi': 4563, 'ebert': 4564, 'macho': 4565, 'hooker': 4566, 'gere': 4567, 'corbett': 4568, 'guin': 4569, 'stimul': 4570, 'camcord': 4571, 'immatur': 4572, 'surgeri': 4573, 'dismal': 4574, 'salt': 4575, 'oldest': 4576, 'tripl': 4577, 'hokey': 4578, 'amor': 4579, 'hostag': 4580, 'dish': 4581, 'idol': 4582, 'phenomenon': 4583, 'antagonist': 4584, 'cush': 4585, 'remad': 4586, 'beard': 4587, 'rhyme': 4588, 'faint': 4589, 'mount': 4590, 'obligatori': 4591, 'shield': 4592, 'gabl': 4593, 'radiat': 4594, '1976': 4595, 'mutual': 4596, 'spree': 4597, 'keen': 4598, 'strongest': 4599, 'cow': 4600, 'shred': 4601, 'frantic': 4602, 'proport': 4603, 'muscl': 4604, 'flirt': 4605, 'dwarf': 4606, 'assert': 4607, 'trivia': 4608, 'naschi': 4609, 'down': 4610, 'corman': 4611, 'perman': 4612, 'messi': 4613, 'fascist': 4614, 'nolt': 4615, 'gasp': 4616, 'conquer': 4617, 'flag': 4618, 'widescreen': 4619, 'spinal': 4620, 'transplant': 4621, 'harold': 4622, '1981': 4623, 'flashi': 4624, 'preced': 4625, 'joker': 4626, 'schlock': 4627, 'alvin': 4628, 'astronaut': 4629, 'margin': 4630, 'cohen': 4631, 'zane': 4632, 'mobil': 4633, 'boob': 4634, '95': 4635, 'strive': 4636, 'vaniti': 4637, 'repris': 4638, 'wield': 4639, 'sensual': 4640, 'barn': 4641, 'aborigin': 4642, 'brush': 4643, 'departur': 4644, 'persuad': 4645, 'bitten': 4646, 'ritchi': 4647, 'raj': 4648, 'scandal': 4649, 'triangl': 4650, 'bachelor': 4651, 'someday': 4652, 'danish': 4653, 'interestingli': 4654, 'flock': 4655, 'discern': 4656, 'archiv': 4657, 'deer': 4658, 'claud': 4659, 'instruct': 4660, 'neurot': 4661, 'inflict': 4662, 'www': 4663, 'resum': 4664, '28': 4665, 'divin': 4666, 'hara': 4667, 'off': 4668, '1945': 4669, 'carey': 4670, 'fishburn': 4671, 'info': 4672, 'mol': 4673, 'pickford': 4674, 'hapless': 4675, 'fragil': 4676, 'luka': 4677, 'heartwarm': 4678, 'melissa': 4679, 'cycl': 4680, 'cliffhang': 4681, 'axe': 4682, 'jade': 4683, 'dame': 4684, 'undermin': 4685, 'colin': 4686, 'ish': 4687, 'artwork': 4688, 'europa': 4689, 'hilar': 4690, 'cb': 4691, 'traffic': 4692, 'miracul': 4693, 'dylan': 4694, 'harrison': 4695, 'frontier': 4696, 'helm': 4697, 'casino': 4698, 'senior': 4699, 'recit': 4700, 'anton': 4701, 'clad': 4702, 'biblic': 4703, 'carlo': 4704, 'proclaim': 4705, 'vibrant': 4706, 'pacif': 4707, 'hug': 4708, 'rot': 4709, 'timberlak': 4710, 'banter': 4711, 'kathryn': 4712, 'wendigo': 4713, 'earnest': 4714, 'neill': 4715, 'dim': 4716, 'prophet': 4717, 'parson': 4718, 'bate': 4719, 'pixar': 4720, 'submit': 4721, 'mobster': 4722, 'loretta': 4723, 'cher': 4724, 'breakfast': 4725, 'vile': 4726, 'orphan': 4727, 'mathieu': 4728, 'lucil': 4729, 'foil': 4730, 'estrang': 4731, 'jo': 4732, 'electron': 4733, 'token': 4734, 'redneck': 4735, 'nope': 4736, 'isra': 4737, 'rooki': 4738, 'bikini': 4739, 'pc': 4740, 'trier': 4741, 'illus': 4742, 'feast': 4743, 'legitim': 4744, 'akin': 4745, 'northern': 4746, 'sicken': 4747, 'choke': 4748, 'eli': 4749, 'cerebr': 4750, 'bondag': 4751, 'flavor': 4752, 'venom': 4753, 'shepherd': 4754, 'http': 4755, 'blatantli': 4756, 'marlon': 4757, 'uma': 4758, 'static': 4759, 'misfortun': 4760, 'mason': 4761, 'lui': 4762, 'wardrob': 4763, 'vanessa': 4764, 'articl': 4765, 'antholog': 4766, 'seedi': 4767, 'aris': 4768, 'alexandr': 4769, 'winchest': 4770, 'jordan': 4771, 'toronto': 4772, 'milo': 4773, 'holocaust': 4774, 'razor': 4775, 'linear': 4776, 'psych': 4777, 'outdat': 4778, 'charlton': 4779, 'fifth': 4780, 'styliz': 4781, 'magician': 4782, 'disregard': 4783, 'oppon': 4784, 'knightley': 4785, 'smack': 4786, 'swept': 4787, 'ideolog': 4788, 'huston': 4789, 'gilbert': 4790, 'turd': 4791, 'abund': 4792, 'dudley': 4793, 'cartoonish': 4794, 'howl': 4795, 'comprehend': 4796, 'boyer': 4797, 'shorter': 4798, 'clinic': 4799, 'peer': 4800, 'audrey': 4801, 'feminin': 4802, 'deem': 4803, 'leather': 4804, 'tack': 4805, 'highway': 4806, 'nightclub': 4807, 'frog': 4808, 'glare': 4809, 'retriev': 4810, 'affleck': 4811, 'wrestler': 4812, 'ceremoni': 4813, 'gunga': 4814, 'whack': 4815, '1994': 4816, 'corn': 4817, 'lifeless': 4818, 'deliver': 4819, 'mitch': 4820, 'bogu': 4821, 'sleaz': 4822, 'lavish': 4823, 'greet': 4824, 'breakdown': 4825, 'tara': 4826, 'collector': 4827, 'summar': 4828, 'lighter': 4829, 'btw': 4830, 'toe': 4831, '4th': 4832, 'salman': 4833, 'potter': 4834, 'senat': 4835, 'newer': 4836, 'plate': 4837, 'spawn': 4838, 'monument': 4839, 'spine': 4840, 'compris': 4841, 'einstein': 4842, 'evolut': 4843, 'snatch': 4844, 'goldsworthi': 4845, 'boo': 4846, 'uniformli': 4847, 'chip': 4848, 'energet': 4849, '1991': 4850, 'client': 4851, 'conrad': 4852, 'braveheart': 4853, 'durat': 4854, 'bastard': 4855, 'cuban': 4856, 'phenomen': 4857, 'moe': 4858, 'cemeteri': 4859, 'outright': 4860, 'neatli': 4861, 'eleven': 4862, 'ol': 4863, '1977': 4864, '1974': 4865, 'fluid': 4866, 'constitut': 4867, 'occup': 4868, 'signal': 4869, 'jedi': 4870, 'wtf': 4871, 'pronounc': 4872, 'spectacl': 4873, 'jule': 4874, 'replay': 4875, 'belli': 4876, 'gilliam': 4877, 'kazan': 4878, 'ie': 4879, 'trauma': 4880, 'healthi': 4881, 'capot': 4882, 'randolph': 4883, 'bulk': 4884, 'nina': 4885, 'undead': 4886, 'sorrow': 4887, 'cecil': 4888, 'liu': 4889, 'inaccuraci': 4890, 'jare': 4891, 'undertak': 4892, 'luxuri': 4893, 'kent': 4894, 'firmli': 4895, 'historian': 4896, 'clara': 4897, 'lex': 4898, 'appl': 4899, 'embark': 4900, 'judd': 4901, 'creek': 4902, 'alleg': 4903, 'bori': 4904, 'mcqueen': 4905, 'evelyn': 4906, 'jam': 4907, 'armstrong': 4908, 'carmen': 4909, 'mum': 4910, 'spray': 4911, 'forgiven': 4912, 'vignett': 4913, 'groan': 4914, 'pioneer': 4915, 'rosario': 4916, 'id': 4917, 'unsuspect': 4918, 'miniseri': 4919, 'inaccur': 4920, 'unattract': 4921, 'lanc': 4922, 'galaxi': 4923, 'kiddi': 4924, 'genet': 4925, 'comprehens': 4926, 'aussi': 4927, 'meal': 4928, 'truman': 4929, 'walt': 4930, 'miami': 4931, 'goldblum': 4932, 'roar': 4933, 'subtli': 4934, 'palm': 4935, 'blur': 4936, 'relentless': 4937, 'fruit': 4938, 'basket': 4939, 'bsg': 4940, 'conan': 4941, 'comb': 4942, '1985': 4943, 'curtain': 4944, 'vain': 4945, 'tokyo': 4946, 'bait': 4947, 'inclus': 4948, 'decapit': 4949, 'sidewalk': 4950, 'paula': 4951, 'abound': 4952, 'ash': 4953, 'propheci': 4954, 'poker': 4955, 'cape': 4956, 'congratul': 4957, 'pepper': 4958, 'sacrif': 4959, 'porter': 4960, 'knee': 4961, 'antonio': 4962, 'lauren': 4963, 'orchestr': 4964, 'profil': 4965, 'epitom': 4966, 'verg': 4967, 'omin': 4968, 'assort': 4969, '21st': 4970, 'bravo': 4971, 'monti': 4972, 'substanti': 4973, 'scariest': 4974, 'sophi': 4975, 'modest': 4976, 'weaker': 4977, 'turtl': 4978, 'reincarn': 4979, 'macabr': 4980, 'victorian': 4981, 'asset': 4982, 'rapidli': 4983, 'hackman': 4984, 'detach': 4985, 'weari': 4986, 'cypher': 4987, 'hostil': 4988, 'vastli': 4989, 'ghetto': 4990, 'dubiou': 4991, 'motorcycl': 4992, 'growth': 4993, 'handicap': 4994, 'frontal': 4995, 'mice': 4996, 'incorrect': 4997, 'evan': 4998, 'ingrid': 4999}\n"
     ]
    }
   ],
   "source": [
    "print(word_dict)"
   ]
  },
  {
   "cell_type": "markdown",
   "metadata": {},
   "source": [
    "**Question:** What are the five most frequently appearing (tokenized) words in the training set? Does it makes sense that these words appear frequently in the training set?"
   ]
  },
  {
   "cell_type": "markdown",
   "metadata": {},
   "source": [
    "**Answer:** The five most frequent words are **movi, film, one, like and time**, yes they all make sense that they are most frequent, I am just curious about how **one** is among them."
   ]
  },
  {
   "cell_type": "code",
   "execution_count": 17,
   "metadata": {},
   "outputs": [
    {
     "name": "stdout",
     "output_type": "stream",
     "text": [
      "movi\n",
      "film\n",
      "one\n",
      "like\n",
      "time\n",
      "good\n"
     ]
    }
   ],
   "source": [
    "# TODO: Use this space to determine the five most frequently appearing words in the training set.\n",
    "\n",
    "count = 0\n",
    "\n",
    "for word in word_dict:\n",
    "    print(word)\n",
    "    if count > 4:\n",
    "        break\n",
    "    count += 1"
   ]
  },
  {
   "cell_type": "markdown",
   "metadata": {},
   "source": [
    "### Save `word_dict`\n",
    "\n",
    "Later on when we construct an endpoint which processes a submitted review we will need to make use of the `word_dict` which we have created. As such, we will save it to a file now for future use."
   ]
  },
  {
   "cell_type": "code",
   "execution_count": 18,
   "metadata": {},
   "outputs": [],
   "source": [
    "data_dir = '../data/pytorch' # The folder we will use for storing data\n",
    "if not os.path.exists(data_dir): # Make sure that the folder exists\n",
    "    os.makedirs(data_dir)"
   ]
  },
  {
   "cell_type": "code",
   "execution_count": 19,
   "metadata": {},
   "outputs": [],
   "source": [
    "with open(os.path.join(data_dir, 'word_dict.pkl'), \"wb\") as f:\n",
    "    pickle.dump(word_dict, f)"
   ]
  },
  {
   "cell_type": "markdown",
   "metadata": {},
   "source": [
    "### Transform the reviews\n",
    "\n",
    "Now that we have our word dictionary which allows us to transform the words appearing in the reviews into integers, it is time to make use of it and convert our reviews to their integer sequence representation, making sure to pad or truncate to a fixed length, which in our case is `500`."
   ]
  },
  {
   "cell_type": "code",
   "execution_count": 20,
   "metadata": {},
   "outputs": [],
   "source": [
    "def convert_and_pad(word_dict, sentence, pad=500):\n",
    "    NOWORD = 0 # We will use 0 to represent the 'no word' category\n",
    "    INFREQ = 1 # and we use 1 to represent the infrequent words, i.e., words not appearing in word_dict\n",
    "    \n",
    "    working_sentence = [NOWORD] * pad\n",
    "    \n",
    "    for word_index, word in enumerate(sentence[:pad]):\n",
    "        if word in word_dict:\n",
    "            working_sentence[word_index] = word_dict[word]\n",
    "        else:\n",
    "            working_sentence[word_index] = INFREQ\n",
    "            \n",
    "    return working_sentence, min(len(sentence), pad)\n",
    "\n",
    "def convert_and_pad_data(word_dict, data, pad=500):\n",
    "    result = []\n",
    "    lengths = []\n",
    "    \n",
    "    for sentence in data:\n",
    "        converted, leng = convert_and_pad(word_dict, sentence, pad)\n",
    "        result.append(converted)\n",
    "        lengths.append(leng)\n",
    "        \n",
    "    return np.array(result), np.array(lengths)"
   ]
  },
  {
   "cell_type": "code",
   "execution_count": 21,
   "metadata": {},
   "outputs": [],
   "source": [
    "train_X, train_X_len = convert_and_pad_data(word_dict, train_X)\n",
    "test_X, test_X_len = convert_and_pad_data(word_dict, test_X)"
   ]
  },
  {
   "cell_type": "markdown",
   "metadata": {},
   "source": [
    "As a quick check to make sure that things are working as intended, check to see what one of the reviews in the training set looks like after having been processeed. Does this look reasonable? What is the length of a review in the training set?"
   ]
  },
  {
   "cell_type": "code",
   "execution_count": 22,
   "metadata": {},
   "outputs": [
    {
     "data": {
      "text/plain": [
       "array([  12,    2,   17, 1144,    1,    6,   29,   93,    6,   12,  364,\n",
       "       1800,   27,   84,   77,  992,  564,    2,   71,  992,   68, 1718,\n",
       "        624,   44,  286,  992,   16,   26,  145,  676, 1321,  226,   56,\n",
       "        743,  992,   49,   25,  992, 1303,  421,  992,   11,    2,  324,\n",
       "         64,  108,  906,  138,    0,    0,    0,    0,    0,    0,    0,\n",
       "          0,    0,    0,    0,    0,    0,    0,    0,    0,    0,    0,\n",
       "          0,    0,    0,    0,    0,    0,    0,    0,    0,    0,    0,\n",
       "          0,    0,    0,    0,    0,    0,    0,    0,    0,    0,    0,\n",
       "          0,    0,    0,    0,    0,    0,    0,    0,    0,    0,    0,\n",
       "          0,    0,    0,    0,    0,    0,    0,    0,    0,    0,    0,\n",
       "          0,    0,    0,    0,    0,    0,    0,    0,    0,    0,    0,\n",
       "          0,    0,    0,    0,    0,    0,    0,    0,    0,    0,    0,\n",
       "          0,    0,    0,    0,    0,    0,    0,    0,    0,    0,    0,\n",
       "          0,    0,    0,    0,    0,    0,    0,    0,    0,    0,    0,\n",
       "          0,    0,    0,    0,    0,    0,    0,    0,    0,    0,    0,\n",
       "          0,    0,    0,    0,    0,    0,    0,    0,    0,    0,    0,\n",
       "          0,    0,    0,    0,    0,    0,    0,    0,    0,    0,    0,\n",
       "          0,    0,    0,    0,    0,    0,    0,    0,    0,    0,    0,\n",
       "          0,    0,    0,    0,    0,    0,    0,    0,    0,    0,    0,\n",
       "          0,    0,    0,    0,    0,    0,    0,    0,    0,    0,    0,\n",
       "          0,    0,    0,    0,    0,    0,    0,    0,    0,    0,    0,\n",
       "          0,    0,    0,    0,    0,    0,    0,    0,    0,    0,    0,\n",
       "          0,    0,    0,    0,    0,    0,    0,    0,    0,    0,    0,\n",
       "          0,    0,    0,    0,    0,    0,    0,    0,    0,    0,    0,\n",
       "          0,    0,    0,    0,    0,    0,    0,    0,    0,    0,    0,\n",
       "          0,    0,    0,    0,    0,    0,    0,    0,    0,    0,    0,\n",
       "          0,    0,    0,    0,    0,    0,    0,    0,    0,    0,    0,\n",
       "          0,    0,    0,    0,    0,    0,    0,    0,    0,    0,    0,\n",
       "          0,    0,    0,    0,    0,    0,    0,    0,    0,    0,    0,\n",
       "          0,    0,    0,    0,    0,    0,    0,    0,    0,    0,    0,\n",
       "          0,    0,    0,    0,    0,    0,    0,    0,    0,    0,    0,\n",
       "          0,    0,    0,    0,    0,    0,    0,    0,    0,    0,    0,\n",
       "          0,    0,    0,    0,    0,    0,    0,    0,    0,    0,    0,\n",
       "          0,    0,    0,    0,    0,    0,    0,    0,    0,    0,    0,\n",
       "          0,    0,    0,    0,    0,    0,    0,    0,    0,    0,    0,\n",
       "          0,    0,    0,    0,    0,    0,    0,    0,    0,    0,    0,\n",
       "          0,    0,    0,    0,    0,    0,    0,    0,    0,    0,    0,\n",
       "          0,    0,    0,    0,    0,    0,    0,    0,    0,    0,    0,\n",
       "          0,    0,    0,    0,    0,    0,    0,    0,    0,    0,    0,\n",
       "          0,    0,    0,    0,    0,    0,    0,    0,    0,    0,    0,\n",
       "          0,    0,    0,    0,    0,    0,    0,    0,    0,    0,    0,\n",
       "          0,    0,    0,    0,    0,    0,    0,    0,    0,    0,    0,\n",
       "          0,    0,    0,    0,    0,    0,    0,    0,    0,    0,    0,\n",
       "          0,    0,    0,    0,    0,    0,    0,    0,    0,    0,    0,\n",
       "          0,    0,    0,    0,    0,    0,    0,    0,    0,    0,    0,\n",
       "          0,    0,    0,    0,    0])"
      ]
     },
     "execution_count": 22,
     "metadata": {},
     "output_type": "execute_result"
    }
   ],
   "source": [
    "# Use this cell to examine one of the processed reviews to make sure everything is working as intended.\n",
    "train_X[100]"
   ]
  },
  {
   "cell_type": "markdown",
   "metadata": {},
   "source": [
    "**Question:** In the cells above we use the `preprocess_data` and `convert_and_pad_data` methods to process both the training and testing set. Why or why not might this be a problem?"
   ]
  },
  {
   "cell_type": "markdown",
   "metadata": {},
   "source": [
    "**Answer:** ***Preprocess_data method*** consist of four major preprocessing techniques which includes ***Lowercasing, Stemming, Stopwords and Noise Removal,*** each of this techniques helps significantly in the consistency of having expected output (i.e. lowercasing), useful for dealing with sparsity issues as well as standardizing vocabulary (i.e. Stemming), removal of a set of commonly used words in english in order to focus on the important words instead (i.e. Stopwords removal) and further removing characters digits and pieces of text that can interfere with our text analysis (i.e. Noise Removal).\n",
    "\n",
    "Noise removal will definitely not be a problem in our dataset (because of how noisy our dataset would be if not properly preprocessed),stemming won't have a negative effect on our dataset as it would marginally help improve classification accuracy. Furthermore, lowercasing is a standard practice in text mining and is said to be the most effective form of text preprocessing, this suggest that it won't be a problem for our dataset and finally, stopword removal while been effective in search and topic extraction systems, is said to be non-critical in classification systems (such as our sentiment analysis) even though it help reduce the number of features in consideration which helps keep our model decently sized. ***Overall, the pre-process data method won't be a problem for our dataset as most of the techniques utilized therein are significant and essential in transforming our text into a form that is analyzable and predictable for our given sentiment task.***\n",
    "\n",
    "***Convert_and_pad_data method*** converts / transform the text data into numerical forms (integers) and further set each input data or sequence to a specific maximal length (**in our case maximal length = 500**) since the neural networks require the input to be in numerical form and be of the same size. The process of converting words into integers or vectors is called vectorization while the process of fixing unequal text length in each sentence (or sequence) within our dataset to the same text length is called padding (i.e. this gives all sentences in our dataset the same text length).\n",
    "***Vectorization is not a problem for our model since machine learning models requires text to be converted to integers so that the models can perform necessary classification on them. However, padding is a hyperparameter that may introduce complexity to our model, Nevertheless it has been suggested by some researchers that padding does not change anything, theoretically. In practice, it makes it possible to use batch during training, improving the performance of neural networks.***"
   ]
  },
  {
   "cell_type": "markdown",
   "metadata": {},
   "source": [
    "## Step 3: Upload the data to S3\n",
    "\n",
    "As in the XGBoost notebook, we will need to upload the training dataset to S3 in order for our training code to access it. For now we will save it locally and we will upload to S3 later on.\n",
    "\n",
    "### Save the processed training dataset locally\n",
    "\n",
    "It is important to note the format of the data that we are saving as we will need to know it when we write the training code. In our case, each row of the dataset has the form `label`, `length`, `review[500]` where `review[500]` is a sequence of `500` integers representing the words in the review."
   ]
  },
  {
   "cell_type": "code",
   "execution_count": 23,
   "metadata": {},
   "outputs": [],
   "source": [
    "import pandas as pd\n",
    "    \n",
    "pd.concat([pd.DataFrame(train_y), pd.DataFrame(train_X_len), pd.DataFrame(train_X)], axis=1) \\\n",
    "        .to_csv(os.path.join(data_dir, 'train.csv'), header=False, index=False)"
   ]
  },
  {
   "cell_type": "markdown",
   "metadata": {},
   "source": [
    "### Uploading the training data\n",
    "\n",
    "\n",
    "Next, we need to upload the training data to the SageMaker default S3 bucket so that we can provide access to it while training our model."
   ]
  },
  {
   "cell_type": "code",
   "execution_count": 24,
   "metadata": {},
   "outputs": [],
   "source": [
    "import sagemaker\n",
    "\n",
    "sagemaker_session = sagemaker.Session()\n",
    "\n",
    "bucket = sagemaker_session.default_bucket()\n",
    "prefix = 'sagemaker/sentiment_rnn'\n",
    "\n",
    "role = sagemaker.get_execution_role()"
   ]
  },
  {
   "cell_type": "code",
   "execution_count": 25,
   "metadata": {},
   "outputs": [],
   "source": [
    "input_data = sagemaker_session.upload_data(path=data_dir, bucket=bucket, key_prefix=prefix)"
   ]
  },
  {
   "cell_type": "markdown",
   "metadata": {},
   "source": [
    "**NOTE:** The cell above uploads the entire contents of our data directory. This includes the `word_dict.pkl` file. This is fortunate as we will need this later on when we create an endpoint that accepts an arbitrary review. For now, we will just take note of the fact that it resides in the data directory (and so also in the S3 training bucket) and that we will need to make sure it gets saved in the model directory."
   ]
  },
  {
   "cell_type": "markdown",
   "metadata": {},
   "source": [
    "## Step 4: Build and Train the PyTorch Model\n",
    "\n",
    "In the XGBoost notebook we discussed what a model is in the SageMaker framework. In particular, a model comprises three objects\n",
    "\n",
    " - Model Artifacts,\n",
    " - Training Code, and\n",
    " - Inference Code,\n",
    " \n",
    "each of which interact with one another. In the XGBoost example we used training and inference code that was provided by Amazon. Here we will still be using containers provided by Amazon with the added benefit of being able to include our own custom code.\n",
    "\n",
    "We will start by implementing our own neural network in PyTorch along with a training script. For the purposes of this project we have provided the necessary model object in the `model.py` file, inside of the `train` folder. You can see the provided implementation by running the cell below."
   ]
  },
  {
   "cell_type": "code",
   "execution_count": 26,
   "metadata": {},
   "outputs": [
    {
     "name": "stdout",
     "output_type": "stream",
     "text": [
      "\u001b[34mimport\u001b[39;49;00m \u001b[04m\u001b[36mtorch.nn\u001b[39;49;00m \u001b[34mas\u001b[39;49;00m \u001b[04m\u001b[36mnn\u001b[39;49;00m\r\n",
      "\r\n",
      "\u001b[34mclass\u001b[39;49;00m \u001b[04m\u001b[32mLSTMClassifier\u001b[39;49;00m(nn.Module):\r\n",
      "    \u001b[33m\"\"\"\u001b[39;49;00m\r\n",
      "\u001b[33m    This is the simple RNN model we will be using to perform Sentiment Analysis.\u001b[39;49;00m\r\n",
      "\u001b[33m    \"\"\"\u001b[39;49;00m\r\n",
      "\r\n",
      "    \u001b[34mdef\u001b[39;49;00m \u001b[32m__init__\u001b[39;49;00m(\u001b[36mself\u001b[39;49;00m, embedding_dim, hidden_dim, vocab_size):\r\n",
      "        \u001b[33m\"\"\"\u001b[39;49;00m\r\n",
      "\u001b[33m        Initialize the model by settingg up the various layers.\u001b[39;49;00m\r\n",
      "\u001b[33m        \"\"\"\u001b[39;49;00m\r\n",
      "        \u001b[36msuper\u001b[39;49;00m(LSTMClassifier, \u001b[36mself\u001b[39;49;00m).\u001b[32m__init__\u001b[39;49;00m()\r\n",
      "\r\n",
      "        \u001b[36mself\u001b[39;49;00m.embedding = nn.Embedding(vocab_size, embedding_dim, padding_idx=\u001b[34m0\u001b[39;49;00m)\r\n",
      "        \u001b[36mself\u001b[39;49;00m.lstm = nn.LSTM(embedding_dim, hidden_dim)\r\n",
      "        \u001b[36mself\u001b[39;49;00m.dense = nn.Linear(in_features=hidden_dim, out_features=\u001b[34m1\u001b[39;49;00m)\r\n",
      "        \u001b[36mself\u001b[39;49;00m.sig = nn.Sigmoid()\r\n",
      "        \r\n",
      "        \u001b[36mself\u001b[39;49;00m.word_dict = \u001b[36mNone\u001b[39;49;00m\r\n",
      "\r\n",
      "    \u001b[34mdef\u001b[39;49;00m \u001b[32mforward\u001b[39;49;00m(\u001b[36mself\u001b[39;49;00m, x):\r\n",
      "        \u001b[33m\"\"\"\u001b[39;49;00m\r\n",
      "\u001b[33m        Perform a forward pass of our model on some input.\u001b[39;49;00m\r\n",
      "\u001b[33m        \"\"\"\u001b[39;49;00m\r\n",
      "        x = x.t()\r\n",
      "        lengths = x[\u001b[34m0\u001b[39;49;00m,:]\r\n",
      "        reviews = x[\u001b[34m1\u001b[39;49;00m:,:]\r\n",
      "        embeds = \u001b[36mself\u001b[39;49;00m.embedding(reviews)\r\n",
      "        lstm_out, _ = \u001b[36mself\u001b[39;49;00m.lstm(embeds)\r\n",
      "        out = \u001b[36mself\u001b[39;49;00m.dense(lstm_out)\r\n",
      "        out = out[lengths - \u001b[34m1\u001b[39;49;00m, \u001b[36mrange\u001b[39;49;00m(\u001b[36mlen\u001b[39;49;00m(lengths))]\r\n",
      "        \u001b[34mreturn\u001b[39;49;00m \u001b[36mself\u001b[39;49;00m.sig(out.squeeze())\r\n"
     ]
    }
   ],
   "source": [
    "!pygmentize train/model.py"
   ]
  },
  {
   "cell_type": "markdown",
   "metadata": {},
   "source": [
    "The important takeaway from the implementation provided is that there are three parameters that we may wish to tweak to improve the performance of our model. These are the embedding dimension, the hidden dimension and the size of the vocabulary. We will likely want to make these parameters configurable in the training script so that if we wish to modify them we do not need to modify the script itself. We will see how to do this later on. To start we will write some of the training code in the notebook so that we can more easily diagnose any issues that arise.\n",
    "\n",
    "First we will load a small portion of the training data set to use as a sample. It would be very time consuming to try and train the model completely in the notebook as we do not have access to a gpu and the compute instance that we are using is not particularly powerful. However, we can work on a small bit of the data to get a feel for how our training script is behaving."
   ]
  },
  {
   "cell_type": "code",
   "execution_count": 27,
   "metadata": {},
   "outputs": [],
   "source": [
    "import torch\n",
    "import torch.utils.data\n",
    "\n",
    "# Read in only the first 250 rows\n",
    "train_sample = pd.read_csv(os.path.join(data_dir, 'train.csv'), header=None, names=None, nrows=250)\n",
    "\n",
    "# Turn the input pandas dataframe into tensors\n",
    "train_sample_y = torch.from_numpy(train_sample[[0]].values).float().squeeze()\n",
    "train_sample_X = torch.from_numpy(train_sample.drop([0], axis=1).values).long()\n",
    "\n",
    "# Build the dataset\n",
    "train_sample_ds = torch.utils.data.TensorDataset(train_sample_X, train_sample_y)\n",
    "# Build the dataloader\n",
    "train_sample_dl = torch.utils.data.DataLoader(train_sample_ds, batch_size=50)"
   ]
  },
  {
   "cell_type": "markdown",
   "metadata": {},
   "source": [
    "### (TODO) Writing the training method\n",
    "\n",
    "Next we need to write the training code itself. This should be very similar to training methods that you have written before to train PyTorch models. We will leave any difficult aspects such as model saving / loading and parameter loading until a little later."
   ]
  },
  {
   "cell_type": "code",
   "execution_count": 28,
   "metadata": {},
   "outputs": [],
   "source": [
    "def train(model, train_loader, epochs, optimizer, loss_fn, device):\n",
    "    for epoch in range(1, epochs + 1):\n",
    "        model.train()\n",
    "        total_loss = 0\n",
    "        for batch in train_loader:         \n",
    "            batch_X, batch_y = batch\n",
    "            \n",
    "            batch_X = batch_X.to(device)\n",
    "            batch_y = batch_y.to(device)\n",
    "            \n",
    "            # TODO: Complete this train method to train the model provided.\n",
    "            optimizer.zero_grad()\n",
    "            y_pred = model.forward(batch_X)\n",
    "            loss = loss_fn(y_pred, batch_y)\n",
    "            loss.backward()\n",
    "            optimizer.step()\n",
    "            \n",
    "            total_loss += loss.data.item()\n",
    "        print(\"Epoch: {}, BCELoss: {}\".format(epoch, total_loss / len(train_loader)))"
   ]
  },
  {
   "cell_type": "markdown",
   "metadata": {},
   "source": [
    "Supposing we have the training method above, we will test that it is working by writing a bit of code in the notebook that executes our training method on the small sample training set that we loaded earlier. The reason for doing this in the notebook is so that we have an opportunity to fix any errors that arise early when they are easier to diagnose."
   ]
  },
  {
   "cell_type": "code",
   "execution_count": 29,
   "metadata": {},
   "outputs": [
    {
     "name": "stdout",
     "output_type": "stream",
     "text": [
      "Epoch: 1, BCELoss: 0.694705855846405\n",
      "Epoch: 2, BCELoss: 0.6865715980529785\n",
      "Epoch: 3, BCELoss: 0.6799811720848083\n",
      "Epoch: 4, BCELoss: 0.6726238131523132\n",
      "Epoch: 5, BCELoss: 0.6634571433067322\n"
     ]
    }
   ],
   "source": [
    "import torch.optim as optim\n",
    "from train.model import LSTMClassifier\n",
    "\n",
    "device = torch.device(\"cuda\" if torch.cuda.is_available() else \"cpu\")\n",
    "model = LSTMClassifier(32, 100, 5000).to(device)\n",
    "optimizer = optim.Adam(model.parameters())\n",
    "loss_fn = torch.nn.BCELoss()\n",
    "\n",
    "train(model, train_sample_dl, 5, optimizer, loss_fn, device)"
   ]
  },
  {
   "cell_type": "markdown",
   "metadata": {},
   "source": [
    "In order to construct a PyTorch model using SageMaker we must provide SageMaker with a training script. We may optionally include a directory which will be copied to the container and from which our training code will be run. When the training container is executed it will check the uploaded directory (if there is one) for a `requirements.txt` file and install any required Python libraries, after which the training script will be run."
   ]
  },
  {
   "cell_type": "markdown",
   "metadata": {},
   "source": [
    "### (TODO) Training the model\n",
    "\n",
    "When a PyTorch model is constructed in SageMaker, an entry point must be specified. This is the Python file which will be executed when the model is trained. Inside of the `train` directory is a file called `train.py` which has been provided and which contains most of the necessary code to train our model. The only thing that is missing is the implementation of the `train()` method which you wrote earlier in this notebook.\n",
    "\n",
    "**TODO**: Copy the `train()` method written above and paste it into the `train/train.py` file where required.\n",
    "\n",
    "The way that SageMaker passes hyperparameters to the training script is by way of arguments. These arguments can then be parsed and used in the training script. To see how this is done take a look at the provided `train/train.py` file."
   ]
  },
  {
   "cell_type": "code",
   "execution_count": 62,
   "metadata": {},
   "outputs": [],
   "source": [
    "from sagemaker.pytorch import PyTorch\n",
    "\n",
    "estimator = PyTorch(entry_point=\"train.py\",\n",
    "                    source_dir=\"train\",\n",
    "                    role=role,\n",
    "                    framework_version='0.4.0',\n",
    "                    train_instance_count=1,\n",
    "                    train_instance_type='ml.p2.xlarge',\n",
    "                    hyperparameters={\n",
    "                        'epochs': 10,\n",
    "                        'hidden_dim': 200,\n",
    "                    })"
   ]
  },
  {
   "cell_type": "code",
   "execution_count": 63,
   "metadata": {},
   "outputs": [
    {
     "name": "stdout",
     "output_type": "stream",
     "text": [
      "2019-11-09 13:16:00 Starting - Starting the training job...\n",
      "2019-11-09 13:16:02 Starting - Launching requested ML instances...\n",
      "2019-11-09 13:16:58 Starting - Preparing the instances for training.........\n",
      "2019-11-09 13:18:09 Downloading - Downloading input data...\n",
      "2019-11-09 13:18:40 Training - Downloading the training image..\u001b[31mbash: cannot set terminal process group (-1): Inappropriate ioctl for device\u001b[0m\n",
      "\u001b[31mbash: no job control in this shell\u001b[0m\n",
      "\u001b[31m2019-11-09 13:19:06,797 sagemaker-containers INFO     Imported framework sagemaker_pytorch_container.training\u001b[0m\n",
      "\u001b[31m2019-11-09 13:19:06,821 sagemaker_pytorch_container.training INFO     Block until all host DNS lookups succeed.\u001b[0m\n",
      "\u001b[31m2019-11-09 13:19:08,235 sagemaker_pytorch_container.training INFO     Invoking user training script.\u001b[0m\n",
      "\u001b[31m2019-11-09 13:19:08,452 sagemaker-containers INFO     Module train does not provide a setup.py. \u001b[0m\n",
      "\u001b[31mGenerating setup.py\u001b[0m\n",
      "\u001b[31m2019-11-09 13:19:08,452 sagemaker-containers INFO     Generating setup.cfg\u001b[0m\n",
      "\u001b[31m2019-11-09 13:19:08,452 sagemaker-containers INFO     Generating MANIFEST.in\u001b[0m\n",
      "\u001b[31m2019-11-09 13:19:08,452 sagemaker-containers INFO     Installing module with the following command:\u001b[0m\n",
      "\u001b[31m/usr/bin/python -m pip install -U . -r requirements.txt\u001b[0m\n",
      "\u001b[31mProcessing /opt/ml/code\u001b[0m\n",
      "\u001b[31mCollecting pandas (from -r requirements.txt (line 1))\n",
      "  Downloading https://files.pythonhosted.org/packages/74/24/0cdbf8907e1e3bc5a8da03345c23cbed7044330bb8f73bb12e711a640a00/pandas-0.24.2-cp35-cp35m-manylinux1_x86_64.whl (10.0MB)\u001b[0m\n",
      "\u001b[31mCollecting numpy (from -r requirements.txt (line 2))\n",
      "  Downloading https://files.pythonhosted.org/packages/5e/f8/82a8a6ed446b58aa718b2744b265983783a2c84098a73db6d0b78a573e25/numpy-1.17.3-cp35-cp35m-manylinux1_x86_64.whl (19.8MB)\u001b[0m\n",
      "\u001b[31mCollecting nltk (from -r requirements.txt (line 3))\n",
      "  Downloading https://files.pythonhosted.org/packages/f6/1d/d925cfb4f324ede997f6d47bea4d9babba51b49e87a767c170b77005889d/nltk-3.4.5.zip (1.5MB)\u001b[0m\n",
      "\u001b[31mCollecting beautifulsoup4 (from -r requirements.txt (line 4))\n",
      "  Downloading https://files.pythonhosted.org/packages/3b/c8/a55eb6ea11cd7e5ac4bacdf92bac4693b90d3ba79268be16527555e186f0/beautifulsoup4-4.8.1-py3-none-any.whl (101kB)\u001b[0m\n",
      "\u001b[31mCollecting html5lib (from -r requirements.txt (line 5))\n",
      "  Downloading https://files.pythonhosted.org/packages/a5/62/bbd2be0e7943ec8504b517e62bab011b4946e1258842bc159e5dfde15b96/html5lib-1.0.1-py2.py3-none-any.whl (117kB)\u001b[0m\n",
      "\u001b[31mCollecting pytz>=2011k (from pandas->-r requirements.txt (line 1))\n",
      "  Downloading https://files.pythonhosted.org/packages/e7/f9/f0b53f88060247251bf481fa6ea62cd0d25bf1b11a87888e53ce5b7c8ad2/pytz-2019.3-py2.py3-none-any.whl (509kB)\u001b[0m\n",
      "\u001b[31mRequirement already satisfied, skipping upgrade: python-dateutil>=2.5.0 in /usr/local/lib/python3.5/dist-packages (from pandas->-r requirements.txt (line 1)) (2.7.5)\u001b[0m\n",
      "\u001b[31mRequirement already satisfied, skipping upgrade: six in /usr/local/lib/python3.5/dist-packages (from nltk->-r requirements.txt (line 3)) (1.11.0)\u001b[0m\n",
      "\u001b[31mCollecting soupsieve>=1.2 (from beautifulsoup4->-r requirements.txt (line 4))\n",
      "  Downloading https://files.pythonhosted.org/packages/81/94/03c0f04471fc245d08d0a99f7946ac228ca98da4fa75796c507f61e688c2/soupsieve-1.9.5-py2.py3-none-any.whl\u001b[0m\n",
      "\u001b[31mCollecting webencodings (from html5lib->-r requirements.txt (line 5))\n",
      "  Downloading https://files.pythonhosted.org/packages/f4/24/2a3e3df732393fed8b3ebf2ec078f05546de641fe1b667ee316ec1dcf3b7/webencodings-0.5.1-py2.py3-none-any.whl\u001b[0m\n",
      "\u001b[31mBuilding wheels for collected packages: nltk, train\n",
      "  Running setup.py bdist_wheel for nltk: started\u001b[0m\n",
      "\u001b[31m  Running setup.py bdist_wheel for nltk: finished with status 'done'\n",
      "  Stored in directory: /root/.cache/pip/wheels/96/86/f6/68ab24c23f207c0077381a5e3904b2815136b879538a24b483\n",
      "  Running setup.py bdist_wheel for train: started\n",
      "  Running setup.py bdist_wheel for train: finished with status 'done'\n",
      "  Stored in directory: /tmp/pip-ephem-wheel-cache-xeyo8tc4/wheels/35/24/16/37574d11bf9bde50616c67372a334f94fa8356bc7164af8ca3\u001b[0m\n",
      "\u001b[31mSuccessfully built nltk train\u001b[0m\n",
      "\u001b[31mInstalling collected packages: numpy, pytz, pandas, nltk, soupsieve, beautifulsoup4, webencodings, html5lib, train\n",
      "  Found existing installation: numpy 1.15.4\n",
      "    Uninstalling numpy-1.15.4:\n",
      "      Successfully uninstalled numpy-1.15.4\u001b[0m\n",
      "\n",
      "2019-11-09 13:19:06 Training - Training image download completed. Training in progress.\u001b[31mSuccessfully installed beautifulsoup4-4.8.1 html5lib-1.0.1 nltk-3.4.5 numpy-1.17.3 pandas-0.24.2 pytz-2019.3 soupsieve-1.9.5 train-1.0.0 webencodings-0.5.1\u001b[0m\n",
      "\u001b[31mYou are using pip version 18.1, however version 19.3.1 is available.\u001b[0m\n",
      "\u001b[31mYou should consider upgrading via the 'pip install --upgrade pip' command.\u001b[0m\n",
      "\u001b[31m2019-11-09 13:19:20,529 sagemaker-containers INFO     Invoking user script\n",
      "\u001b[0m\n",
      "\u001b[31mTraining Env:\n",
      "\u001b[0m\n",
      "\u001b[31m{\n",
      "    \"output_data_dir\": \"/opt/ml/output/data\",\n",
      "    \"network_interface_name\": \"eth0\",\n",
      "    \"input_data_config\": {\n",
      "        \"training\": {\n",
      "            \"S3DistributionType\": \"FullyReplicated\",\n",
      "            \"RecordWrapperType\": \"None\",\n",
      "            \"TrainingInputMode\": \"File\"\n",
      "        }\n",
      "    },\n",
      "    \"hosts\": [\n",
      "        \"algo-1\"\n",
      "    ],\n",
      "    \"input_dir\": \"/opt/ml/input\",\n",
      "    \"current_host\": \"algo-1\",\n",
      "    \"num_cpus\": 4,\n",
      "    \"job_name\": \"sagemaker-pytorch-2019-11-09-13-15-59-574\",\n",
      "    \"module_dir\": \"s3://sagemaker-us-east-2-698413254357/sagemaker-pytorch-2019-11-09-13-15-59-574/source/sourcedir.tar.gz\",\n",
      "    \"user_entry_point\": \"train.py\",\n",
      "    \"model_dir\": \"/opt/ml/model\",\n",
      "    \"channel_input_dirs\": {\n",
      "        \"training\": \"/opt/ml/input/data/training\"\n",
      "    },\n",
      "    \"output_dir\": \"/opt/ml/output\",\n",
      "    \"num_gpus\": 1,\n",
      "    \"framework_module\": \"sagemaker_pytorch_container.training:main\",\n",
      "    \"additional_framework_parameters\": {},\n",
      "    \"log_level\": 20,\n",
      "    \"module_name\": \"train\",\n",
      "    \"resource_config\": {\n",
      "        \"current_host\": \"algo-1\",\n",
      "        \"network_interface_name\": \"eth0\",\n",
      "        \"hosts\": [\n",
      "            \"algo-1\"\n",
      "        ]\n",
      "    },\n",
      "    \"output_intermediate_dir\": \"/opt/ml/output/intermediate\",\n",
      "    \"hyperparameters\": {\n",
      "        \"epochs\": 10,\n",
      "        \"hidden_dim\": 200\n",
      "    },\n",
      "    \"input_config_dir\": \"/opt/ml/input/config\"\u001b[0m\n",
      "\u001b[31m}\n",
      "\u001b[0m\n",
      "\u001b[31mEnvironment variables:\n",
      "\u001b[0m\n",
      "\u001b[31mSM_USER_ARGS=[\"--epochs\",\"10\",\"--hidden_dim\",\"200\"]\u001b[0m\n",
      "\u001b[31mSM_CHANNEL_TRAINING=/opt/ml/input/data/training\u001b[0m\n",
      "\u001b[31mSM_MODULE_DIR=s3://sagemaker-us-east-2-698413254357/sagemaker-pytorch-2019-11-09-13-15-59-574/source/sourcedir.tar.gz\u001b[0m\n",
      "\u001b[31mSM_CURRENT_HOST=algo-1\u001b[0m\n",
      "\u001b[31mSM_HP_EPOCHS=10\u001b[0m\n",
      "\u001b[31mSM_MODEL_DIR=/opt/ml/model\u001b[0m\n",
      "\u001b[31mSM_RESOURCE_CONFIG={\"current_host\":\"algo-1\",\"hosts\":[\"algo-1\"],\"network_interface_name\":\"eth0\"}\u001b[0m\n",
      "\u001b[31mSM_NUM_GPUS=1\u001b[0m\n",
      "\u001b[31mSM_OUTPUT_INTERMEDIATE_DIR=/opt/ml/output/intermediate\u001b[0m\n",
      "\u001b[31mSM_HP_HIDDEN_DIM=200\u001b[0m\n",
      "\u001b[31mSM_INPUT_DIR=/opt/ml/input\u001b[0m\n",
      "\u001b[31mSM_FRAMEWORK_MODULE=sagemaker_pytorch_container.training:main\u001b[0m\n",
      "\u001b[31mSM_CHANNELS=[\"training\"]\u001b[0m\n",
      "\u001b[31mSM_INPUT_DATA_CONFIG={\"training\":{\"RecordWrapperType\":\"None\",\"S3DistributionType\":\"FullyReplicated\",\"TrainingInputMode\":\"File\"}}\u001b[0m\n",
      "\u001b[31mSM_INPUT_CONFIG_DIR=/opt/ml/input/config\u001b[0m\n",
      "\u001b[31mSM_NUM_CPUS=4\u001b[0m\n",
      "\u001b[31mSM_OUTPUT_DIR=/opt/ml/output\u001b[0m\n",
      "\u001b[31mSM_MODULE_NAME=train\u001b[0m\n",
      "\u001b[31mSM_NETWORK_INTERFACE_NAME=eth0\u001b[0m\n",
      "\u001b[31mSM_HOSTS=[\"algo-1\"]\u001b[0m\n",
      "\u001b[31mSM_LOG_LEVEL=20\u001b[0m\n",
      "\u001b[31mSM_FRAMEWORK_PARAMS={}\u001b[0m\n",
      "\u001b[31mSM_USER_ENTRY_POINT=train.py\u001b[0m\n",
      "\u001b[31mSM_OUTPUT_DATA_DIR=/opt/ml/output/data\u001b[0m\n",
      "\u001b[31mPYTHONPATH=/usr/local/bin:/usr/lib/python35.zip:/usr/lib/python3.5:/usr/lib/python3.5/plat-x86_64-linux-gnu:/usr/lib/python3.5/lib-dynload:/usr/local/lib/python3.5/dist-packages:/usr/lib/python3/dist-packages\u001b[0m\n",
      "\u001b[31mSM_TRAINING_ENV={\"additional_framework_parameters\":{},\"channel_input_dirs\":{\"training\":\"/opt/ml/input/data/training\"},\"current_host\":\"algo-1\",\"framework_module\":\"sagemaker_pytorch_container.training:main\",\"hosts\":[\"algo-1\"],\"hyperparameters\":{\"epochs\":10,\"hidden_dim\":200},\"input_config_dir\":\"/opt/ml/input/config\",\"input_data_config\":{\"training\":{\"RecordWrapperType\":\"None\",\"S3DistributionType\":\"FullyReplicated\",\"TrainingInputMode\":\"File\"}},\"input_dir\":\"/opt/ml/input\",\"job_name\":\"sagemaker-pytorch-2019-11-09-13-15-59-574\",\"log_level\":20,\"model_dir\":\"/opt/ml/model\",\"module_dir\":\"s3://sagemaker-us-east-2-698413254357/sagemaker-pytorch-2019-11-09-13-15-59-574/source/sourcedir.tar.gz\",\"module_name\":\"train\",\"network_interface_name\":\"eth0\",\"num_cpus\":4,\"num_gpus\":1,\"output_data_dir\":\"/opt/ml/output/data\",\"output_dir\":\"/opt/ml/output\",\"output_intermediate_dir\":\"/opt/ml/output/intermediate\",\"resource_config\":{\"current_host\":\"algo-1\",\"hosts\":[\"algo-1\"],\"network_interface_name\":\"eth0\"},\"user_entry_point\":\"train.py\"}\u001b[0m\n",
      "\u001b[31mSM_HPS={\"epochs\":10,\"hidden_dim\":200}\n",
      "\u001b[0m\n",
      "\u001b[31mInvoking script with the following command:\n",
      "\u001b[0m\n",
      "\u001b[31m/usr/bin/python -m train --epochs 10 --hidden_dim 200\n",
      "\n",
      "\u001b[0m\n",
      "\u001b[31mUsing device cuda.\u001b[0m\n",
      "\u001b[31mGet train data loader.\u001b[0m\n"
     ]
    },
    {
     "name": "stdout",
     "output_type": "stream",
     "text": [
      "\u001b[31mModel loaded with embedding_dim 32, hidden_dim 200, vocab_size 5000.\u001b[0m\n",
      "\u001b[31mEpoch: 1, BCELoss: 0.6726522956575666\u001b[0m\n",
      "\u001b[31mEpoch: 2, BCELoss: 0.609807260182439\u001b[0m\n",
      "\u001b[31mEpoch: 3, BCELoss: 0.5321150093662496\u001b[0m\n",
      "\u001b[31mEpoch: 4, BCELoss: 0.4514412186583694\u001b[0m\n",
      "\u001b[31mEpoch: 5, BCELoss: 0.39726184947150095\u001b[0m\n",
      "\u001b[31mEpoch: 6, BCELoss: 0.3578378740622073\u001b[0m\n",
      "\u001b[31mEpoch: 7, BCELoss: 0.3314823106843598\u001b[0m\n",
      "\u001b[31mEpoch: 8, BCELoss: 0.31942462860321513\u001b[0m\n",
      "\u001b[31mEpoch: 9, BCELoss: 0.3011979843888964\u001b[0m\n",
      "\n",
      "2019-11-09 13:22:24 Uploading - Uploading generated training model\n",
      "2019-11-09 13:22:24 Completed - Training job completed\n",
      "\u001b[31mEpoch: 10, BCELoss: 0.30647248485866857\u001b[0m\n",
      "\u001b[31m2019-11-09 13:22:18,157 sagemaker-containers INFO     Reporting training SUCCESS\u001b[0m\n",
      "Training seconds: 255\n",
      "Billable seconds: 255\n"
     ]
    }
   ],
   "source": [
    "estimator.fit({'training': input_data})"
   ]
  },
  {
   "cell_type": "markdown",
   "metadata": {},
   "source": [
    "## Step 5: Testing the model\n",
    "\n",
    "As mentioned at the top of this notebook, we will be testing this model by first deploying it and then sending the testing data to the deployed endpoint. We will do this so that we can make sure that the deployed model is working correctly.\n",
    "\n",
    "## Step 6: Deploy the model for testing\n",
    "\n",
    "Now that we have trained our model, we would like to test it to see how it performs. Currently our model takes input of the form `review_length, review[500]` where `review[500]` is a sequence of `500` integers which describe the words present in the review, encoded using `word_dict`. Fortunately for us, SageMaker provides built-in inference code for models with simple inputs such as this.\n",
    "\n",
    "There is one thing that we need to provide, however, and that is a function which loads the saved model. This function must be called `model_fn()` and takes as its only parameter a path to the directory where the model artifacts are stored. This function must also be present in the python file which we specified as the entry point. In our case the model loading function has been provided and so no changes need to be made.\n",
    "\n",
    "**NOTE**: When the built-in inference code is run it must import the `model_fn()` method from the `train.py` file. This is why the training code is wrapped in a main guard ( ie, `if __name__ == '__main__':` )\n",
    "\n",
    "Since we don't need to change anything in the code that was uploaded during training, we can simply deploy the current model as-is.\n",
    "\n",
    "**NOTE:** When deploying a model you are asking SageMaker to launch an compute instance that will wait for data to be sent to it. As a result, this compute instance will continue to run until *you* shut it down. This is important to know since the cost of a deployed endpoint depends on how long it has been running for.\n",
    "\n",
    "In other words **If you are no longer using a deployed endpoint, shut it down!**\n",
    "\n",
    "**TODO:** Deploy the trained model."
   ]
  },
  {
   "cell_type": "code",
   "execution_count": 64,
   "metadata": {},
   "outputs": [
    {
     "name": "stdout",
     "output_type": "stream",
     "text": [
      "-------------------------------------------------------------------------------------------------!"
     ]
    }
   ],
   "source": [
    "# TODO: Deploy the trained model\n",
    "predictor = estimator.deploy(initial_instance_count=1, instance_type='ml.p2.xlarge')"
   ]
  },
  {
   "cell_type": "markdown",
   "metadata": {},
   "source": [
    "## Step 7 - Use the model for testing\n",
    "\n",
    "Once deployed, we can read in the test data and send it off to our deployed model to get some results. Once we collect all of the results we can determine how accurate our model is."
   ]
  },
  {
   "cell_type": "code",
   "execution_count": 65,
   "metadata": {},
   "outputs": [],
   "source": [
    "test_X = pd.concat([pd.DataFrame(test_X_len), pd.DataFrame(test_X)], axis=1)"
   ]
  },
  {
   "cell_type": "code",
   "execution_count": 66,
   "metadata": {},
   "outputs": [],
   "source": [
    "# We split the data into chunks and send each chunk seperately, accumulating the results.\n",
    "\n",
    "def predict(data, rows=512):\n",
    "    split_array = np.array_split(data, int(data.shape[0] / float(rows) + 1))\n",
    "    predictions = np.array([])\n",
    "    for array in split_array:\n",
    "        predictions = np.append(predictions, predictor.predict(array))\n",
    "    \n",
    "    return predictions"
   ]
  },
  {
   "cell_type": "code",
   "execution_count": 67,
   "metadata": {},
   "outputs": [],
   "source": [
    "predictions = predict(test_X.values)\n",
    "predictions = [round(num) for num in predictions]"
   ]
  },
  {
   "cell_type": "code",
   "execution_count": 68,
   "metadata": {},
   "outputs": [
    {
     "data": {
      "text/plain": [
       "0.81504"
      ]
     },
     "execution_count": 68,
     "metadata": {},
     "output_type": "execute_result"
    }
   ],
   "source": [
    "from sklearn.metrics import accuracy_score\n",
    "accuracy_score(test_y, predictions)"
   ]
  },
  {
   "cell_type": "markdown",
   "metadata": {},
   "source": [
    "**Question:** How does this model compare to the XGBoost model you created earlier? Why might these two models perform differently on this dataset? Which do *you* think is better for sentiment analysis?"
   ]
  },
  {
   "cell_type": "markdown",
   "metadata": {},
   "source": [
    "**Answer:** This LSTM model's accuracy is better than the XGBoost model\n"
   ]
  },
  {
   "cell_type": "markdown",
   "metadata": {},
   "source": [
    "### (TODO) More testing\n",
    "\n",
    "We now have a trained model which has been deployed and which we can send processed reviews to and which returns the predicted sentiment. However, ultimately we would like to be able to send our model an unprocessed review. That is, we would like to send the review itself as a string. For example, suppose we wish to send the following review to our model."
   ]
  },
  {
   "cell_type": "code",
   "execution_count": 69,
   "metadata": {},
   "outputs": [],
   "source": [
    "test_review = 'The simplest pleasures in life are the best, and this film is one of them. Combining a rather basic storyline of love and adventure this movie transcends the usual weekend fair with wit and unmitigated charm.'"
   ]
  },
  {
   "cell_type": "markdown",
   "metadata": {},
   "source": [
    "The question we now need to answer is, how do we send this review to our model?\n",
    "\n",
    "Recall in the first section of this notebook we did a bunch of data processing to the IMDb dataset. In particular, we did two specific things to the provided reviews.\n",
    " - Removed any html tags and stemmed the input\n",
    " - Encoded the review as a sequence of integers using `word_dict`\n",
    " \n",
    "In order process the review we will need to repeat these two steps.\n",
    "\n",
    "**TODO**: Using the `review_to_words` and `convert_and_pad` methods from section one, convert `test_review` into a numpy array `test_data` suitable to send to our model. Remember that our model expects input of the form `review_length, review[500]`."
   ]
  },
  {
   "cell_type": "code",
   "execution_count": 70,
   "metadata": {},
   "outputs": [
    {
     "name": "stdout",
     "output_type": "stream",
     "text": [
      "[[   1 1373   50   53    3    4  878  173  392  682   29  723    2 4425\n",
      "   275 2079 1061  760    1  580    0    0    0    0    0    0    0    0\n",
      "     0    0    0    0    0    0    0    0    0    0    0    0    0    0\n",
      "     0    0    0    0    0    0    0    0    0    0    0    0    0    0\n",
      "     0    0    0    0    0    0    0    0    0    0    0    0    0    0\n",
      "     0    0    0    0    0    0    0    0    0    0    0    0    0    0\n",
      "     0    0    0    0    0    0    0    0    0    0    0    0    0    0\n",
      "     0    0    0    0    0    0    0    0    0    0    0    0    0    0\n",
      "     0    0    0    0    0    0    0    0    0    0    0    0    0    0\n",
      "     0    0    0    0    0    0    0    0    0    0    0    0    0    0\n",
      "     0    0    0    0    0    0    0    0    0    0    0    0    0    0\n",
      "     0    0    0    0    0    0    0    0    0    0    0    0    0    0\n",
      "     0    0    0    0    0    0    0    0    0    0    0    0    0    0\n",
      "     0    0    0    0    0    0    0    0    0    0    0    0    0    0\n",
      "     0    0    0    0    0    0    0    0    0    0    0    0    0    0\n",
      "     0    0    0    0    0    0    0    0    0    0    0    0    0    0\n",
      "     0    0    0    0    0    0    0    0    0    0    0    0    0    0\n",
      "     0    0    0    0    0    0    0    0    0    0    0    0    0    0\n",
      "     0    0    0    0    0    0    0    0    0    0    0    0    0    0\n",
      "     0    0    0    0    0    0    0    0    0    0    0    0    0    0\n",
      "     0    0    0    0    0    0    0    0    0    0    0    0    0    0\n",
      "     0    0    0    0    0    0    0    0    0    0    0    0    0    0\n",
      "     0    0    0    0    0    0    0    0    0    0    0    0    0    0\n",
      "     0    0    0    0    0    0    0    0    0    0    0    0    0    0\n",
      "     0    0    0    0    0    0    0    0    0    0    0    0    0    0\n",
      "     0    0    0    0    0    0    0    0    0    0    0    0    0    0\n",
      "     0    0    0    0    0    0    0    0    0    0    0    0    0    0\n",
      "     0    0    0    0    0    0    0    0    0    0    0    0    0    0\n",
      "     0    0    0    0    0    0    0    0    0    0    0    0    0    0\n",
      "     0    0    0    0    0    0    0    0    0    0    0    0    0    0\n",
      "     0    0    0    0    0    0    0    0    0    0    0    0    0    0\n",
      "     0    0    0    0    0    0    0    0    0    0    0    0    0    0\n",
      "     0    0    0    0    0    0    0    0    0    0    0    0    0    0\n",
      "     0    0    0    0    0    0    0    0    0    0    0    0    0    0\n",
      "     0    0    0    0    0    0    0    0    0    0    0    0    0    0\n",
      "     0    0    0    0    0    0    0    0    0    0]]\n"
     ]
    }
   ],
   "source": [
    "# TODO: Convert test_review into a form usable by the model and save the results in test_data\n",
    "test_data = None\n",
    "test_norm = review_to_words(test_review)\n",
    "test_data = convert_and_pad(word_dict, test_norm)[0]\n",
    "test_data = np.array([test_data])\n",
    "print(test_data)"
   ]
  },
  {
   "cell_type": "markdown",
   "metadata": {},
   "source": [
    "Now that we have processed the review, we can send the resulting array to our model to predict the sentiment of the review."
   ]
  },
  {
   "cell_type": "code",
   "execution_count": 71,
   "metadata": {},
   "outputs": [
    {
     "data": {
      "text/plain": [
       "array(0.6122119, dtype=float32)"
      ]
     },
     "execution_count": 71,
     "metadata": {},
     "output_type": "execute_result"
    }
   ],
   "source": [
    "predictor.predict(test_data)"
   ]
  },
  {
   "cell_type": "markdown",
   "metadata": {},
   "source": [
    "Since the return value of our model is close to `1`, we can be certain that the review we submitted is positive."
   ]
  },
  {
   "cell_type": "markdown",
   "metadata": {},
   "source": [
    "### Delete the endpoint\n",
    "\n",
    "Of course, just like in the XGBoost notebook, once we've deployed an endpoint it continues to run until we tell it to shut down. Since we are done using our endpoint for now, we can delete it."
   ]
  },
  {
   "cell_type": "code",
   "execution_count": 72,
   "metadata": {},
   "outputs": [],
   "source": [
    "estimator.delete_endpoint()"
   ]
  },
  {
   "cell_type": "markdown",
   "metadata": {},
   "source": [
    "## Step 6 (again) - Deploy the model for the web app\n",
    "\n",
    "Now that we know that our model is working, it's time to create some custom inference code so that we can send the model a review which has not been processed and have it determine the sentiment of the review.\n",
    "\n",
    "As we saw above, by default the estimator which we created, when deployed, will use the entry script and directory which we provided when creating the model. However, since we now wish to accept a string as input and our model expects a processed review, we need to write some custom inference code.\n",
    "\n",
    "We will store the code that we write in the `serve` directory. Provided in this directory is the `model.py` file that we used to construct our model, a `utils.py` file which contains the `review_to_words` and `convert_and_pad` pre-processing functions which we used during the initial data processing, and `predict.py`, the file which will contain our custom inference code. Note also that `requirements.txt` is present which will tell SageMaker what Python libraries are required by our custom inference code.\n",
    "\n",
    "When deploying a PyTorch model in SageMaker, you are expected to provide four functions which the SageMaker inference container will use.\n",
    " - `model_fn`: This function is the same function that we used in the training script and it tells SageMaker how to load our model.\n",
    " - `input_fn`: This function receives the raw serialized input that has been sent to the model's endpoint and its job is to de-serialize and make the input available for the inference code.\n",
    " - `output_fn`: This function takes the output of the inference code and its job is to serialize this output and return it to the caller of the model's endpoint.\n",
    " - `predict_fn`: The heart of the inference script, this is where the actual prediction is done and is the function which you will need to complete.\n",
    "\n",
    "For the simple website that we are constructing during this project, the `input_fn` and `output_fn` methods are relatively straightforward. We only require being able to accept a string as input and we expect to return a single value as output. You might imagine though that in a more complex application the input or output may be image data or some other binary data which would require some effort to serialize.\n",
    "\n",
    "### (TODO) Writing inference code\n",
    "\n",
    "Before writing our custom inference code, we will begin by taking a look at the code which has been provided."
   ]
  },
  {
   "cell_type": "code",
   "execution_count": 74,
   "metadata": {},
   "outputs": [
    {
     "name": "stdout",
     "output_type": "stream",
     "text": [
      "\u001b[34mimport\u001b[39;49;00m \u001b[04m\u001b[36margparse\u001b[39;49;00m\r\n",
      "\u001b[34mimport\u001b[39;49;00m \u001b[04m\u001b[36mjson\u001b[39;49;00m\r\n",
      "\u001b[34mimport\u001b[39;49;00m \u001b[04m\u001b[36mos\u001b[39;49;00m\r\n",
      "\u001b[34mimport\u001b[39;49;00m \u001b[04m\u001b[36mpickle\u001b[39;49;00m\r\n",
      "\u001b[34mimport\u001b[39;49;00m \u001b[04m\u001b[36msys\u001b[39;49;00m\r\n",
      "\u001b[34mimport\u001b[39;49;00m \u001b[04m\u001b[36msagemaker_containers\u001b[39;49;00m\r\n",
      "\u001b[34mimport\u001b[39;49;00m \u001b[04m\u001b[36mpandas\u001b[39;49;00m \u001b[34mas\u001b[39;49;00m \u001b[04m\u001b[36mpd\u001b[39;49;00m\r\n",
      "\u001b[34mimport\u001b[39;49;00m \u001b[04m\u001b[36mnumpy\u001b[39;49;00m \u001b[34mas\u001b[39;49;00m \u001b[04m\u001b[36mnp\u001b[39;49;00m\r\n",
      "\u001b[34mimport\u001b[39;49;00m \u001b[04m\u001b[36mtorch\u001b[39;49;00m\r\n",
      "\u001b[34mimport\u001b[39;49;00m \u001b[04m\u001b[36mtorch.nn\u001b[39;49;00m \u001b[34mas\u001b[39;49;00m \u001b[04m\u001b[36mnn\u001b[39;49;00m\r\n",
      "\u001b[34mimport\u001b[39;49;00m \u001b[04m\u001b[36mtorch.optim\u001b[39;49;00m \u001b[34mas\u001b[39;49;00m \u001b[04m\u001b[36moptim\u001b[39;49;00m\r\n",
      "\u001b[34mimport\u001b[39;49;00m \u001b[04m\u001b[36mtorch.utils.data\u001b[39;49;00m\r\n",
      "\r\n",
      "\u001b[34mfrom\u001b[39;49;00m \u001b[04m\u001b[36mmodel\u001b[39;49;00m \u001b[34mimport\u001b[39;49;00m LSTMClassifier\r\n",
      "\r\n",
      "\u001b[34mfrom\u001b[39;49;00m \u001b[04m\u001b[36mutils\u001b[39;49;00m \u001b[34mimport\u001b[39;49;00m review_to_words, convert_and_pad\r\n",
      "\r\n",
      "\u001b[34mdef\u001b[39;49;00m \u001b[32mmodel_fn\u001b[39;49;00m(model_dir):\r\n",
      "    \u001b[33m\"\"\"Load the PyTorch model from the `model_dir` directory.\"\"\"\u001b[39;49;00m\r\n",
      "    \u001b[34mprint\u001b[39;49;00m(\u001b[33m\"\u001b[39;49;00m\u001b[33mLoading model.\u001b[39;49;00m\u001b[33m\"\u001b[39;49;00m)\r\n",
      "\r\n",
      "    \u001b[37m# First, load the parameters used to create the model.\u001b[39;49;00m\r\n",
      "    model_info = {}\r\n",
      "    model_info_path = os.path.join(model_dir, \u001b[33m'\u001b[39;49;00m\u001b[33mmodel_info.pth\u001b[39;49;00m\u001b[33m'\u001b[39;49;00m)\r\n",
      "    \u001b[34mwith\u001b[39;49;00m \u001b[36mopen\u001b[39;49;00m(model_info_path, \u001b[33m'\u001b[39;49;00m\u001b[33mrb\u001b[39;49;00m\u001b[33m'\u001b[39;49;00m) \u001b[34mas\u001b[39;49;00m f:\r\n",
      "        model_info = torch.load(f)\r\n",
      "\r\n",
      "    \u001b[34mprint\u001b[39;49;00m(\u001b[33m\"\u001b[39;49;00m\u001b[33mmodel_info: {}\u001b[39;49;00m\u001b[33m\"\u001b[39;49;00m.format(model_info))\r\n",
      "\r\n",
      "    \u001b[37m# Determine the device and construct the model.\u001b[39;49;00m\r\n",
      "    device = torch.device(\u001b[33m\"\u001b[39;49;00m\u001b[33mcuda\u001b[39;49;00m\u001b[33m\"\u001b[39;49;00m \u001b[34mif\u001b[39;49;00m torch.cuda.is_available() \u001b[34melse\u001b[39;49;00m \u001b[33m\"\u001b[39;49;00m\u001b[33mcpu\u001b[39;49;00m\u001b[33m\"\u001b[39;49;00m)\r\n",
      "    model = LSTMClassifier(model_info[\u001b[33m'\u001b[39;49;00m\u001b[33membedding_dim\u001b[39;49;00m\u001b[33m'\u001b[39;49;00m], model_info[\u001b[33m'\u001b[39;49;00m\u001b[33mhidden_dim\u001b[39;49;00m\u001b[33m'\u001b[39;49;00m], model_info[\u001b[33m'\u001b[39;49;00m\u001b[33mvocab_size\u001b[39;49;00m\u001b[33m'\u001b[39;49;00m])\r\n",
      "\r\n",
      "    \u001b[37m# Load the store model parameters.\u001b[39;49;00m\r\n",
      "    model_path = os.path.join(model_dir, \u001b[33m'\u001b[39;49;00m\u001b[33mmodel.pth\u001b[39;49;00m\u001b[33m'\u001b[39;49;00m)\r\n",
      "    \u001b[34mwith\u001b[39;49;00m \u001b[36mopen\u001b[39;49;00m(model_path, \u001b[33m'\u001b[39;49;00m\u001b[33mrb\u001b[39;49;00m\u001b[33m'\u001b[39;49;00m) \u001b[34mas\u001b[39;49;00m f:\r\n",
      "        model.load_state_dict(torch.load(f))\r\n",
      "\r\n",
      "    \u001b[37m# Load the saved word_dict.\u001b[39;49;00m\r\n",
      "    word_dict_path = os.path.join(model_dir, \u001b[33m'\u001b[39;49;00m\u001b[33mword_dict.pkl\u001b[39;49;00m\u001b[33m'\u001b[39;49;00m)\r\n",
      "    \u001b[34mwith\u001b[39;49;00m \u001b[36mopen\u001b[39;49;00m(word_dict_path, \u001b[33m'\u001b[39;49;00m\u001b[33mrb\u001b[39;49;00m\u001b[33m'\u001b[39;49;00m) \u001b[34mas\u001b[39;49;00m f:\r\n",
      "        model.word_dict = pickle.load(f)\r\n",
      "\r\n",
      "    model.to(device).eval()\r\n",
      "\r\n",
      "    \u001b[34mprint\u001b[39;49;00m(\u001b[33m\"\u001b[39;49;00m\u001b[33mDone loading model.\u001b[39;49;00m\u001b[33m\"\u001b[39;49;00m)\r\n",
      "    \u001b[34mreturn\u001b[39;49;00m model\r\n",
      "\r\n",
      "\u001b[34mdef\u001b[39;49;00m \u001b[32minput_fn\u001b[39;49;00m(serialized_input_data, content_type):\r\n",
      "    \u001b[34mprint\u001b[39;49;00m(\u001b[33m'\u001b[39;49;00m\u001b[33mDeserializing the input data.\u001b[39;49;00m\u001b[33m'\u001b[39;49;00m)\r\n",
      "    \u001b[34mif\u001b[39;49;00m content_type == \u001b[33m'\u001b[39;49;00m\u001b[33mtext/plain\u001b[39;49;00m\u001b[33m'\u001b[39;49;00m:\r\n",
      "        data = serialized_input_data.decode(\u001b[33m'\u001b[39;49;00m\u001b[33mutf-8\u001b[39;49;00m\u001b[33m'\u001b[39;49;00m)\r\n",
      "        \u001b[34mreturn\u001b[39;49;00m data\r\n",
      "    \u001b[34mraise\u001b[39;49;00m \u001b[36mException\u001b[39;49;00m(\u001b[33m'\u001b[39;49;00m\u001b[33mRequested unsupported ContentType in content_type: \u001b[39;49;00m\u001b[33m'\u001b[39;49;00m + content_type)\r\n",
      "\r\n",
      "\u001b[34mdef\u001b[39;49;00m \u001b[32moutput_fn\u001b[39;49;00m(prediction_output, accept):\r\n",
      "    \u001b[34mprint\u001b[39;49;00m(\u001b[33m'\u001b[39;49;00m\u001b[33mSerializing the generated output.\u001b[39;49;00m\u001b[33m'\u001b[39;49;00m)\r\n",
      "    \u001b[34mreturn\u001b[39;49;00m \u001b[36mstr\u001b[39;49;00m(prediction_output)\r\n",
      "\r\n",
      "\u001b[34mdef\u001b[39;49;00m \u001b[32mpredict_fn\u001b[39;49;00m(input_data, model):\r\n",
      "    \u001b[34mprint\u001b[39;49;00m(\u001b[33m'\u001b[39;49;00m\u001b[33mInferring sentiment of input data.\u001b[39;49;00m\u001b[33m'\u001b[39;49;00m)\r\n",
      "\r\n",
      "    device = torch.device(\u001b[33m\"\u001b[39;49;00m\u001b[33mcuda\u001b[39;49;00m\u001b[33m\"\u001b[39;49;00m \u001b[34mif\u001b[39;49;00m torch.cuda.is_available() \u001b[34melse\u001b[39;49;00m \u001b[33m\"\u001b[39;49;00m\u001b[33mcpu\u001b[39;49;00m\u001b[33m\"\u001b[39;49;00m)\r\n",
      "    \r\n",
      "    \u001b[34mif\u001b[39;49;00m model.word_dict \u001b[35mis\u001b[39;49;00m \u001b[36mNone\u001b[39;49;00m:\r\n",
      "        \u001b[34mraise\u001b[39;49;00m \u001b[36mException\u001b[39;49;00m(\u001b[33m'\u001b[39;49;00m\u001b[33mModel has not been loaded properly, no word_dict.\u001b[39;49;00m\u001b[33m'\u001b[39;49;00m)\r\n",
      "    \r\n",
      "    \u001b[37m# TODO: Process input_data so that it is ready to be sent to our model.\u001b[39;49;00m\r\n",
      "    \u001b[37m#       You should produce two variables:\u001b[39;49;00m\r\n",
      "    \u001b[37m#         data_X   - A sequence of length 500 which represents the converted review\u001b[39;49;00m\r\n",
      "    \u001b[37m#         data_len - The length of the review\u001b[39;49;00m\r\n",
      "\r\n",
      "    words = review_to_words(input_data)\r\n",
      "    data_X, data_len = convert_and_pad(model.word_dict, words)\r\n",
      "\r\n",
      "    \u001b[37m# Using data_X and data_len we construct an appropriate input tensor. Remember\u001b[39;49;00m\r\n",
      "    \u001b[37m# that our model expects input data of the form 'len, review[500]'.\u001b[39;49;00m\r\n",
      "    data_pack = np.hstack((data_len, data_X))\r\n",
      "    data_pack = data_pack.reshape(\u001b[34m1\u001b[39;49;00m, -\u001b[34m1\u001b[39;49;00m)\r\n",
      "    \r\n",
      "    data = torch.from_numpy(data_pack)\r\n",
      "    data = data.to(device)\r\n",
      "\r\n",
      "    \u001b[37m# Make sure to put the model into evaluation mode\u001b[39;49;00m\r\n",
      "    model.eval()\r\n",
      "    \r\n",
      "    \u001b[34mwith\u001b[39;49;00m torch.no_grad():\r\n",
      "        output = model.forward(data)\r\n",
      "\r\n",
      "    result = np.round(output.numpy())\r\n",
      "\r\n",
      "    \u001b[37m# TODO: Compute the result of applying the model to the input data. The variable `result` should\u001b[39;49;00m\r\n",
      "    \u001b[37m#       be a numpy array which contains a single integer which is either 1 or 0\u001b[39;49;00m\r\n",
      "\r\n",
      "    \r\n",
      "    \u001b[34mreturn\u001b[39;49;00m result\r\n"
     ]
    }
   ],
   "source": [
    "!pygmentize serve/predict.py"
   ]
  },
  {
   "cell_type": "markdown",
   "metadata": {},
   "source": [
    "As mentioned earlier, the `model_fn` method is the same as the one provided in the training code and the `input_fn` and `output_fn` methods are very simple and your task will be to complete the `predict_fn` method. Make sure that you save the completed file as `predict.py` in the `serve` directory.\n",
    "\n",
    "**TODO**: Complete the `predict_fn()` method in the `serve/predict.py` file."
   ]
  },
  {
   "cell_type": "markdown",
   "metadata": {},
   "source": [
    "### Deploying the model\n",
    "\n",
    "Now that the custom inference code has been written, we will create and deploy our model. To begin with, we need to construct a new PyTorchModel object which points to the model artifacts created during training and also points to the inference code that we wish to use. Then we can call the deploy method to launch the deployment container.\n",
    "\n",
    "**NOTE**: The default behaviour for a deployed PyTorch model is to assume that any input passed to the predictor is a `numpy` array. In our case we want to send a string so we need to construct a simple wrapper around the `RealTimePredictor` class to accomodate simple strings. In a more complicated situation you may want to provide a serialization object, for example if you wanted to sent image data."
   ]
  },
  {
   "cell_type": "code",
   "execution_count": 75,
   "metadata": {},
   "outputs": [
    {
     "name": "stdout",
     "output_type": "stream",
     "text": [
      "--------------------------------------------------------------------------------------!"
     ]
    }
   ],
   "source": [
    "from sagemaker.predictor import RealTimePredictor\n",
    "from sagemaker.pytorch import PyTorchModel\n",
    "\n",
    "class StringPredictor(RealTimePredictor):\n",
    "    def __init__(self, endpoint_name, sagemaker_session):\n",
    "        super(StringPredictor, self).__init__(endpoint_name, sagemaker_session, content_type='text/plain')\n",
    "\n",
    "model = PyTorchModel(model_data=estimator.model_data,\n",
    "                     role = role,\n",
    "                     framework_version='0.4.0',\n",
    "                     entry_point='predict.py',\n",
    "                     source_dir='serve',\n",
    "                     predictor_cls=StringPredictor)\n",
    "predictor = model.deploy(initial_instance_count=1, instance_type='ml.m4.xlarge')"
   ]
  },
  {
   "cell_type": "markdown",
   "metadata": {},
   "source": [
    "### Testing the model\n",
    "\n",
    "Now that we have deployed our model with the custom inference code, we should test to see if everything is working. Here we test our model by loading the first `250` positive and negative reviews and send them to the endpoint, then collect the results. The reason for only sending some of the data is that the amount of time it takes for our model to process the input and then perform inference is quite long and so testing the entire data set would be prohibitive."
   ]
  },
  {
   "cell_type": "code",
   "execution_count": 76,
   "metadata": {},
   "outputs": [],
   "source": [
    "import glob\n",
    "\n",
    "def test_reviews(data_dir='../data/aclImdb', stop=250):\n",
    "    \n",
    "    results = []\n",
    "    ground = []\n",
    "    \n",
    "    # We make sure to test both positive and negative reviews    \n",
    "    for sentiment in ['pos', 'neg']:\n",
    "        \n",
    "        path = os.path.join(data_dir, 'test', sentiment, '*.txt')\n",
    "        files = glob.glob(path)\n",
    "        \n",
    "        files_read = 0\n",
    "        \n",
    "        print('Starting ', sentiment, ' files')\n",
    "        \n",
    "        # Iterate through the files and send them to the predictor\n",
    "        for f in files:\n",
    "            with open(f) as review:\n",
    "                # First, we store the ground truth (was the review positive or negative)\n",
    "                if sentiment == 'pos':\n",
    "                    ground.append(1)\n",
    "                else:\n",
    "                    ground.append(0)\n",
    "                # Read in the review and convert to 'utf-8' for transmission via HTTP\n",
    "                review_input = review.read().encode('utf-8')\n",
    "                # Send the review to the predictor and store the results\n",
    "                results.append(float(predictor.predict(review_input)))\n",
    "                \n",
    "            # Sending reviews to our endpoint one at a time takes a while so we\n",
    "            # only send a small number of reviews\n",
    "            files_read += 1\n",
    "            if files_read == stop:\n",
    "                break\n",
    "            \n",
    "    return ground, results"
   ]
  },
  {
   "cell_type": "code",
   "execution_count": 77,
   "metadata": {},
   "outputs": [
    {
     "name": "stdout",
     "output_type": "stream",
     "text": [
      "Starting  pos  files\n",
      "Starting  neg  files\n"
     ]
    }
   ],
   "source": [
    "ground, results = test_reviews()"
   ]
  },
  {
   "cell_type": "code",
   "execution_count": 78,
   "metadata": {},
   "outputs": [
    {
     "data": {
      "text/plain": [
       "0.854"
      ]
     },
     "execution_count": 78,
     "metadata": {},
     "output_type": "execute_result"
    }
   ],
   "source": [
    "from sklearn.metrics import accuracy_score\n",
    "accuracy_score(ground, results)"
   ]
  },
  {
   "cell_type": "markdown",
   "metadata": {},
   "source": [
    "As an additional test, we can try sending the `test_review` that we looked at earlier."
   ]
  },
  {
   "cell_type": "code",
   "execution_count": 79,
   "metadata": {},
   "outputs": [
    {
     "data": {
      "text/plain": [
       "b'1.0'"
      ]
     },
     "execution_count": 79,
     "metadata": {},
     "output_type": "execute_result"
    }
   ],
   "source": [
    "predictor.predict(test_review)"
   ]
  },
  {
   "cell_type": "markdown",
   "metadata": {},
   "source": [
    "Now that we know our endpoint is working as expected, we can set up the web page that will interact with it. If you don't have time to finish the project now, make sure to skip down to the end of this notebook and shut down your endpoint. You can deploy it again when you come back."
   ]
  },
  {
   "cell_type": "markdown",
   "metadata": {},
   "source": [
    "## Step 7 (again): Use the model for the web app\n",
    "\n",
    "> **TODO:** This entire section and the next contain tasks for you to complete, mostly using the AWS console.\n",
    "\n",
    "So far we have been accessing our model endpoint by constructing a predictor object which uses the endpoint and then just using the predictor object to perform inference. What if we wanted to create a web app which accessed our model? The way things are set up currently makes that not possible since in order to access a SageMaker endpoint the app would first have to authenticate with AWS using an IAM role which included access to SageMaker endpoints. However, there is an easier way! We just need to use some additional AWS services.\n",
    "\n",
    "<img src=\"Web App Diagram.svg\">\n",
    "\n",
    "The diagram above gives an overview of how the various services will work together. On the far right is the model which we trained above and which is deployed using SageMaker. On the far left is our web app that collects a user's movie review, sends it off and expects a positive or negative sentiment in return.\n",
    "\n",
    "In the middle is where some of the magic happens. We will construct a Lambda function, which you can think of as a straightforward Python function that can be executed whenever a specified event occurs. We will give this function permission to send and recieve data from a SageMaker endpoint.\n",
    "\n",
    "Lastly, the method we will use to execute the Lambda function is a new endpoint that we will create using API Gateway. This endpoint will be a url that listens for data to be sent to it. Once it gets some data it will pass that data on to the Lambda function and then return whatever the Lambda function returns. Essentially it will act as an interface that lets our web app communicate with the Lambda function.\n",
    "\n",
    "### Setting up a Lambda function\n",
    "\n",
    "The first thing we are going to do is set up a Lambda function. This Lambda function will be executed whenever our public API has data sent to it. When it is executed it will receive the data, perform any sort of processing that is required, send the data (the review) to the SageMaker endpoint we've created and then return the result.\n",
    "\n",
    "#### Part A: Create an IAM Role for the Lambda function\n",
    "\n",
    "Since we want the Lambda function to call a SageMaker endpoint, we need to make sure that it has permission to do so. To do this, we will construct a role that we can later give the Lambda function.\n",
    "\n",
    "Using the AWS Console, navigate to the **IAM** page and click on **Roles**. Then, click on **Create role**. Make sure that the **AWS service** is the type of trusted entity selected and choose **Lambda** as the service that will use this role, then click **Next: Permissions**.\n",
    "\n",
    "In the search box type `sagemaker` and select the check box next to the **AmazonSageMakerFullAccess** policy. Then, click on **Next: Review**.\n",
    "\n",
    "Lastly, give this role a name. Make sure you use a name that you will remember later on, for example `LambdaSageMakerRole`. Then, click on **Create role**.\n",
    "\n",
    "#### Part B: Create a Lambda function\n",
    "\n",
    "Now it is time to actually create the Lambda function.\n",
    "\n",
    "Using the AWS Console, navigate to the AWS Lambda page and click on **Create a function**. When you get to the next page, make sure that **Author from scratch** is selected. Now, name your Lambda function, using a name that you will remember later on, for example `sentiment_analysis_func`. Make sure that the **Python 3.6** runtime is selected and then choose the role that you created in the previous part. Then, click on **Create Function**.\n",
    "\n",
    "On the next page you will see some information about the Lambda function you've just created. If you scroll down you should see an editor in which you can write the code that will be executed when your Lambda function is triggered. In our example, we will use the code below. \n",
    "\n",
    "```python\n",
    "# We need to use the low-level library to interact with SageMaker since the SageMaker API\n",
    "# is not available natively through Lambda.\n",
    "import boto3\n",
    "\n",
    "def lambda_handler(event, context):\n",
    "\n",
    "    # The SageMaker runtime is what allows us to invoke the endpoint that we've created.\n",
    "    runtime = boto3.Session().client('sagemaker-runtime')\n",
    "\n",
    "    # Now we use the SageMaker runtime to invoke our endpoint, sending the review we were given\n",
    "    response = runtime.invoke_endpoint(EndpointName = 'sagemaker-pytorch-2019-11-09-13-39-56-340',    # The name of the endpoint we created\n",
    "                                       ContentType = 'text/plain',                 # The data format that is expected\n",
    "                                       Body = event['body'])                       # The actual review\n",
    "\n",
    "    # The response is an HTTP response whose body contains the result of our inference\n",
    "    result = response['Body'].read().decode('utf-8')\n",
    "\n",
    "    return {\n",
    "        'statusCode' : 200,\n",
    "        'headers' : { 'Content-Type' : 'text/plain', 'Access-Control-Allow-Origin' : '*' },\n",
    "        'body' : result\n",
    "    }\n",
    "```\n",
    "\n",
    "Once you have copy and pasted the code above into the Lambda code editor, replace the `**ENDPOINT NAME HERE**` portion with the name of the endpoint that we deployed earlier. You can determine the name of the endpoint using the code cell below."
   ]
  },
  {
   "cell_type": "code",
   "execution_count": 80,
   "metadata": {},
   "outputs": [
    {
     "data": {
      "text/plain": [
       "'sagemaker-pytorch-2019-11-09-13-39-56-340'"
      ]
     },
     "execution_count": 80,
     "metadata": {},
     "output_type": "execute_result"
    }
   ],
   "source": [
    "predictor.endpoint"
   ]
  },
  {
   "cell_type": "markdown",
   "metadata": {},
   "source": [
    "Once you have added the endpoint name to the Lambda function, click on **Save**. Your Lambda function is now up and running. Next we need to create a way for our web app to execute the Lambda function.\n",
    "\n",
    "### Setting up API Gateway\n",
    "\n",
    "Now that our Lambda function is set up, it is time to create a new API using API Gateway that will trigger the Lambda function we have just created.\n",
    "\n",
    "Using AWS Console, navigate to **Amazon API Gateway** and then click on **Get started**.\n",
    "\n",
    "On the next page, make sure that **New API** is selected and give the new api a name, for example, `sentiment_analysis_api`. Then, click on **Create API**.\n",
    "\n",
    "Now we have created an API, however it doesn't currently do anything. What we want it to do is to trigger the Lambda function that we created earlier.\n",
    "\n",
    "Select the **Actions** dropdown menu and click **Create Method**. A new blank method will be created, select its dropdown menu and select **POST**, then click on the check mark beside it.\n",
    "\n",
    "For the integration point, make sure that **Lambda Function** is selected and click on the **Use Lambda Proxy integration**. This option makes sure that the data that is sent to the API is then sent directly to the Lambda function with no processing. It also means that the return value must be a proper response object as it will also not be processed by API Gateway.\n",
    "\n",
    "Type the name of the Lambda function you created earlier into the **Lambda Function** text entry box and then click on **Save**. Click on **OK** in the pop-up box that then appears, giving permission to API Gateway to invoke the Lambda function you created.\n",
    "\n",
    "The last step in creating the API Gateway is to select the **Actions** dropdown and click on **Deploy API**. You will need to create a new Deployment stage and name it anything you like, for example `prod`.\n",
    "\n",
    "You have now successfully set up a public API to access your SageMaker model. Make sure to copy or write down the URL provided to invoke your newly created public API as this will be needed in the next step. This URL can be found at the top of the page, highlighted in blue next to the text **Invoke URL**."
   ]
  },
  {
   "cell_type": "markdown",
   "metadata": {},
   "source": [
    "## Step 4: Deploying our web app\n",
    "\n",
    "Now that we have a publicly available API, we can start using it in a web app. For our purposes, we have provided a simple static html file which can make use of the public api you created earlier.\n",
    "\n",
    "In the `website` folder there should be a file called `index.html`. Download the file to your computer and open that file up in a text editor of your choice. There should be a line which contains **\\*\\*REPLACE WITH PUBLIC API URL\\*\\***. Replace this string with the url that you wrote down in the last step and then save the file.\n",
    "\n",
    "Now, if you open `index.html` on your local computer, your browser will behave as a local web server and you can use the provided site to interact with your SageMaker model.\n",
    "\n",
    "If you'd like to go further, you can host this html file anywhere you'd like, for example using github or hosting a static site on Amazon's S3. Once you have done this you can share the link with anyone you'd like and have them play with it too!\n",
    "\n",
    "> **Important Note** In order for the web app to communicate with the SageMaker endpoint, the endpoint has to actually be deployed and running. This means that you are paying for it. Make sure that the endpoint is running when you want to use the web app but that you shut it down when you don't need it, otherwise you will end up with a surprisingly large AWS bill.\n",
    "\n",
    "**TODO:** Make sure that you include the edited `index.html` file in your project submission."
   ]
  },
  {
   "cell_type": "markdown",
   "metadata": {},
   "source": [
    "Now that your web app is working, trying playing around with it and see how well it works.\n",
    "\n",
    "**Question**: Give an example of a review that you entered into your web app. What was the predicted sentiment of your example review?"
   ]
  },
  {
   "cell_type": "markdown",
   "metadata": {},
   "source": [
    "**Answer:** ***Review 1:*** The movie was just too disgusting and trashlike for my liking. (Response: Negative)\n",
    "***Review 2:*** The movie was thrilling and I enjoyed every bit of it. (Respone: Positive)"
   ]
  },
  {
   "cell_type": "markdown",
   "metadata": {},
   "source": [
    "### Delete the endpoint\n",
    "\n",
    "Remember to always shut down your endpoint if you are no longer using it. You are charged for the length of time that the endpoint is running so if you forget and leave it on you could end up with an unexpectedly large bill."
   ]
  },
  {
   "cell_type": "code",
   "execution_count": 81,
   "metadata": {},
   "outputs": [],
   "source": [
    "predictor.delete_endpoint()"
   ]
  },
  {
   "cell_type": "code",
   "execution_count": null,
   "metadata": {},
   "outputs": [],
   "source": []
  }
 ],
 "metadata": {
  "kernelspec": {
   "display_name": "conda_pytorch_p36",
   "language": "python",
   "name": "conda_pytorch_p36"
  },
  "language_info": {
   "codemirror_mode": {
    "name": "ipython",
    "version": 3
   },
   "file_extension": ".py",
   "mimetype": "text/x-python",
   "name": "python",
   "nbconvert_exporter": "python",
   "pygments_lexer": "ipython3",
   "version": "3.6.5"
  }
 },
 "nbformat": 4,
 "nbformat_minor": 2
}
